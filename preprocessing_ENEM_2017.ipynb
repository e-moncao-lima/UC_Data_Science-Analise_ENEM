{
  "nbformat": 4,
  "nbformat_minor": 0,
  "metadata": {
    "colab": {
      "name": "preprocessing_ENEM_2017.ipynb",
      "provenance": [],
      "collapsed_sections": []
    },
    "kernelspec": {
      "name": "python3",
      "display_name": "Python 3"
    }
  },
  "cells": [
    {
      "cell_type": "markdown",
      "metadata": {
        "id": "5N1t_K1QjAzf"
      },
      "source": [
        "# **ANÁLISE DOS MICRODADOS DO ENEM 2017**\n",
        "\n",
        "\n",
        "\n",
        "\n"
      ]
    },
    {
      "cell_type": "markdown",
      "metadata": {
        "id": "dRu_a9dcoWjW"
      },
      "source": [
        "O objetivo é realizar uma análise quantitativa sobre a dinâmica dos perfis inscritos no ENEM 2017, tendo em vista as condições socioeconômicas ou quaisquer outras características que possam ser o reflexo do cenário socioeconômico nacional.\n",
        "\n",
        "Os dados estão no Google Drive, portanto, é necessário que seja montado. É possível fazer isso acessando o último item do menu lateral da página inicial (Arquivos) e clicando em \"Montar Drive\" representado por um símbolo de uma pasta com a logo do Google Drive.\n",
        "Outra forma é seguindo as instruções da célula abaixo."
      ]
    },
    {
      "cell_type": "code",
      "metadata": {
        "id": "0hpoaG592ru2",
        "colab": {
          "base_uri": "https://localhost:8080/"
        },
        "outputId": "39b483e3-4610-4b94-f222-8d005d48ee94"
      },
      "source": [
        "## Caso o Google Drive não estiver montado ainda, retirar os comentários das linhas de código abaixo\n",
        "## (aquelas que possuem somente um '#').\n",
        "\n",
        "## ATENÇÃO! Aparecerá um link externo seguro provido automaticamente pelo Google Colab para que seja \n",
        "## gerado o código de autenticação necessário para o acesso ao Drive.\n",
        "\n",
        "## Linhas de código a descomentar:\n",
        "\n",
        "from google.colab import drive\n",
        "drive.mount(\"/content/drive\")"
      ],
      "execution_count": 1,
      "outputs": [
        {
          "output_type": "stream",
          "text": [
            "Drive already mounted at /content/drive; to attempt to forcibly remount, call drive.mount(\"/content/drive\", force_remount=True).\n"
          ],
          "name": "stdout"
        }
      ]
    },
    {
      "cell_type": "markdown",
      "metadata": {
        "id": "tInEpLX7UPNV"
      },
      "source": [
        "# Bibliotecas\n",
        "\n"
      ]
    },
    {
      "cell_type": "markdown",
      "metadata": {
        "id": "Ok2eNfJt6QZL"
      },
      "source": [
        "Bibliotecas utilizadas:\n",
        "\n",
        "- *pandas*: para carregar os dados em um dataframe.\n",
        "\n",
        "- *numpy*: para realizar operações numéricas\n",
        "\n",
        "- *seaborn*: para plotar gráficos estatisticos\n",
        "\n",
        "- *matplotlib*: para plotar gráficos\n",
        "\n",
        "\n",
        "\n",
        "- *zipfile*: para descompactar arquivos\n",
        "\n",
        "- *string*: para manipular strings"
      ]
    },
    {
      "cell_type": "code",
      "metadata": {
        "id": "mWqiqos6te5b"
      },
      "source": [
        "import pandas as pd\n",
        "import numpy as np\n",
        "import seaborn as sns\n",
        "import matplotlib.pyplot as plt\n",
        "\n",
        "from zipfile import ZipFile\n",
        "import string"
      ],
      "execution_count": 2,
      "outputs": []
    },
    {
      "cell_type": "markdown",
      "metadata": {
        "id": "-wR2VtgUVGSx"
      },
      "source": [
        "# Coleta e Pré-processamento de Dados"
      ]
    },
    {
      "cell_type": "markdown",
      "metadata": {
        "id": "kebZWF_v6LaU"
      },
      "source": [
        "Extraindo o arquivo .csv da pasta .zip contendo microdados do ENEM 2017\n"
      ]
    },
    {
      "cell_type": "code",
      "metadata": {
        "id": "DeJYeRciVFZu"
      },
      "source": [
        "# complete original file stored on this Drive \n",
        "zipdata_path = '/content/drive/My Drive/Colab Notebooks/Dados/microdados_enem_2017.zip'\n",
        "\n",
        "with ZipFile(zipdata_path, 'r') as zipfile:\n",
        "  zipfile.extract('Microdados Enem 2017/DADOS/MICRODADOS_ENEM_2017.csv')"
      ],
      "execution_count": 3,
      "outputs": []
    },
    {
      "cell_type": "markdown",
      "metadata": {
        "id": "18XjQQNbVNPa"
      },
      "source": [
        "Recebendo os dados do arquivo .csv. Será dividido em partes (*chunks*) visto que o arquivo é grande."
      ]
    },
    {
      "cell_type": "code",
      "metadata": {
        "id": "eIQlbjRIFUlr"
      },
      "source": [
        "data_path = '/content/Microdados Enem 2017/DADOS/MICRODADOS_ENEM_2017.csv'\n",
        "chunk_enem2017 = pd.read_csv(data_path, sep=';', chunksize=1000000, encoding='latin-1')   # a codificacao do arquivo nao e a padrao UTF-8 "
      ],
      "execution_count": 4,
      "outputs": []
    },
    {
      "cell_type": "markdown",
      "metadata": {
        "id": "7I_Vyu4Vvnkq"
      },
      "source": [
        "Pré-processando cada *chunk* antes de concatenar todos num só dataframe.\n"
      ]
    },
    {
      "cell_type": "code",
      "metadata": {
        "id": "Lh-d-Fzyo76L"
      },
      "source": [
        "def preprocessing_chunk(chunk):\n",
        "\n",
        "  columns_to_drop = ['CO_MUNICIPIO_RESIDENCIA', 'NO_MUNICIPIO_RESIDENCIA', 'SG_UF_RESIDENCIA',\n",
        "                   'CO_MUNICIPIO_NASCIMENTO', 'CO_UF_NASCIMENTO', 'SG_UF_NASCIMENTO', 'NO_MUNICIPIO_NASCIMENTO',\n",
        "                   'CO_ESCOLA', 'CO_MUNICIPIO_ESC', 'NO_MUNICIPIO_ESC','CO_UF_ESC', 'SG_UF_ESC',\n",
        "                   'CO_MUNICIPIO_PROVA', 'NO_MUNICIPIO_PROVA', 'CO_UF_PROVA', 'SG_UF_PROVA', 'CO_PROVA_CN',\n",
        "                   'TP_LINGUA', 'CO_PROVA_CH', 'CO_PROVA_LC', 'CO_PROVA_MT', 'NU_NOTA_COMP1', 'NU_NOTA_COMP2', \n",
        "                   'NU_NOTA_COMP3', 'NU_NOTA_COMP4', 'NU_NOTA_COMP5', 'TX_RESPOSTAS_CN', 'TX_RESPOSTAS_CH',\n",
        "                   'TX_RESPOSTAS_LC', 'TX_RESPOSTAS_MT', 'TX_GABARITO_CN', 'TX_GABARITO_CH', 'TX_GABARITO_LC',\n",
        "                   'TX_GABARITO_MT', 'TP_PRESENCA_CN', 'TP_PRESENCA_CH', 'TP_PRESENCA_LC', 'TP_PRESENCA_MT',\n",
        "                   'TP_STATUS_REDACAO', 'Q026', 'Q027']  \n",
        "\n",
        "  # excluindo os ausentes na prova\n",
        "  df_presentes = chunk[chunk.TP_PRESENCA_CN==1]\n",
        "  df_presentes = df_presentes[df_presentes.TP_PRESENCA_CH==1]\n",
        "  df_presentes = df_presentes[df_presentes.TP_PRESENCA_LC==1]\n",
        "  df_presentes = df_presentes[df_presentes.TP_PRESENCA_MT==1]\n",
        "  df_presentes = df_presentes[df_presentes.TP_STATUS_REDACAO==1]\n",
        "  \n",
        "  # excluindo colunas desnecessarias\n",
        "  df = df_presentes.drop(labels=columns_to_drop, axis=1)\n",
        "\n",
        "  print(df.shape)\n",
        "  return df"
      ],
      "execution_count": 5,
      "outputs": []
    },
    {
      "cell_type": "markdown",
      "metadata": {
        "id": "5BlSCPmo1eA1"
      },
      "source": [
        "Concatenando as partes pre-processadas"
      ]
    },
    {
      "cell_type": "code",
      "metadata": {
        "id": "4Vc1n6-UFVwI",
        "colab": {
          "base_uri": "https://localhost:8080/"
        },
        "outputId": "cbcc3318-7026-4675-98b1-44bdda01999f"
      },
      "source": [
        "%%time\n",
        "list_enem2017 = []\n",
        "\n",
        "for chunk in chunk_enem2017:\n",
        "  chunk_preprocessed = preprocessing_chunk(chunk)\n",
        "  list_enem2017.append(chunk_preprocessed)\n",
        "df_enem2017 = pd.concat(list_enem2017)"
      ],
      "execution_count": 6,
      "outputs": [
        {
          "output_type": "stream",
          "text": [
            "(708713, 96)\n",
            "(691840, 96)\n",
            "(675525, 96)\n",
            "(651894, 96)\n",
            "(590669, 96)\n",
            "(524398, 96)\n",
            "(329960, 96)\n",
            "CPU times: user 2min 4s, sys: 14 s, total: 2min 18s\n",
            "Wall time: 2min 19s\n"
          ],
          "name": "stdout"
        }
      ]
    },
    {
      "cell_type": "code",
      "metadata": {
        "id": "PsDJc2qBvLd3",
        "colab": {
          "base_uri": "https://localhost:8080/"
        },
        "outputId": "47b2cf7f-7561-4abf-cc9e-c3228eecaacf"
      },
      "source": [
        "df_enem2017.shape"
      ],
      "execution_count": 7,
      "outputs": [
        {
          "output_type": "execute_result",
          "data": {
            "text/plain": [
              "(4172999, 96)"
            ]
          },
          "metadata": {
            "tags": []
          },
          "execution_count": 7
        }
      ]
    },
    {
      "cell_type": "code",
      "metadata": {
        "id": "FjrsWgsNaYph",
        "colab": {
          "base_uri": "https://localhost:8080/"
        },
        "outputId": "177716b8-6dcb-48e4-d180-f05500a27451"
      },
      "source": [
        "%%time\n",
        "## change data types (to save up memory usage)    \n",
        "# Economiza em torno de 1 GB RAM - quase metade\n",
        "list_col_dtype = [col for col in df_enem2017.columns]\n",
        "\n",
        "for col in df_enem2017.columns:\n",
        "   if df_enem2017[col].dtypes == np.int64 and col != 'NU_INSCRICAO':\n",
        "     df_enem2017[col] = df_enem2017[col].astype(np.int32)\n",
        "   elif df_enem2017[col].dtypes == np.float64:\n",
        "     df_enem2017[col] = df_enem2017[col].astype(np.float32)"
      ],
      "execution_count": 8,
      "outputs": [
        {
          "output_type": "stream",
          "text": [
            "CPU times: user 10.7 s, sys: 2.19 s, total: 12.9 s\n",
            "Wall time: 13 s\n"
          ],
          "name": "stdout"
        }
      ]
    },
    {
      "cell_type": "markdown",
      "metadata": {
        "id": "giZtr_i4-RLi"
      },
      "source": [
        "# Exploratory Data Analysis"
      ]
    },
    {
      "cell_type": "markdown",
      "metadata": {
        "id": "rtIVodFUiBxF"
      },
      "source": [
        "## Configurando coluna de notas"
      ]
    },
    {
      "cell_type": "markdown",
      "metadata": {
        "id": "drIG01p9eDEQ"
      },
      "source": [
        "Criando uma coluna com a media das notas das 4 provas e redação"
      ]
    },
    {
      "cell_type": "code",
      "metadata": {
        "id": "ThynEVBaehm8"
      },
      "source": [
        "df_enem2017['NU_MEDIA_NOTAS'] = df_enem2017[['NU_NOTA_CN', 'NU_NOTA_CH', \n",
        "                                             'NU_NOTA_LC', 'NU_NOTA_MT',\n",
        "                                             'NU_NOTA_REDACAO']].mean(axis=1, skipna=False)"
      ],
      "execution_count": 9,
      "outputs": []
    },
    {
      "cell_type": "markdown",
      "metadata": {
        "id": "so_OyOZdv6-p"
      },
      "source": [
        "Apagando as colunas das notas para economizar espaço no disco"
      ]
    },
    {
      "cell_type": "code",
      "metadata": {
        "id": "hdi4gVULv57z"
      },
      "source": [
        "df_enem2017 = df_enem2017.drop(labels=['NU_NOTA_CN', 'NU_NOTA_CH',\n",
        "                                       'NU_NOTA_LC', 'NU_NOTA_MT',\n",
        "                                       'NU_NOTA_REDACAO'], axis=1)"
      ],
      "execution_count": 10,
      "outputs": []
    },
    {
      "cell_type": "code",
      "metadata": {
        "id": "C_-uvXd9EZNZ",
        "colab": {
          "base_uri": "https://localhost:8080/"
        },
        "outputId": "1c310af0-cd5e-49b8-d391-7619704ffca6"
      },
      "source": [
        "df_enem2017['NU_MEDIA_NOTAS'].isna().sum()"
      ],
      "execution_count": 11,
      "outputs": [
        {
          "output_type": "execute_result",
          "data": {
            "text/plain": [
              "0"
            ]
          },
          "metadata": {
            "tags": []
          },
          "execution_count": 11
        }
      ]
    },
    {
      "cell_type": "code",
      "metadata": {
        "id": "lVMIk-HVN2b0"
      },
      "source": [
        "# Excluir caso haja alguma média NaN\n",
        "# df_enem2017.dropna(subset=['NU_MEDIA_NOTAS'], inplace=True)"
      ],
      "execution_count": 12,
      "outputs": []
    },
    {
      "cell_type": "markdown",
      "metadata": {
        "id": "sd6p51HnYquE"
      },
      "source": [
        "## Agrupando e Codificando Dados "
      ]
    },
    {
      "cell_type": "markdown",
      "metadata": {
        "id": "pBO85v5cb-6t"
      },
      "source": [
        "Indicador de pedido de atendimento especializado"
      ]
    },
    {
      "cell_type": "code",
      "metadata": {
        "id": "DIyXuuFqZVVY"
      },
      "source": [
        "list_especial = ['IN_BAIXA_VISAO', 'IN_CEGUEIRA', 'IN_SURDEZ', 'IN_DEFICIENCIA_AUDITIVA',\n",
        "                 'IN_SURDO_CEGUEIRA', 'IN_DEFICIENCIA_FISICA', 'IN_DEFICIENCIA_MENTAL',\n",
        "                 'IN_DEFICIT_ATENCAO', 'IN_DISLEXIA', 'IN_DISCALCULIA', 'IN_AUTISMO',\n",
        "                 'IN_VISAO_MONOCULAR', 'IN_OUTRA_DEF']\n",
        "\n",
        "df_enem2017['IN_ATEND_ESPECIALIZADO'] = df_enem2017.loc[:, list_especial].max(1)"
      ],
      "execution_count": 13,
      "outputs": []
    },
    {
      "cell_type": "markdown",
      "metadata": {
        "id": "Ogz6v8fqdCb1"
      },
      "source": [
        "Indicador de pedido de atendimento especifico"
      ]
    },
    {
      "cell_type": "code",
      "metadata": {
        "id": "jVrPJwx0dHaU"
      },
      "source": [
        "list_especifico = ['IN_GESTANTE', 'IN_LACTANTE', 'IN_IDOSO', 'IN_ESTUDA_CLASSE_HOSPITALAR']\n",
        "\n",
        "df_enem2017['IN_ATEND_ESPECIFICO'] = df_enem2017.loc[:, list_especifico].max(1)"
      ],
      "execution_count": 14,
      "outputs": []
    },
    {
      "cell_type": "markdown",
      "metadata": {
        "id": "T7GpuyAndzoV"
      },
      "source": [
        "Indicador de pedidos de recursos especializados e especificos para a realizacao das provas"
      ]
    },
    {
      "cell_type": "code",
      "metadata": {
        "id": "4BZe3hO6eBC0"
      },
      "source": [
        "list_recurso = ['IN_BRAILLE', 'IN_AMPLIADA_24', 'IN_AMPLIADA_18', 'IN_LEDOR', 'IN_ACESSO',\n",
        "                'IN_TRANSCRICAO', 'IN_LIBRAS', 'IN_LEITURA_LABIAL',\n",
        "                'IN_MESA_CADEIRA_RODAS', 'IN_MESA_CADEIRA_SEPARADA', 'IN_APOIO_PERNA',\n",
        "                'IN_GUIA_INTERPRETE', 'IN_COMPUTADOR', 'IN_CADEIRA_ESPECIAL',\n",
        "                'IN_CADEIRA_CANHOTO', 'IN_CADEIRA_ACOLCHOADA', 'IN_PROVA_DEITADO',\n",
        "                'IN_MOBILIARIO_OBESO', 'IN_LAMINA_OVERLAY', 'IN_PROTETOR_AURICULAR',\n",
        "                'IN_MEDIDOR_GLICOSE', 'IN_MAQUINA_BRAILE', 'IN_SOROBAN', 'IN_MARCA_PASSO',\n",
        "                'IN_SONDA', 'IN_MEDICAMENTOS', 'IN_SALA_INDIVIDUAL', 'IN_SALA_ESPECIAL',\n",
        "                'IN_SALA_ACOMPANHANTE', 'IN_MOBILIARIO_ESPECIFICO', 'IN_MATERIAL_ESPECIFICO',\n",
        "                'IN_NOME_SOCIAL']\n",
        "\n",
        "# Como ja existe uma coluna 'IN_SEM_RECURSO' que indica se o inscrito\n",
        "# fez ou nao um pedido de recurso especial ou especifico, basta apagar\n",
        "# as outras colunas\n",
        "df_enem2017.drop(labels=list_recurso, axis =1, inplace=True)"
      ],
      "execution_count": 15,
      "outputs": []
    },
    {
      "cell_type": "code",
      "metadata": {
        "id": "0QHl88UdkDsV"
      },
      "source": [
        "df_enem2017.drop(labels=list_especial, axis=1, inplace=True)\n",
        "df_enem2017.drop(labels=list_especifico, axis=1, inplace=True)"
      ],
      "execution_count": 16,
      "outputs": []
    },
    {
      "cell_type": "code",
      "metadata": {
        "id": "PmCnx7j-iY-Z",
        "colab": {
          "base_uri": "https://localhost:8080/"
        },
        "outputId": "bc496b69-f945-440c-d91f-538ab633b23b"
      },
      "source": [
        "df_enem2017.shape   # Reduziu drasticamente as dimensoes"
      ],
      "execution_count": 17,
      "outputs": [
        {
          "output_type": "execute_result",
          "data": {
            "text/plain": [
              "(4172999, 45)"
            ]
          },
          "metadata": {
            "tags": []
          },
          "execution_count": 17
        }
      ]
    },
    {
      "cell_type": "markdown",
      "metadata": {
        "id": "VU4AqF9C6s59"
      },
      "source": [
        "Vendo a proporção de dados não respondidos ou não informados"
      ]
    },
    {
      "cell_type": "code",
      "metadata": {
        "colab": {
          "base_uri": "https://localhost:8080/"
        },
        "id": "UKQPJ7_M9YxM",
        "outputId": "d774ad94-7ebf-470d-e40f-c143776c7006"
      },
      "source": [
        "df_enem2017.isna().sum()"
      ],
      "execution_count": 18,
      "outputs": [
        {
          "output_type": "execute_result",
          "data": {
            "text/plain": [
              "NU_INSCRICAO                    0\n",
              "NU_ANO                          0\n",
              "CO_UF_RESIDENCIA                0\n",
              "NU_IDADE                       72\n",
              "TP_SEXO                         0\n",
              "TP_ESTADO_CIVIL            132915\n",
              "TP_COR_RACA                     0\n",
              "TP_NACIONALIDADE                0\n",
              "TP_ST_CONCLUSAO                 0\n",
              "TP_ANO_CONCLUIU                 0\n",
              "TP_ESCOLA                       0\n",
              "TP_ENSINO                 2863006\n",
              "IN_TREINEIRO                    0\n",
              "TP_DEPENDENCIA_ADM_ESC    2862998\n",
              "TP_LOCALIZACAO_ESC        2862998\n",
              "TP_SIT_FUNC_ESC           2867642\n",
              "IN_SEM_RECURSO                  0\n",
              "Q001                            0\n",
              "Q002                            0\n",
              "Q003                            1\n",
              "Q004                            1\n",
              "Q005                            1\n",
              "Q006                            1\n",
              "Q007                            1\n",
              "Q008                            1\n",
              "Q009                            1\n",
              "Q010                            1\n",
              "Q011                            1\n",
              "Q012                            1\n",
              "Q013                            1\n",
              "Q014                            1\n",
              "Q015                            1\n",
              "Q016                            1\n",
              "Q017                            1\n",
              "Q018                            1\n",
              "Q019                            1\n",
              "Q020                            1\n",
              "Q021                            1\n",
              "Q022                            1\n",
              "Q023                            1\n",
              "Q024                            1\n",
              "Q025                            1\n",
              "NU_MEDIA_NOTAS                  0\n",
              "IN_ATEND_ESPECIALIZADO          0\n",
              "IN_ATEND_ESPECIFICO             0\n",
              "dtype: int64"
            ]
          },
          "metadata": {
            "tags": []
          },
          "execution_count": 18
        }
      ]
    },
    {
      "cell_type": "code",
      "metadata": {
        "id": "J4I3DAtH68nS",
        "colab": {
          "base_uri": "https://localhost:8080/"
        },
        "outputId": "2684d54a-8a4c-4646-9d56-95db407062e8"
      },
      "source": [
        "print('TP_ESCOLA NR: {:.1f}%'.format(df_enem2017[df_enem2017['TP_ESCOLA']==1].shape[0]/df_enem2017.shape[0]*100))\n",
        "print('TP_ENSINO NaN: {:.1f}%'.format(df_enem2017['TP_ENSINO'].isna().sum()/df_enem2017.shape[0]*100))\n",
        "print('TP_DEPENDENCIA_ADM_ESC NaN: {:.1f}%'.format(df_enem2017['TP_DEPENDENCIA_ADM_ESC'].isna().sum()/df_enem2017.shape[0]*100))\n",
        "print('TP_LOCALIZACAO_ESC NaN: {:.1f}%'.format(df_enem2017['TP_LOCALIZACAO_ESC'].isna().sum()/df_enem2017.shape[0]*100))\n",
        "print('TP_SIT_FUNC_ESC NaN: {:.1f}%'.format(df_enem2017['TP_SIT_FUNC_ESC'].isna().sum()/df_enem2017.shape[0]*100))"
      ],
      "execution_count": 19,
      "outputs": [
        {
          "output_type": "stream",
          "text": [
            "TP_ESCOLA NR: 68.6%\n",
            "TP_ENSINO NaN: 68.6%\n",
            "TP_DEPENDENCIA_ADM_ESC NaN: 68.6%\n",
            "TP_LOCALIZACAO_ESC NaN: 68.6%\n",
            "TP_SIT_FUNC_ESC NaN: 68.7%\n"
          ],
          "name": "stdout"
        }
      ]
    },
    {
      "cell_type": "markdown",
      "metadata": {
        "id": "7qhFxKwO_-MJ"
      },
      "source": [
        "Decidiu-se considerar apenas aqueles que responderam na coluna TP_ESCOLA, assumir os dados NaN da coluna TP_ENSINO como 1 (Ensino Regular) e desconsiderar as colunas TP_DEPENDENCIA_ADM_ESC, TP_LOCALIZACAO_ESC e TP_SIT_FUNC_ESC da análise"
      ]
    },
    {
      "cell_type": "code",
      "metadata": {
        "id": "oOuidyIL_9Tk"
      },
      "source": [
        "df_enem2017 = df_enem2017[df_enem2017.TP_ESCOLA!=1]\n",
        "df_enem2017['TP_ENSINO'].fillna(value=1, axis=0, inplace=True)\n",
        "\n",
        "columns_to_drop = ['TP_DEPENDENCIA_ADM_ESC', 'TP_LOCALIZACAO_ESC', 'TP_SIT_FUNC_ESC']\n",
        "df_enem2017.drop(labels=columns_to_drop, axis=1, inplace=True)\n",
        "\n",
        "df_enem2017.reset_index(drop=True, inplace=True)"
      ],
      "execution_count": 20,
      "outputs": []
    },
    {
      "cell_type": "code",
      "metadata": {
        "id": "oS7Hi2a8_F0b",
        "colab": {
          "base_uri": "https://localhost:8080/",
          "height": 226
        },
        "outputId": "3b15ffa6-a23b-416f-b534-27a1b1961875"
      },
      "source": [
        "df_enem2017.TP_ENSINO = df_enem2017.TP_ENSINO.astype('int32')\n",
        "df_enem2017.head()"
      ],
      "execution_count": 21,
      "outputs": [
        {
          "output_type": "execute_result",
          "data": {
            "text/html": [
              "<div>\n",
              "<style scoped>\n",
              "    .dataframe tbody tr th:only-of-type {\n",
              "        vertical-align: middle;\n",
              "    }\n",
              "\n",
              "    .dataframe tbody tr th {\n",
              "        vertical-align: top;\n",
              "    }\n",
              "\n",
              "    .dataframe thead th {\n",
              "        text-align: right;\n",
              "    }\n",
              "</style>\n",
              "<table border=\"1\" class=\"dataframe\">\n",
              "  <thead>\n",
              "    <tr style=\"text-align: right;\">\n",
              "      <th></th>\n",
              "      <th>NU_INSCRICAO</th>\n",
              "      <th>NU_ANO</th>\n",
              "      <th>CO_UF_RESIDENCIA</th>\n",
              "      <th>NU_IDADE</th>\n",
              "      <th>TP_SEXO</th>\n",
              "      <th>TP_ESTADO_CIVIL</th>\n",
              "      <th>TP_COR_RACA</th>\n",
              "      <th>TP_NACIONALIDADE</th>\n",
              "      <th>TP_ST_CONCLUSAO</th>\n",
              "      <th>TP_ANO_CONCLUIU</th>\n",
              "      <th>TP_ESCOLA</th>\n",
              "      <th>TP_ENSINO</th>\n",
              "      <th>IN_TREINEIRO</th>\n",
              "      <th>IN_SEM_RECURSO</th>\n",
              "      <th>Q001</th>\n",
              "      <th>Q002</th>\n",
              "      <th>Q003</th>\n",
              "      <th>Q004</th>\n",
              "      <th>Q005</th>\n",
              "      <th>Q006</th>\n",
              "      <th>Q007</th>\n",
              "      <th>Q008</th>\n",
              "      <th>Q009</th>\n",
              "      <th>Q010</th>\n",
              "      <th>Q011</th>\n",
              "      <th>Q012</th>\n",
              "      <th>Q013</th>\n",
              "      <th>Q014</th>\n",
              "      <th>Q015</th>\n",
              "      <th>Q016</th>\n",
              "      <th>Q017</th>\n",
              "      <th>Q018</th>\n",
              "      <th>Q019</th>\n",
              "      <th>Q020</th>\n",
              "      <th>Q021</th>\n",
              "      <th>Q022</th>\n",
              "      <th>Q023</th>\n",
              "      <th>Q024</th>\n",
              "      <th>Q025</th>\n",
              "      <th>NU_MEDIA_NOTAS</th>\n",
              "      <th>IN_ATEND_ESPECIALIZADO</th>\n",
              "      <th>IN_ATEND_ESPECIFICO</th>\n",
              "    </tr>\n",
              "  </thead>\n",
              "  <tbody>\n",
              "    <tr>\n",
              "      <th>0</th>\n",
              "      <td>170001663652</td>\n",
              "      <td>2017</td>\n",
              "      <td>13</td>\n",
              "      <td>17.0</td>\n",
              "      <td>M</td>\n",
              "      <td>0.0</td>\n",
              "      <td>3</td>\n",
              "      <td>2</td>\n",
              "      <td>2</td>\n",
              "      <td>0</td>\n",
              "      <td>3</td>\n",
              "      <td>1</td>\n",
              "      <td>0</td>\n",
              "      <td>0</td>\n",
              "      <td>E</td>\n",
              "      <td>G</td>\n",
              "      <td>F</td>\n",
              "      <td>D</td>\n",
              "      <td>6.0</td>\n",
              "      <td>P</td>\n",
              "      <td>D</td>\n",
              "      <td>D</td>\n",
              "      <td>E</td>\n",
              "      <td>C</td>\n",
              "      <td>B</td>\n",
              "      <td>B</td>\n",
              "      <td>B</td>\n",
              "      <td>B</td>\n",
              "      <td>B</td>\n",
              "      <td>B</td>\n",
              "      <td>A</td>\n",
              "      <td>B</td>\n",
              "      <td>E</td>\n",
              "      <td>B</td>\n",
              "      <td>B</td>\n",
              "      <td>E</td>\n",
              "      <td>B</td>\n",
              "      <td>E</td>\n",
              "      <td>B</td>\n",
              "      <td>516.339966</td>\n",
              "      <td>0</td>\n",
              "      <td>0</td>\n",
              "    </tr>\n",
              "    <tr>\n",
              "      <th>1</th>\n",
              "      <td>170001664222</td>\n",
              "      <td>2017</td>\n",
              "      <td>29</td>\n",
              "      <td>31.0</td>\n",
              "      <td>F</td>\n",
              "      <td>0.0</td>\n",
              "      <td>2</td>\n",
              "      <td>1</td>\n",
              "      <td>2</td>\n",
              "      <td>0</td>\n",
              "      <td>2</td>\n",
              "      <td>3</td>\n",
              "      <td>0</td>\n",
              "      <td>0</td>\n",
              "      <td>G</td>\n",
              "      <td>G</td>\n",
              "      <td>F</td>\n",
              "      <td>F</td>\n",
              "      <td>3.0</td>\n",
              "      <td>Q</td>\n",
              "      <td>A</td>\n",
              "      <td>B</td>\n",
              "      <td>C</td>\n",
              "      <td>A</td>\n",
              "      <td>A</td>\n",
              "      <td>B</td>\n",
              "      <td>A</td>\n",
              "      <td>A</td>\n",
              "      <td>A</td>\n",
              "      <td>A</td>\n",
              "      <td>A</td>\n",
              "      <td>A</td>\n",
              "      <td>A</td>\n",
              "      <td>A</td>\n",
              "      <td>A</td>\n",
              "      <td>A</td>\n",
              "      <td>B</td>\n",
              "      <td>A</td>\n",
              "      <td>A</td>\n",
              "      <td>384.579987</td>\n",
              "      <td>0</td>\n",
              "      <td>0</td>\n",
              "    </tr>\n",
              "    <tr>\n",
              "      <th>2</th>\n",
              "      <td>170001665543</td>\n",
              "      <td>2017</td>\n",
              "      <td>35</td>\n",
              "      <td>17.0</td>\n",
              "      <td>F</td>\n",
              "      <td>0.0</td>\n",
              "      <td>3</td>\n",
              "      <td>1</td>\n",
              "      <td>2</td>\n",
              "      <td>0</td>\n",
              "      <td>2</td>\n",
              "      <td>1</td>\n",
              "      <td>0</td>\n",
              "      <td>0</td>\n",
              "      <td>E</td>\n",
              "      <td>E</td>\n",
              "      <td>B</td>\n",
              "      <td>B</td>\n",
              "      <td>5.0</td>\n",
              "      <td>F</td>\n",
              "      <td>A</td>\n",
              "      <td>B</td>\n",
              "      <td>C</td>\n",
              "      <td>A</td>\n",
              "      <td>A</td>\n",
              "      <td>B</td>\n",
              "      <td>B</td>\n",
              "      <td>B</td>\n",
              "      <td>A</td>\n",
              "      <td>B</td>\n",
              "      <td>A</td>\n",
              "      <td>A</td>\n",
              "      <td>C</td>\n",
              "      <td>B</td>\n",
              "      <td>A</td>\n",
              "      <td>D</td>\n",
              "      <td>B</td>\n",
              "      <td>B</td>\n",
              "      <td>B</td>\n",
              "      <td>478.459961</td>\n",
              "      <td>0</td>\n",
              "      <td>0</td>\n",
              "    </tr>\n",
              "    <tr>\n",
              "      <th>3</th>\n",
              "      <td>170001663747</td>\n",
              "      <td>2017</td>\n",
              "      <td>35</td>\n",
              "      <td>18.0</td>\n",
              "      <td>F</td>\n",
              "      <td>0.0</td>\n",
              "      <td>2</td>\n",
              "      <td>1</td>\n",
              "      <td>2</td>\n",
              "      <td>0</td>\n",
              "      <td>2</td>\n",
              "      <td>1</td>\n",
              "      <td>0</td>\n",
              "      <td>0</td>\n",
              "      <td>D</td>\n",
              "      <td>D</td>\n",
              "      <td>D</td>\n",
              "      <td>C</td>\n",
              "      <td>4.0</td>\n",
              "      <td>D</td>\n",
              "      <td>A</td>\n",
              "      <td>B</td>\n",
              "      <td>B</td>\n",
              "      <td>B</td>\n",
              "      <td>A</td>\n",
              "      <td>B</td>\n",
              "      <td>A</td>\n",
              "      <td>B</td>\n",
              "      <td>A</td>\n",
              "      <td>B</td>\n",
              "      <td>A</td>\n",
              "      <td>B</td>\n",
              "      <td>B</td>\n",
              "      <td>B</td>\n",
              "      <td>A</td>\n",
              "      <td>D</td>\n",
              "      <td>A</td>\n",
              "      <td>B</td>\n",
              "      <td>B</td>\n",
              "      <td>509.559998</td>\n",
              "      <td>0</td>\n",
              "      <td>0</td>\n",
              "    </tr>\n",
              "    <tr>\n",
              "      <th>4</th>\n",
              "      <td>170003333557</td>\n",
              "      <td>2017</td>\n",
              "      <td>29</td>\n",
              "      <td>17.0</td>\n",
              "      <td>M</td>\n",
              "      <td>0.0</td>\n",
              "      <td>1</td>\n",
              "      <td>1</td>\n",
              "      <td>2</td>\n",
              "      <td>0</td>\n",
              "      <td>3</td>\n",
              "      <td>1</td>\n",
              "      <td>0</td>\n",
              "      <td>0</td>\n",
              "      <td>C</td>\n",
              "      <td>F</td>\n",
              "      <td>B</td>\n",
              "      <td>D</td>\n",
              "      <td>6.0</td>\n",
              "      <td>B</td>\n",
              "      <td>A</td>\n",
              "      <td>B</td>\n",
              "      <td>C</td>\n",
              "      <td>A</td>\n",
              "      <td>A</td>\n",
              "      <td>B</td>\n",
              "      <td>A</td>\n",
              "      <td>A</td>\n",
              "      <td>A</td>\n",
              "      <td>A</td>\n",
              "      <td>A</td>\n",
              "      <td>A</td>\n",
              "      <td>B</td>\n",
              "      <td>A</td>\n",
              "      <td>A</td>\n",
              "      <td>C</td>\n",
              "      <td>A</td>\n",
              "      <td>B</td>\n",
              "      <td>A</td>\n",
              "      <td>678.079956</td>\n",
              "      <td>0</td>\n",
              "      <td>0</td>\n",
              "    </tr>\n",
              "  </tbody>\n",
              "</table>\n",
              "</div>"
            ],
            "text/plain": [
              "   NU_INSCRICAO  NU_ANO  ...  IN_ATEND_ESPECIALIZADO  IN_ATEND_ESPECIFICO\n",
              "0  170001663652    2017  ...                       0                    0\n",
              "1  170001664222    2017  ...                       0                    0\n",
              "2  170001665543    2017  ...                       0                    0\n",
              "3  170001663747    2017  ...                       0                    0\n",
              "4  170003333557    2017  ...                       0                    0\n",
              "\n",
              "[5 rows x 42 columns]"
            ]
          },
          "metadata": {
            "tags": []
          },
          "execution_count": 21
        }
      ]
    },
    {
      "cell_type": "markdown",
      "metadata": {
        "id": "BHXODddL4nA1"
      },
      "source": [
        "As idades não informadas serão preenchidas pelo inteiro mais próximo da média."
      ]
    },
    {
      "cell_type": "code",
      "metadata": {
        "id": "JOGU_F6y5gG4"
      },
      "source": [
        "df_enem2017['NU_IDADE'].fillna(value=round(df_enem2017['NU_IDADE'].mean()), inplace=True)"
      ],
      "execution_count": 22,
      "outputs": []
    },
    {
      "cell_type": "markdown",
      "metadata": {
        "id": "LVwaWyz76_Vr"
      },
      "source": [
        "O estado civil será preenchido com o valor mais frenquente."
      ]
    },
    {
      "cell_type": "code",
      "metadata": {
        "id": "flSo0Oul7E8k"
      },
      "source": [
        "df_enem2017['TP_ESTADO_CIVIL'].fillna(value=df_enem2017.TP_ESTADO_CIVIL.value_counts()[0], inplace=True)"
      ],
      "execution_count": 23,
      "outputs": []
    },
    {
      "cell_type": "markdown",
      "metadata": {
        "id": "zj01wkCpAX-s"
      },
      "source": [
        "Serão excluídas todas as linhas restantes com valores ausentes. "
      ]
    },
    {
      "cell_type": "code",
      "metadata": {
        "id": "JVm5ch_KAeBY"
      },
      "source": [
        "df_enem2017.dropna(axis=0, inplace=True)"
      ],
      "execution_count": 24,
      "outputs": []
    },
    {
      "cell_type": "markdown",
      "metadata": {
        "id": "ZMconI17Jj3e"
      },
      "source": [
        "Organizando as colunas dicotômicas"
      ]
    },
    {
      "cell_type": "code",
      "metadata": {
        "id": "fzUNHuV2JjDH"
      },
      "source": [
        "# Codificando a variavel dicotomica em 0 e 1\n",
        "df_enem2017.TP_SEXO.replace(to_replace=['M', 'F'], value=[0, 1], inplace=True)\n",
        "df_enem2017.TP_SEXO = df_enem2017.TP_SEXO.astype('int32')"
      ],
      "execution_count": 25,
      "outputs": []
    },
    {
      "cell_type": "markdown",
      "metadata": {
        "id": "Cjg-WalOwo7r"
      },
      "source": [
        "Organizando as colunas categóricas"
      ]
    },
    {
      "cell_type": "code",
      "metadata": {
        "id": "i0nndxiL3muI"
      },
      "source": [
        "list_to_replace = list(string.ascii_uppercase[0:17])\n",
        "list_value = list(range(17))"
      ],
      "execution_count": 26,
      "outputs": []
    },
    {
      "cell_type": "code",
      "metadata": {
        "id": "kb_0i8xfu-7o"
      },
      "source": [
        "# Codificando as variáveis categóricas (A, B, C,...) em 1, 2, 3... \n",
        "df_enem2017.replace(to_replace=list_to_replace, value=list_value, inplace=True) # Toma tempo e memória"
      ],
      "execution_count": 27,
      "outputs": []
    },
    {
      "cell_type": "code",
      "metadata": {
        "colab": {
          "base_uri": "https://localhost:8080/",
          "height": 226
        },
        "id": "mnTCJNj51Z3p",
        "outputId": "91d7105a-d135-4f15-d7f7-cf7e0ebd27ee"
      },
      "source": [
        "df_enem2017.head()"
      ],
      "execution_count": 28,
      "outputs": [
        {
          "output_type": "execute_result",
          "data": {
            "text/html": [
              "<div>\n",
              "<style scoped>\n",
              "    .dataframe tbody tr th:only-of-type {\n",
              "        vertical-align: middle;\n",
              "    }\n",
              "\n",
              "    .dataframe tbody tr th {\n",
              "        vertical-align: top;\n",
              "    }\n",
              "\n",
              "    .dataframe thead th {\n",
              "        text-align: right;\n",
              "    }\n",
              "</style>\n",
              "<table border=\"1\" class=\"dataframe\">\n",
              "  <thead>\n",
              "    <tr style=\"text-align: right;\">\n",
              "      <th></th>\n",
              "      <th>NU_INSCRICAO</th>\n",
              "      <th>NU_ANO</th>\n",
              "      <th>CO_UF_RESIDENCIA</th>\n",
              "      <th>NU_IDADE</th>\n",
              "      <th>TP_SEXO</th>\n",
              "      <th>TP_ESTADO_CIVIL</th>\n",
              "      <th>TP_COR_RACA</th>\n",
              "      <th>TP_NACIONALIDADE</th>\n",
              "      <th>TP_ST_CONCLUSAO</th>\n",
              "      <th>TP_ANO_CONCLUIU</th>\n",
              "      <th>TP_ESCOLA</th>\n",
              "      <th>TP_ENSINO</th>\n",
              "      <th>IN_TREINEIRO</th>\n",
              "      <th>IN_SEM_RECURSO</th>\n",
              "      <th>Q001</th>\n",
              "      <th>Q002</th>\n",
              "      <th>Q003</th>\n",
              "      <th>Q004</th>\n",
              "      <th>Q005</th>\n",
              "      <th>Q006</th>\n",
              "      <th>Q007</th>\n",
              "      <th>Q008</th>\n",
              "      <th>Q009</th>\n",
              "      <th>Q010</th>\n",
              "      <th>Q011</th>\n",
              "      <th>Q012</th>\n",
              "      <th>Q013</th>\n",
              "      <th>Q014</th>\n",
              "      <th>Q015</th>\n",
              "      <th>Q016</th>\n",
              "      <th>Q017</th>\n",
              "      <th>Q018</th>\n",
              "      <th>Q019</th>\n",
              "      <th>Q020</th>\n",
              "      <th>Q021</th>\n",
              "      <th>Q022</th>\n",
              "      <th>Q023</th>\n",
              "      <th>Q024</th>\n",
              "      <th>Q025</th>\n",
              "      <th>NU_MEDIA_NOTAS</th>\n",
              "      <th>IN_ATEND_ESPECIALIZADO</th>\n",
              "      <th>IN_ATEND_ESPECIFICO</th>\n",
              "    </tr>\n",
              "  </thead>\n",
              "  <tbody>\n",
              "    <tr>\n",
              "      <th>0</th>\n",
              "      <td>170001663652</td>\n",
              "      <td>2017</td>\n",
              "      <td>13</td>\n",
              "      <td>17.0</td>\n",
              "      <td>0</td>\n",
              "      <td>0.0</td>\n",
              "      <td>3</td>\n",
              "      <td>2</td>\n",
              "      <td>2</td>\n",
              "      <td>0</td>\n",
              "      <td>3</td>\n",
              "      <td>1</td>\n",
              "      <td>0</td>\n",
              "      <td>0</td>\n",
              "      <td>4</td>\n",
              "      <td>6</td>\n",
              "      <td>5</td>\n",
              "      <td>3</td>\n",
              "      <td>6.0</td>\n",
              "      <td>15</td>\n",
              "      <td>3</td>\n",
              "      <td>3</td>\n",
              "      <td>4</td>\n",
              "      <td>2</td>\n",
              "      <td>1</td>\n",
              "      <td>1</td>\n",
              "      <td>1</td>\n",
              "      <td>1</td>\n",
              "      <td>1</td>\n",
              "      <td>1</td>\n",
              "      <td>0</td>\n",
              "      <td>1</td>\n",
              "      <td>4</td>\n",
              "      <td>1</td>\n",
              "      <td>1</td>\n",
              "      <td>4</td>\n",
              "      <td>1</td>\n",
              "      <td>4</td>\n",
              "      <td>1</td>\n",
              "      <td>516.339966</td>\n",
              "      <td>0</td>\n",
              "      <td>0</td>\n",
              "    </tr>\n",
              "    <tr>\n",
              "      <th>1</th>\n",
              "      <td>170001664222</td>\n",
              "      <td>2017</td>\n",
              "      <td>29</td>\n",
              "      <td>31.0</td>\n",
              "      <td>1</td>\n",
              "      <td>0.0</td>\n",
              "      <td>2</td>\n",
              "      <td>1</td>\n",
              "      <td>2</td>\n",
              "      <td>0</td>\n",
              "      <td>2</td>\n",
              "      <td>3</td>\n",
              "      <td>0</td>\n",
              "      <td>0</td>\n",
              "      <td>6</td>\n",
              "      <td>6</td>\n",
              "      <td>5</td>\n",
              "      <td>5</td>\n",
              "      <td>3.0</td>\n",
              "      <td>16</td>\n",
              "      <td>0</td>\n",
              "      <td>1</td>\n",
              "      <td>2</td>\n",
              "      <td>0</td>\n",
              "      <td>0</td>\n",
              "      <td>1</td>\n",
              "      <td>0</td>\n",
              "      <td>0</td>\n",
              "      <td>0</td>\n",
              "      <td>0</td>\n",
              "      <td>0</td>\n",
              "      <td>0</td>\n",
              "      <td>0</td>\n",
              "      <td>0</td>\n",
              "      <td>0</td>\n",
              "      <td>0</td>\n",
              "      <td>1</td>\n",
              "      <td>0</td>\n",
              "      <td>0</td>\n",
              "      <td>384.579987</td>\n",
              "      <td>0</td>\n",
              "      <td>0</td>\n",
              "    </tr>\n",
              "    <tr>\n",
              "      <th>2</th>\n",
              "      <td>170001665543</td>\n",
              "      <td>2017</td>\n",
              "      <td>35</td>\n",
              "      <td>17.0</td>\n",
              "      <td>1</td>\n",
              "      <td>0.0</td>\n",
              "      <td>3</td>\n",
              "      <td>1</td>\n",
              "      <td>2</td>\n",
              "      <td>0</td>\n",
              "      <td>2</td>\n",
              "      <td>1</td>\n",
              "      <td>0</td>\n",
              "      <td>0</td>\n",
              "      <td>4</td>\n",
              "      <td>4</td>\n",
              "      <td>1</td>\n",
              "      <td>1</td>\n",
              "      <td>5.0</td>\n",
              "      <td>5</td>\n",
              "      <td>0</td>\n",
              "      <td>1</td>\n",
              "      <td>2</td>\n",
              "      <td>0</td>\n",
              "      <td>0</td>\n",
              "      <td>1</td>\n",
              "      <td>1</td>\n",
              "      <td>1</td>\n",
              "      <td>0</td>\n",
              "      <td>1</td>\n",
              "      <td>0</td>\n",
              "      <td>0</td>\n",
              "      <td>2</td>\n",
              "      <td>1</td>\n",
              "      <td>0</td>\n",
              "      <td>3</td>\n",
              "      <td>1</td>\n",
              "      <td>1</td>\n",
              "      <td>1</td>\n",
              "      <td>478.459961</td>\n",
              "      <td>0</td>\n",
              "      <td>0</td>\n",
              "    </tr>\n",
              "    <tr>\n",
              "      <th>3</th>\n",
              "      <td>170001663747</td>\n",
              "      <td>2017</td>\n",
              "      <td>35</td>\n",
              "      <td>18.0</td>\n",
              "      <td>1</td>\n",
              "      <td>0.0</td>\n",
              "      <td>2</td>\n",
              "      <td>1</td>\n",
              "      <td>2</td>\n",
              "      <td>0</td>\n",
              "      <td>2</td>\n",
              "      <td>1</td>\n",
              "      <td>0</td>\n",
              "      <td>0</td>\n",
              "      <td>3</td>\n",
              "      <td>3</td>\n",
              "      <td>3</td>\n",
              "      <td>2</td>\n",
              "      <td>4.0</td>\n",
              "      <td>3</td>\n",
              "      <td>0</td>\n",
              "      <td>1</td>\n",
              "      <td>1</td>\n",
              "      <td>1</td>\n",
              "      <td>0</td>\n",
              "      <td>1</td>\n",
              "      <td>0</td>\n",
              "      <td>1</td>\n",
              "      <td>0</td>\n",
              "      <td>1</td>\n",
              "      <td>0</td>\n",
              "      <td>1</td>\n",
              "      <td>1</td>\n",
              "      <td>1</td>\n",
              "      <td>0</td>\n",
              "      <td>3</td>\n",
              "      <td>0</td>\n",
              "      <td>1</td>\n",
              "      <td>1</td>\n",
              "      <td>509.559998</td>\n",
              "      <td>0</td>\n",
              "      <td>0</td>\n",
              "    </tr>\n",
              "    <tr>\n",
              "      <th>4</th>\n",
              "      <td>170003333557</td>\n",
              "      <td>2017</td>\n",
              "      <td>29</td>\n",
              "      <td>17.0</td>\n",
              "      <td>0</td>\n",
              "      <td>0.0</td>\n",
              "      <td>1</td>\n",
              "      <td>1</td>\n",
              "      <td>2</td>\n",
              "      <td>0</td>\n",
              "      <td>3</td>\n",
              "      <td>1</td>\n",
              "      <td>0</td>\n",
              "      <td>0</td>\n",
              "      <td>2</td>\n",
              "      <td>5</td>\n",
              "      <td>1</td>\n",
              "      <td>3</td>\n",
              "      <td>6.0</td>\n",
              "      <td>1</td>\n",
              "      <td>0</td>\n",
              "      <td>1</td>\n",
              "      <td>2</td>\n",
              "      <td>0</td>\n",
              "      <td>0</td>\n",
              "      <td>1</td>\n",
              "      <td>0</td>\n",
              "      <td>0</td>\n",
              "      <td>0</td>\n",
              "      <td>0</td>\n",
              "      <td>0</td>\n",
              "      <td>0</td>\n",
              "      <td>1</td>\n",
              "      <td>0</td>\n",
              "      <td>0</td>\n",
              "      <td>2</td>\n",
              "      <td>0</td>\n",
              "      <td>1</td>\n",
              "      <td>0</td>\n",
              "      <td>678.079956</td>\n",
              "      <td>0</td>\n",
              "      <td>0</td>\n",
              "    </tr>\n",
              "  </tbody>\n",
              "</table>\n",
              "</div>"
            ],
            "text/plain": [
              "   NU_INSCRICAO  NU_ANO  ...  IN_ATEND_ESPECIALIZADO  IN_ATEND_ESPECIFICO\n",
              "0  170001663652    2017  ...                       0                    0\n",
              "1  170001664222    2017  ...                       0                    0\n",
              "2  170001665543    2017  ...                       0                    0\n",
              "3  170001663747    2017  ...                       0                    0\n",
              "4  170003333557    2017  ...                       0                    0\n",
              "\n",
              "[5 rows x 42 columns]"
            ]
          },
          "metadata": {
            "tags": []
          },
          "execution_count": 28
        }
      ]
    },
    {
      "cell_type": "code",
      "metadata": {
        "colab": {
          "base_uri": "https://localhost:8080/"
        },
        "id": "4CRD5KvR_t0q",
        "outputId": "180d5db8-df3d-43bd-8986-2faeae3638f8"
      },
      "source": [
        "df_enem2017.isna().sum()"
      ],
      "execution_count": 29,
      "outputs": [
        {
          "output_type": "execute_result",
          "data": {
            "text/plain": [
              "NU_INSCRICAO              0\n",
              "NU_ANO                    0\n",
              "CO_UF_RESIDENCIA          0\n",
              "NU_IDADE                  0\n",
              "TP_SEXO                   0\n",
              "TP_ESTADO_CIVIL           0\n",
              "TP_COR_RACA               0\n",
              "TP_NACIONALIDADE          0\n",
              "TP_ST_CONCLUSAO           0\n",
              "TP_ANO_CONCLUIU           0\n",
              "TP_ESCOLA                 0\n",
              "TP_ENSINO                 0\n",
              "IN_TREINEIRO              0\n",
              "IN_SEM_RECURSO            0\n",
              "Q001                      0\n",
              "Q002                      0\n",
              "Q003                      0\n",
              "Q004                      0\n",
              "Q005                      0\n",
              "Q006                      0\n",
              "Q007                      0\n",
              "Q008                      0\n",
              "Q009                      0\n",
              "Q010                      0\n",
              "Q011                      0\n",
              "Q012                      0\n",
              "Q013                      0\n",
              "Q014                      0\n",
              "Q015                      0\n",
              "Q016                      0\n",
              "Q017                      0\n",
              "Q018                      0\n",
              "Q019                      0\n",
              "Q020                      0\n",
              "Q021                      0\n",
              "Q022                      0\n",
              "Q023                      0\n",
              "Q024                      0\n",
              "Q025                      0\n",
              "NU_MEDIA_NOTAS            0\n",
              "IN_ATEND_ESPECIALIZADO    0\n",
              "IN_ATEND_ESPECIFICO       0\n",
              "dtype: int64"
            ]
          },
          "metadata": {
            "tags": []
          },
          "execution_count": 29
        }
      ]
    },
    {
      "cell_type": "markdown",
      "metadata": {
        "id": "CEsdCAkBaYq0"
      },
      "source": [
        "Visualização da comparação das variáveis *TP_SEXO* e *IN_ATEND_ESPECIFICO* (que apresentaram correlações maiores) com efeito na Nota Média no ENEM 2017 e da distribuição das notas entre as categorias."
      ]
    },
    {
      "cell_type": "code",
      "metadata": {
        "id": "3rwZT3qfJkRQ",
        "colab": {
          "base_uri": "https://localhost:8080/",
          "height": 774
        },
        "outputId": "090e83f0-db37-407d-fae5-9be030bb24e5"
      },
      "source": [
        "sns.set_style('white')\n",
        "fig, ax = plt.subplots(nrows=2, ncols=2, figsize=(28, 17))\n",
        "\n",
        "# TP_SEXO - BOXPLOT\n",
        "g1 = sns.boxplot(data=df_enem2017,\n",
        "                 x='TP_SEXO',\n",
        "                 y='NU_MEDIA_NOTAS',\n",
        "                 ax=ax[0][0])\n",
        "g1.set_title('Representação em Quartiles da variável TP_SEXO')\n",
        "g1.set_xticklabels(['Masculino', 'Feminino'])     # Sendo 0 - Masc e 1 - Fem\n",
        "g1.set_xlabel('Sexo')\n",
        "g1.set_ylabel('Nota Média')\n",
        "\n",
        "# TP_SEXO - KDE\n",
        "g2 = sns.kdeplot(data=df_enem2017,\n",
        "                 x='NU_MEDIA_NOTAS',\n",
        "                 hue='TP_SEXO',\n",
        "                 fill=True,\n",
        "                 ax=ax[0][1])\n",
        "g2.set_title('Distribuição da variável TP_SEXO')\n",
        "g2.legend(['Feminino', 'Masculino']).set_title('Sexo')\n",
        "g2.set_xlabel('Nota Média')\n",
        "g2.set_ylabel('Densidade')\n",
        "\n",
        "# IN_ATEND_ESPECIFICO - BOXPLOT\n",
        "g3 = sns.boxplot(data=df_enem2017,\n",
        "                 x='IN_ATEND_ESPECIFICO',\n",
        "                 y='NU_MEDIA_NOTAS',\n",
        "                 ax=ax[1][0])\n",
        "g3.set_title('Representação em Quartiles da variável IN_ATEND_ESPECIFICO')\n",
        "g3.set_xticklabels(['Sem Atendimento', 'Com Atendimento'])     # Sendo 0 - Masc e 1 - Fem\n",
        "g3.set_xlabel('Índice de Solicitação de Atendimento Especifico')\n",
        "g3.set_ylabel('Nota Média')\n",
        "\n",
        "# IN_ATEND_ESPECIFICO - KDE\n",
        "g4 = sns.kdeplot(data=df_enem2017,\n",
        "                 x='NU_MEDIA_NOTAS',\n",
        "                 hue='IN_ATEND_ESPECIFICO',\n",
        "                 fill=True,\n",
        "                 ax=ax[1][1])\n",
        "g4.set_title('Distribuição da variável IN_ATEND_ESPECIFICO')\n",
        "g4.legend(['Sim', 'Não']).set_title('Atendimento Especifico')\n",
        "g4.set_xlabel('Nota Média')\n",
        "g4.set_ylabel('Densidade')\n",
        "\n",
        "\n",
        "plt.show()"
      ],
      "execution_count": 30,
      "outputs": [
        {
          "output_type": "display_data",
          "data": {
            "image/png": "[encoded data removed]",
            "text/plain": [
              "<Figure size 2016x1224 with 4 Axes>"
            ]
          },
          "metadata": {
            "tags": []
          }
        }
      ]
    },
    {
      "cell_type": "markdown",
      "metadata": {
        "id": "_VfpleOa2dqD"
      },
      "source": [
        "Plot da distribuição das notas de acordo com as idades"
      ]
    },
    {
      "cell_type": "code",
      "metadata": {
        "id": "i9cCvT0OD6yF",
        "colab": {
          "base_uri": "https://localhost:8080/",
          "height": 666
        },
        "outputId": "601abf53-ffc7-4af4-b247-06cdf18e9056"
      },
      "source": [
        "sns.set_style('white')\n",
        "fig, ax = plt.subplots(nrows=1, ncols=1, figsize=(28, 14))\n",
        "\n",
        "g3 = sns.boxplot(data=df_enem2017,\n",
        "                 x='NU_IDADE',\n",
        "                 y='NU_MEDIA_NOTAS')\n",
        "g3.set_title('Representação em Quartiles da variável NU_IDADE')\n",
        "#g3.set_xticklabels(['Sem Atendimento', 'Com Atendimento'])     # Sendo 0 - Masc e 1 - Fem\n",
        "g3.set_xlabel('Idades')\n",
        "g3.set_ylabel('Nota Média')"
      ],
      "execution_count": 31,
      "outputs": [
        {
          "output_type": "execute_result",
          "data": {
            "text/plain": [
              "Text(0, 0.5, 'Nota Média')"
            ]
          },
          "metadata": {
            "tags": []
          },
          "execution_count": 31
        },
        {
          "output_type": "display_data",
          "data": {
            "image/png": "[encoded data removed]",
            "text/plain": [
              "<Figure size 2016x1008 with 1 Axes>"
            ]
          },
          "metadata": {
            "tags": []
          }
        }
      ]
    },
    {
      "cell_type": "markdown",
      "metadata": {
        "id": "7XNfpe672QKC"
      },
      "source": [
        "Plot da distribuição de notas por estados brasileiros"
      ]
    },
    {
      "cell_type": "code",
      "metadata": {
        "id": "qo5FqfjMhHXa",
        "colab": {
          "base_uri": "https://localhost:8080/",
          "height": 666
        },
        "outputId": "6b4766eb-64fe-44c3-d64f-3f70fdf81502"
      },
      "source": [
        "sns.set_style('white')\n",
        "fig, ax = plt.subplots(nrows=1, ncols=1, figsize=(28, 14))\n",
        "\n",
        "# IN_ATEND_ESPECIFICO - BOXPLOT\n",
        "g3 = sns.boxplot(data=df_enem2017,\n",
        "                 x='CO_UF_RESIDENCIA',\n",
        "                 y='NU_MEDIA_NOTAS')\n",
        "g3.set_title('Representação em Quartiles da variável NU_IDADE')\n",
        "#g3.set_xticklabels(['Sem Atendimento', 'Com Atendimento'])     # Sendo 0 - Masc e 1 - Fem\n",
        "g3.set_xlabel('Idades')\n",
        "g3.set_ylabel('Nota Média')"
      ],
      "execution_count": 32,
      "outputs": [
        {
          "output_type": "execute_result",
          "data": {
            "text/plain": [
              "Text(0, 0.5, 'Nota Média')"
            ]
          },
          "metadata": {
            "tags": []
          },
          "execution_count": 32
        },
        {
          "output_type": "display_data",
          "data": {
            "image/png": "[encoded data removed]",
            "text/plain": [
              "<Figure size 2016x1008 with 1 Axes>"
            ]
          },
          "metadata": {
            "tags": []
          }
        }
      ]
    },
    {
      "cell_type": "markdown",
      "metadata": {
        "id": "MJzeCPhk2yLS"
      },
      "source": [
        "# Salvando o DataFrame"
      ]
    },
    {
      "cell_type": "markdown",
      "metadata": {
        "id": "USg9DZ1n1CZE"
      },
      "source": [
        "Salvar o DataFrame em um arquivo .csv para a utilização de algoritmo de ML."
      ]
    },
    {
      "cell_type": "code",
      "metadata": {
        "id": "nNEf8jD1x9Tp"
      },
      "source": [
        "savedata_path = '/content/drive/MyDrive/Colab Notebooks/Dados/DF_ENEM_2017.csv'\n",
        "with open(savedata_path, 'w') as f:\n",
        "  df_enem2017.to_csv(f, index=False, encoding='latin-1')"
      ],
      "execution_count": 33,
      "outputs": []
    },
    {
      "cell_type": "code",
      "metadata": {
        "colab": {
          "base_uri": "https://localhost:8080/"
        },
        "id": "SBa3mcIP3x3u",
        "outputId": "0baea02a-b725-4854-b534-5623d5db3f49"
      },
      "source": [
        "df_enem2017.shape"
      ],
      "execution_count": 34,
      "outputs": [
        {
          "output_type": "execute_result",
          "data": {
            "text/plain": [
              "(1310632, 42)"
            ]
          },
          "metadata": {
            "tags": []
          },
          "execution_count": 34
        }
      ]
    },
    {
      "cell_type": "code",
      "metadata": {
        "id": "HT8rE_lRIqEG"
      },
      "source": [
        ""
      ],
      "execution_count": 34,
      "outputs": []
    }
  ]
}