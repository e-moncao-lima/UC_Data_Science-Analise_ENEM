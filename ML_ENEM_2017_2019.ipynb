{
  "nbformat": 4,
  "nbformat_minor": 0,
  "metadata": {
    "colab": {
      "name": "ML_ENEM_2017-2019.ipynb",
      "provenance": [],
      "collapsed_sections": []
    },
    "kernelspec": {
      "name": "python3",
      "display_name": "Python 3"
    }
  },
  "cells": [
    {
      "cell_type": "markdown",
      "metadata": {
        "id": "Bx9UoKd8MSY8"
      },
      "source": [
        "# Análise ENEM 2017-2019"
      ]
    },
    {
      "cell_type": "markdown",
      "metadata": {
        "id": "1-8LtTBxMYwF"
      },
      "source": [
        "Aplicação de Machine Learning nos microdados já explorados do ENEM 2017, 2018 e 2019, visto que houve erro com os microdados dos anos anteriores."
      ]
    },
    {
      "cell_type": "code",
      "metadata": {
        "id": "0hpoaG592ru2",
        "colab": {
          "base_uri": "https://localhost:8080/"
        },
        "outputId": "69e7fa26-aa74-4ca0-9cb4-1906b2d3decb"
      },
      "source": [
        "## Caso o Google Drive não estiver montado ainda, retirar os comentários das linhas de código abaixo\n",
        "## (aquelas que possuem somente um '#').\n",
        "\n",
        "## ATENÇÃO! Aparecerá um link externo seguro provido automaticamente pelo Google Colab para que seja \n",
        "## gerado o código de autenticação necessário para o acesso ao Drive.\n",
        "\n",
        "## Linhas de código a descomentar:\n",
        "\n",
        "from google.colab import drive\n",
        "drive.mount(\"/content/drive\")"
      ],
      "execution_count": 1,
      "outputs": [
        {
          "output_type": "stream",
          "text": [
            "Drive already mounted at /content/drive; to attempt to forcibly remount, call drive.mount(\"/content/drive\", force_remount=True).\n"
          ],
          "name": "stdout"
        }
      ]
    },
    {
      "cell_type": "markdown",
      "metadata": {
        "id": "AgwtuN7MMv5J"
      },
      "source": [
        "# Imports"
      ]
    },
    {
      "cell_type": "markdown",
      "metadata": {
        "id": "Ok2eNfJt6QZL"
      },
      "source": [
        "Bibliotecas utilizadas:\n",
        "\n",
        "- *pandas*: para carregar os dados em um dataframe.\n",
        "\n",
        "- *numpy*: para realizar operações numéricas\n",
        "\n",
        "- *seaborn*: para plotar gráficos estatisticos\n",
        "\n",
        "- *matplotlib*: para plotar gráficos"
      ]
    },
    {
      "cell_type": "code",
      "metadata": {
        "id": "mWqiqos6te5b"
      },
      "source": [
        "import pandas as pd\n",
        "import numpy as np\n",
        "import seaborn as sns\n",
        "import matplotlib.pyplot as plt"
      ],
      "execution_count": 2,
      "outputs": []
    },
    {
      "cell_type": "markdown",
      "metadata": {
        "id": "k39HpjmkODhy"
      },
      "source": [
        "# Dados Pré-processados"
      ]
    },
    {
      "cell_type": "markdown",
      "metadata": {
        "id": "kUnhqOgQOKy8"
      },
      "source": [
        "Os dados a serem utilizados foram pré-processados para facilitar suas aplicações. O código abaixo os copiará do Drive para o Colaboratory."
      ]
    },
    {
      "cell_type": "code",
      "metadata": {
        "id": "0dnuJN9lRrGw"
      },
      "source": [
        "# Dados do ENEM 2017\n",
        "enem2017data_path = '/content/drive/MyDrive/Colab Notebooks/Dados/DF_ENEM_2017.csv'\n",
        "df_enem2017 = pd.read_csv(enem2017data_path, encoding='latin-1')\n",
        "\n",
        "# Dados do ENEM 2018\n",
        "enem2018data_path = '/content/drive/MyDrive/Colab Notebooks/Dados/DF_ENEM_2018.csv'\n",
        "df_enem2018 = pd.read_csv(enem2018data_path, encoding='latin-1')\n",
        "\n",
        "# Dados do ENEM 2019\n",
        "enem2019data_path = '/content/drive/MyDrive/Colab Notebooks/Dados/DF_ENEM_2019.csv'\n",
        "df_enem2019 = pd.read_csv(enem2019data_path, encoding='latin-1')"
      ],
      "execution_count": 3,
      "outputs": []
    },
    {
      "cell_type": "code",
      "metadata": {
        "id": "LWIzjJxMbw2h"
      },
      "source": [
        "# Dados do ENEM concatenados\n",
        "df_enem = pd.concat([df_enem2017, df_enem2018, df_enem2019])"
      ],
      "execution_count": 4,
      "outputs": []
    },
    {
      "cell_type": "code",
      "metadata": {
        "colab": {
          "base_uri": "https://localhost:8080/"
        },
        "id": "xt9z_N-9N1o0",
        "outputId": "fd1ad588-fb15-453d-b4d7-039d322f1cf3"
      },
      "source": [
        "df_enem.shape "
      ],
      "execution_count": 5,
      "outputs": [
        {
          "output_type": "execute_result",
          "data": {
            "text/plain": [
              "(3547820, 42)"
            ]
          },
          "metadata": {
            "tags": []
          },
          "execution_count": 5
        }
      ]
    },
    {
      "cell_type": "code",
      "metadata": {
        "colab": {
          "base_uri": "https://localhost:8080/"
        },
        "id": "gMRHSqjc0ByN",
        "outputId": "72d3aa25-cc6d-4e8c-e112-c1b4c2540e42"
      },
      "source": [
        "df_enem.isna().sum()"
      ],
      "execution_count": 6,
      "outputs": [
        {
          "output_type": "execute_result",
          "data": {
            "text/plain": [
              "NU_INSCRICAO              0\n",
              "NU_ANO                    0\n",
              "CO_UF_RESIDENCIA          0\n",
              "NU_IDADE                  0\n",
              "TP_SEXO                   0\n",
              "TP_ESTADO_CIVIL           0\n",
              "TP_COR_RACA               0\n",
              "TP_NACIONALIDADE          0\n",
              "TP_ST_CONCLUSAO           0\n",
              "TP_ANO_CONCLUIU           0\n",
              "TP_ESCOLA                 0\n",
              "TP_ENSINO                 0\n",
              "IN_TREINEIRO              0\n",
              "IN_SEM_RECURSO            0\n",
              "Q001                      0\n",
              "Q002                      0\n",
              "Q003                      0\n",
              "Q004                      0\n",
              "Q005                      0\n",
              "Q006                      0\n",
              "Q007                      0\n",
              "Q008                      0\n",
              "Q009                      0\n",
              "Q010                      0\n",
              "Q011                      0\n",
              "Q012                      0\n",
              "Q013                      0\n",
              "Q014                      0\n",
              "Q015                      0\n",
              "Q016                      0\n",
              "Q017                      0\n",
              "Q018                      0\n",
              "Q019                      0\n",
              "Q020                      0\n",
              "Q021                      0\n",
              "Q022                      0\n",
              "Q023                      0\n",
              "Q024                      0\n",
              "Q025                      0\n",
              "NU_MEDIA_NOTAS            0\n",
              "IN_ATEND_ESPECIALIZADO    0\n",
              "IN_ATEND_ESPECIFICO       0\n",
              "dtype: int64"
            ]
          },
          "metadata": {
            "tags": []
          },
          "execution_count": 6
        }
      ]
    },
    {
      "cell_type": "markdown",
      "metadata": {
        "id": "FNd-B5r7n_dy"
      },
      "source": [
        "# ML - Feature Selection"
      ]
    },
    {
      "cell_type": "markdown",
      "metadata": {
        "id": "a54mKJmtoGzG"
      },
      "source": [
        "Como o dataset é composto por números não-negativos, foi preferido realizar uma normalização entre 0 e 1 com *MinMaxScaler()* no lugar de uma padronização com média e desvio padrão como com *StandardScaler()*. \n",
        "\n",
        "Já que a intenção é ter a ideia do papel dos dados socioeconômicos nas notas, a variável alvo a ser escolhida é NU_MEDIA_NOTAS"
      ]
    },
    {
      "cell_type": "code",
      "metadata": {
        "id": "iEhDz6dusHzg"
      },
      "source": [
        "from sklearn.preprocessing import MinMaxScaler\n",
        "from sklearn.feature_selection import SelectKBest\n",
        "from sklearn.feature_selection import f_regression ## mutual_info_regression eats up whole available RAM\n",
        "from sklearn.model_selection import train_test_split"
      ],
      "execution_count": 7,
      "outputs": []
    },
    {
      "cell_type": "code",
      "metadata": {
        "id": "IUTlRo4dmYg3"
      },
      "source": [
        "df_Y = df_enem['NU_MEDIA_NOTAS']\n",
        "df_X = df_enem.drop(['NU_INSCRICAO', 'NU_MEDIA_NOTAS'], axis=1)\n",
        "df_X.reset_index(drop=True, inplace=True)\n",
        "\n",
        "X = df_enem.loc[:,df_X.columns].values\n",
        "\n",
        "X = MinMaxScaler().fit_transform(X)"
      ],
      "execution_count": 8,
      "outputs": []
    },
    {
      "cell_type": "markdown",
      "metadata": {
        "id": "wre3u0HzhTto"
      },
      "source": [
        "Convertendo os dados normalizados em um DataFrame"
      ]
    },
    {
      "cell_type": "code",
      "metadata": {
        "colab": {
          "base_uri": "https://localhost:8080/",
          "height": 226
        },
        "id": "bZUZk0VShYsj",
        "outputId": "2b105e83-e361-477a-a380-156b298c8936"
      },
      "source": [
        "df_X_norm = pd.DataFrame(X, columns=df_X.columns)\n",
        "df_X_norm.head()"
      ],
      "execution_count": 9,
      "outputs": [
        {
          "output_type": "execute_result",
          "data": {
            "text/html": [
              "<div>\n",
              "<style scoped>\n",
              "    .dataframe tbody tr th:only-of-type {\n",
              "        vertical-align: middle;\n",
              "    }\n",
              "\n",
              "    .dataframe tbody tr th {\n",
              "        vertical-align: top;\n",
              "    }\n",
              "\n",
              "    .dataframe thead th {\n",
              "        text-align: right;\n",
              "    }\n",
              "</style>\n",
              "<table border=\"1\" class=\"dataframe\">\n",
              "  <thead>\n",
              "    <tr style=\"text-align: right;\">\n",
              "      <th></th>\n",
              "      <th>NU_ANO</th>\n",
              "      <th>CO_UF_RESIDENCIA</th>\n",
              "      <th>NU_IDADE</th>\n",
              "      <th>TP_SEXO</th>\n",
              "      <th>TP_ESTADO_CIVIL</th>\n",
              "      <th>TP_COR_RACA</th>\n",
              "      <th>TP_NACIONALIDADE</th>\n",
              "      <th>TP_ST_CONCLUSAO</th>\n",
              "      <th>TP_ANO_CONCLUIU</th>\n",
              "      <th>TP_ESCOLA</th>\n",
              "      <th>TP_ENSINO</th>\n",
              "      <th>IN_TREINEIRO</th>\n",
              "      <th>IN_SEM_RECURSO</th>\n",
              "      <th>Q001</th>\n",
              "      <th>Q002</th>\n",
              "      <th>Q003</th>\n",
              "      <th>Q004</th>\n",
              "      <th>Q005</th>\n",
              "      <th>Q006</th>\n",
              "      <th>Q007</th>\n",
              "      <th>Q008</th>\n",
              "      <th>Q009</th>\n",
              "      <th>Q010</th>\n",
              "      <th>Q011</th>\n",
              "      <th>Q012</th>\n",
              "      <th>Q013</th>\n",
              "      <th>Q014</th>\n",
              "      <th>Q015</th>\n",
              "      <th>Q016</th>\n",
              "      <th>Q017</th>\n",
              "      <th>Q018</th>\n",
              "      <th>Q019</th>\n",
              "      <th>Q020</th>\n",
              "      <th>Q021</th>\n",
              "      <th>Q022</th>\n",
              "      <th>Q023</th>\n",
              "      <th>Q024</th>\n",
              "      <th>Q025</th>\n",
              "      <th>IN_ATEND_ESPECIALIZADO</th>\n",
              "      <th>IN_ATEND_ESPECIFICO</th>\n",
              "    </tr>\n",
              "  </thead>\n",
              "  <tbody>\n",
              "    <tr>\n",
              "      <th>0</th>\n",
              "      <td>0.0</td>\n",
              "      <td>0.047619</td>\n",
              "      <td>0.185185</td>\n",
              "      <td>0.0</td>\n",
              "      <td>0.0</td>\n",
              "      <td>0.6</td>\n",
              "      <td>0.50</td>\n",
              "      <td>0.0</td>\n",
              "      <td>0.0</td>\n",
              "      <td>0.5</td>\n",
              "      <td>0.0</td>\n",
              "      <td>0.0</td>\n",
              "      <td>0.0</td>\n",
              "      <td>0.571429</td>\n",
              "      <td>0.857143</td>\n",
              "      <td>1.0</td>\n",
              "      <td>0.6</td>\n",
              "      <td>0.263158</td>\n",
              "      <td>0.9375</td>\n",
              "      <td>1.0</td>\n",
              "      <td>0.75</td>\n",
              "      <td>1.00</td>\n",
              "      <td>0.50</td>\n",
              "      <td>0.25</td>\n",
              "      <td>0.25</td>\n",
              "      <td>0.25</td>\n",
              "      <td>0.25</td>\n",
              "      <td>0.25</td>\n",
              "      <td>0.25</td>\n",
              "      <td>0.0</td>\n",
              "      <td>1.0</td>\n",
              "      <td>1.00</td>\n",
              "      <td>1.0</td>\n",
              "      <td>1.0</td>\n",
              "      <td>1.00</td>\n",
              "      <td>1.0</td>\n",
              "      <td>1.00</td>\n",
              "      <td>1.0</td>\n",
              "      <td>0.0</td>\n",
              "      <td>0.0</td>\n",
              "    </tr>\n",
              "    <tr>\n",
              "      <th>1</th>\n",
              "      <td>0.0</td>\n",
              "      <td>0.428571</td>\n",
              "      <td>0.358025</td>\n",
              "      <td>1.0</td>\n",
              "      <td>0.0</td>\n",
              "      <td>0.4</td>\n",
              "      <td>0.25</td>\n",
              "      <td>0.0</td>\n",
              "      <td>0.0</td>\n",
              "      <td>0.0</td>\n",
              "      <td>1.0</td>\n",
              "      <td>0.0</td>\n",
              "      <td>0.0</td>\n",
              "      <td>0.857143</td>\n",
              "      <td>0.857143</td>\n",
              "      <td>1.0</td>\n",
              "      <td>1.0</td>\n",
              "      <td>0.105263</td>\n",
              "      <td>1.0000</td>\n",
              "      <td>0.0</td>\n",
              "      <td>0.25</td>\n",
              "      <td>0.50</td>\n",
              "      <td>0.00</td>\n",
              "      <td>0.00</td>\n",
              "      <td>0.25</td>\n",
              "      <td>0.00</td>\n",
              "      <td>0.00</td>\n",
              "      <td>0.00</td>\n",
              "      <td>0.00</td>\n",
              "      <td>0.0</td>\n",
              "      <td>0.0</td>\n",
              "      <td>0.00</td>\n",
              "      <td>0.0</td>\n",
              "      <td>0.0</td>\n",
              "      <td>0.00</td>\n",
              "      <td>1.0</td>\n",
              "      <td>0.00</td>\n",
              "      <td>0.0</td>\n",
              "      <td>0.0</td>\n",
              "      <td>0.0</td>\n",
              "    </tr>\n",
              "    <tr>\n",
              "      <th>2</th>\n",
              "      <td>0.0</td>\n",
              "      <td>0.571429</td>\n",
              "      <td>0.185185</td>\n",
              "      <td>1.0</td>\n",
              "      <td>0.0</td>\n",
              "      <td>0.6</td>\n",
              "      <td>0.25</td>\n",
              "      <td>0.0</td>\n",
              "      <td>0.0</td>\n",
              "      <td>0.0</td>\n",
              "      <td>0.0</td>\n",
              "      <td>0.0</td>\n",
              "      <td>0.0</td>\n",
              "      <td>0.571429</td>\n",
              "      <td>0.571429</td>\n",
              "      <td>0.2</td>\n",
              "      <td>0.2</td>\n",
              "      <td>0.210526</td>\n",
              "      <td>0.3125</td>\n",
              "      <td>0.0</td>\n",
              "      <td>0.25</td>\n",
              "      <td>0.50</td>\n",
              "      <td>0.00</td>\n",
              "      <td>0.00</td>\n",
              "      <td>0.25</td>\n",
              "      <td>0.25</td>\n",
              "      <td>0.25</td>\n",
              "      <td>0.00</td>\n",
              "      <td>0.25</td>\n",
              "      <td>0.0</td>\n",
              "      <td>0.0</td>\n",
              "      <td>0.50</td>\n",
              "      <td>1.0</td>\n",
              "      <td>0.0</td>\n",
              "      <td>0.75</td>\n",
              "      <td>1.0</td>\n",
              "      <td>0.25</td>\n",
              "      <td>1.0</td>\n",
              "      <td>0.0</td>\n",
              "      <td>0.0</td>\n",
              "    </tr>\n",
              "    <tr>\n",
              "      <th>3</th>\n",
              "      <td>0.0</td>\n",
              "      <td>0.571429</td>\n",
              "      <td>0.197531</td>\n",
              "      <td>1.0</td>\n",
              "      <td>0.0</td>\n",
              "      <td>0.4</td>\n",
              "      <td>0.25</td>\n",
              "      <td>0.0</td>\n",
              "      <td>0.0</td>\n",
              "      <td>0.0</td>\n",
              "      <td>0.0</td>\n",
              "      <td>0.0</td>\n",
              "      <td>0.0</td>\n",
              "      <td>0.428571</td>\n",
              "      <td>0.428571</td>\n",
              "      <td>0.6</td>\n",
              "      <td>0.4</td>\n",
              "      <td>0.157895</td>\n",
              "      <td>0.1875</td>\n",
              "      <td>0.0</td>\n",
              "      <td>0.25</td>\n",
              "      <td>0.25</td>\n",
              "      <td>0.25</td>\n",
              "      <td>0.00</td>\n",
              "      <td>0.25</td>\n",
              "      <td>0.00</td>\n",
              "      <td>0.25</td>\n",
              "      <td>0.00</td>\n",
              "      <td>0.25</td>\n",
              "      <td>0.0</td>\n",
              "      <td>1.0</td>\n",
              "      <td>0.25</td>\n",
              "      <td>1.0</td>\n",
              "      <td>0.0</td>\n",
              "      <td>0.75</td>\n",
              "      <td>0.0</td>\n",
              "      <td>0.25</td>\n",
              "      <td>1.0</td>\n",
              "      <td>0.0</td>\n",
              "      <td>0.0</td>\n",
              "    </tr>\n",
              "    <tr>\n",
              "      <th>4</th>\n",
              "      <td>0.0</td>\n",
              "      <td>0.428571</td>\n",
              "      <td>0.185185</td>\n",
              "      <td>0.0</td>\n",
              "      <td>0.0</td>\n",
              "      <td>0.2</td>\n",
              "      <td>0.25</td>\n",
              "      <td>0.0</td>\n",
              "      <td>0.0</td>\n",
              "      <td>0.5</td>\n",
              "      <td>0.0</td>\n",
              "      <td>0.0</td>\n",
              "      <td>0.0</td>\n",
              "      <td>0.285714</td>\n",
              "      <td>0.714286</td>\n",
              "      <td>0.2</td>\n",
              "      <td>0.6</td>\n",
              "      <td>0.263158</td>\n",
              "      <td>0.0625</td>\n",
              "      <td>0.0</td>\n",
              "      <td>0.25</td>\n",
              "      <td>0.50</td>\n",
              "      <td>0.00</td>\n",
              "      <td>0.00</td>\n",
              "      <td>0.25</td>\n",
              "      <td>0.00</td>\n",
              "      <td>0.00</td>\n",
              "      <td>0.00</td>\n",
              "      <td>0.00</td>\n",
              "      <td>0.0</td>\n",
              "      <td>0.0</td>\n",
              "      <td>0.25</td>\n",
              "      <td>0.0</td>\n",
              "      <td>0.0</td>\n",
              "      <td>0.50</td>\n",
              "      <td>0.0</td>\n",
              "      <td>0.25</td>\n",
              "      <td>0.0</td>\n",
              "      <td>0.0</td>\n",
              "      <td>0.0</td>\n",
              "    </tr>\n",
              "  </tbody>\n",
              "</table>\n",
              "</div>"
            ],
            "text/plain": [
              "   NU_ANO  CO_UF_RESIDENCIA  ...  IN_ATEND_ESPECIALIZADO  IN_ATEND_ESPECIFICO\n",
              "0     0.0          0.047619  ...                     0.0                  0.0\n",
              "1     0.0          0.428571  ...                     0.0                  0.0\n",
              "2     0.0          0.571429  ...                     0.0                  0.0\n",
              "3     0.0          0.571429  ...                     0.0                  0.0\n",
              "4     0.0          0.428571  ...                     0.0                  0.0\n",
              "\n",
              "[5 rows x 40 columns]"
            ]
          },
          "metadata": {
            "tags": []
          },
          "execution_count": 9
        }
      ]
    },
    {
      "cell_type": "markdown",
      "metadata": {
        "id": "ewDSAhvMsVbR"
      },
      "source": [
        "Selecionar agora as 5 features mais relevantes segundo a *f_regression* e *mutual_info_regression*"
      ]
    },
    {
      "cell_type": "code",
      "metadata": {
        "colab": {
          "base_uri": "https://localhost:8080/"
        },
        "id": "BTXboMF9sCpE",
        "outputId": "2aea36d8-2774-4ef3-bc24-68afe6138615"
      },
      "source": [
        "# Utilizando f_regression (F-score)\n",
        "f_X = SelectKBest(score_func=f_regression, k=7)\n",
        "f_X = f_X.fit(df_X_norm, df_Y) \n",
        "f_X_idx = f_X.get_support()\n",
        "X_new_f = df_X_norm.loc[:,f_X_idx].columns.tolist() "
      ],
      "execution_count": 10,
      "outputs": [
        {
          "output_type": "stream",
          "text": [
            "/usr/local/lib/python3.6/dist-packages/sklearn/feature_selection/_univariate_selection.py:299: RuntimeWarning: invalid value encountered in true_divide\n",
            "  corr /= X_norms\n",
            "/usr/local/lib/python3.6/dist-packages/scipy/stats/_distn_infrastructure.py:903: RuntimeWarning: invalid value encountered in greater\n",
            "  return (a < x) & (x < b)\n",
            "/usr/local/lib/python3.6/dist-packages/scipy/stats/_distn_infrastructure.py:903: RuntimeWarning: invalid value encountered in less\n",
            "  return (a < x) & (x < b)\n",
            "/usr/local/lib/python3.6/dist-packages/scipy/stats/_distn_infrastructure.py:1912: RuntimeWarning: invalid value encountered in less_equal\n",
            "  cond2 = cond0 & (x <= _a)\n"
          ],
          "name": "stderr"
        }
      ]
    },
    {
      "cell_type": "code",
      "metadata": {
        "colab": {
          "base_uri": "https://localhost:8080/"
        },
        "id": "6QNvzH6UsDDJ",
        "outputId": "14b308d1-d94e-4abb-c3fc-4312d235306f"
      },
      "source": [
        "X_new_f # As 7 features selecionadas por SelectKBest()"
      ],
      "execution_count": 11,
      "outputs": [
        {
          "output_type": "execute_result",
          "data": {
            "text/plain": [
              "['TP_ESCOLA', 'Q002', 'Q006', 'Q008', 'Q010', 'Q019', 'Q024']"
            ]
          },
          "metadata": {
            "tags": []
          },
          "execution_count": 11
        }
      ]
    },
    {
      "cell_type": "markdown",
      "metadata": {
        "id": "WodhPVtlKyU5"
      },
      "source": [
        "Separando os conjuntos train e test "
      ]
    },
    {
      "cell_type": "code",
      "metadata": {
        "id": "51uCjbVDa_ZN"
      },
      "source": [
        "df_X_new = df_X_norm[X_new_f] # Somente com as features selecionadas\n",
        "\n",
        "X_train, X_test, Y_train, Y_test = train_test_split(\n",
        "    df_X_new, df_Y, test_size = 0.25, shuffle=True  # 75% train_data - 25% test_data\n",
        ")"
      ],
      "execution_count": 12,
      "outputs": []
    },
    {
      "cell_type": "code",
      "metadata": {
        "colab": {
          "base_uri": "https://localhost:8080/"
        },
        "id": "4GQY_-cO7RoO",
        "outputId": "962cfa45-8163-4577-e5ed-561c666bc161"
      },
      "source": [
        "X_train.shape, Y_train.shape"
      ],
      "execution_count": 13,
      "outputs": [
        {
          "output_type": "execute_result",
          "data": {
            "text/plain": [
              "((2660865, 7), (2660865,))"
            ]
          },
          "metadata": {
            "tags": []
          },
          "execution_count": 13
        }
      ]
    },
    {
      "cell_type": "markdown",
      "metadata": {
        "id": "wr5i-EoMNjOS"
      },
      "source": [
        "# ML - Prever Notas do ENEM"
      ]
    },
    {
      "cell_type": "markdown",
      "metadata": {
        "id": "0yl8JHaPO2CD"
      },
      "source": [
        "Para testar a Feature Selection, será implementado um algoritmo para prever as notas com as features selecionadas."
      ]
    },
    {
      "cell_type": "code",
      "metadata": {
        "id": "LUhRo_Q2PJZS"
      },
      "source": [
        "from keras.models import Sequential\n",
        "from keras.layers import Dense"
      ],
      "execution_count": 14,
      "outputs": []
    },
    {
      "cell_type": "markdown",
      "metadata": {
        "id": "LzlBkuvGa9na"
      },
      "source": [
        "Criando a estrutura do modelo da rede neural"
      ]
    },
    {
      "cell_type": "code",
      "metadata": {
        "id": "l4qs-w6TWmjh"
      },
      "source": [
        "# Inicializa o construtor\n",
        "model = Sequential()\n",
        "\n",
        "# Adiciona a camada de entrada, camada escondida e camada de saída\n",
        "model.add(Dense(5, input_dim=X_train.shape[1], activation='relu'))\n",
        "model.add(Dense(1, activation='linear'))\n",
        "model.compile(loss='mse', optimizer='adam', metrics=['mse', 'mae'])"
      ],
      "execution_count": 15,
      "outputs": []
    },
    {
      "cell_type": "markdown",
      "metadata": {
        "id": "iKBMwEKAcZIl"
      },
      "source": [
        "Treinando a rede neural"
      ]
    },
    {
      "cell_type": "code",
      "metadata": {
        "colab": {
          "base_uri": "https://localhost:8080/"
        },
        "id": "SIbFBfUfZ7o6",
        "outputId": "e55b9fcb-531f-443b-bc91-acc9b1f90558"
      },
      "source": [
        "history = model.fit(X_train, Y_train, epochs=7, verbose=1, validation_split=0.2)"
      ],
      "execution_count": 16,
      "outputs": [
        {
          "output_type": "stream",
          "text": [
            "Epoch 1/7\n",
            "66522/66522 [==============================] - 67s 1ms/step - loss: 16308.7139 - mse: 16308.7139 - mae: 80.2453 - val_loss: 4141.3843 - val_mse: 4141.3843 - val_mae: 51.5376\n",
            "Epoch 2/7\n",
            "66522/66522 [==============================] - 68s 1ms/step - loss: 4132.3433 - mse: 4132.3433 - mae: 51.4478 - val_loss: 4111.1777 - val_mse: 4111.1777 - val_mae: 51.3721\n",
            "Epoch 3/7\n",
            "66522/66522 [==============================] - 68s 1ms/step - loss: 4116.2837 - mse: 4116.2837 - mae: 51.3400 - val_loss: 4105.5703 - val_mse: 4105.5703 - val_mae: 51.3087\n",
            "Epoch 4/7\n",
            "66522/66522 [==============================] - 67s 1ms/step - loss: 4113.4614 - mse: 4113.4614 - mae: 51.3163 - val_loss: 4104.5542 - val_mse: 4104.5542 - val_mae: 51.3083\n",
            "Epoch 5/7\n",
            "66522/66522 [==============================] - 67s 1ms/step - loss: 4112.6387 - mse: 4112.6387 - mae: 51.3090 - val_loss: 4103.2603 - val_mse: 4103.2603 - val_mae: 51.3280\n",
            "Epoch 6/7\n",
            "66522/66522 [==============================] - 68s 1ms/step - loss: 4112.1948 - mse: 4112.1948 - mae: 51.3049 - val_loss: 4102.8965 - val_mse: 4102.8965 - val_mae: 51.2805\n",
            "Epoch 7/7\n",
            "66522/66522 [==============================] - 67s 1ms/step - loss: 4111.3306 - mse: 4111.3306 - mae: 51.2965 - val_loss: 4100.7051 - val_mse: 4100.7051 - val_mae: 51.2880\n"
          ],
          "name": "stdout"
        }
      ]
    },
    {
      "cell_type": "code",
      "metadata": {
        "colab": {
          "base_uri": "https://localhost:8080/",
          "height": 295
        },
        "id": "rNpfF2rkdwFF",
        "outputId": "9a81695d-497e-4818-917a-c284b61870ef"
      },
      "source": [
        "plt.plot(history.history['loss'])\n",
        "plt.plot(history.history['val_loss'])\n",
        "plt.title('model loss')\n",
        "plt.ylabel('loss')\n",
        "plt.xlabel('epoch')\n",
        "plt.legend(['train', 'validation'], loc='upper left')\n",
        "plt.show()"
      ],
      "execution_count": 17,
      "outputs": [
        {
          "output_type": "display_data",
          "data": {
            "image/png": "[encoded data removed]",
            "text/plain": [
              "<Figure size 432x288 with 1 Axes>"
            ]
          },
          "metadata": {
            "tags": [],
            "needs_background": "light"
          }
        }
      ]
    },
    {
      "cell_type": "markdown",
      "metadata": {
        "id": "Ue-mRrsn2cXs"
      },
      "source": [
        "Teste e Evaluate"
      ]
    },
    {
      "cell_type": "code",
      "metadata": {
        "id": "mdrJus_tmDLa"
      },
      "source": [
        "# Testando o modelo\n",
        "y_pred = model.predict(X_test)"
      ],
      "execution_count": 18,
      "outputs": []
    },
    {
      "cell_type": "code",
      "metadata": {
        "colab": {
          "base_uri": "https://localhost:8080/"
        },
        "id": "orjSdVZt2pk8",
        "outputId": "af9c7eaa-20d0-4beb-cf03-5c5ce38284ef"
      },
      "source": [
        "# Evaluating\n",
        "score = model.evaluate(X_test, y_pred, verbose=1)\n",
        "print(score)"
      ],
      "execution_count": 19,
      "outputs": [
        {
          "output_type": "stream",
          "text": [
            "27718/27718 [==============================] - 32s 1ms/step - loss: 3.8109e-10 - mse: 3.8109e-10 - mae: 7.4929e-06\n",
            "[3.810877724497175e-10, 3.810877724497175e-10, 7.49294440538506e-06]\n"
          ],
          "name": "stdout"
        }
      ]
    }
  ]
}