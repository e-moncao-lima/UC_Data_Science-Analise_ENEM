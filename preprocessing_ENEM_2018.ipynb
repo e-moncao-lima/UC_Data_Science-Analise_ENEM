{
  "nbformat": 4,
  "nbformat_minor": 0,
  "metadata": {
    "colab": {
      "name": "preprocessing_ENEM_2018.ipynb",
      "provenance": [],
      "collapsed_sections": []
    },
    "kernelspec": {
      "name": "python3",
      "display_name": "Python 3"
    }
  },
  "cells": [
    {
      "cell_type": "markdown",
      "metadata": {
        "id": "5N1t_K1QjAzf"
      },
      "source": [
        "# **ANÁLISE DOS MICRODADOS DO ENEM 2018**\n",
        "\n",
        "\n",
        "\n",
        "\n"
      ]
    },
    {
      "cell_type": "markdown",
      "metadata": {
        "id": "dRu_a9dcoWjW"
      },
      "source": [
        "O objetivo é realizar uma análise quantitativa sobre a dinâmica dos perfis inscritos no ENEM 2018, tendo em vista as condições socioeconômicas ou quaisquer outras características que possam ser o reflexo do cenário socioeconômico nacional.\n",
        "\n",
        "Os dados estão no Google Drive, portanto, é necessário que seja montado. É possível fazer isso acessando o último item do menu lateral da página inicial (Arquivos) e clicando em \"Montar Drive\" representado por um símbolo de uma pasta com a logo do Google Drive.\n",
        "Outra forma é seguindo as instruções da célula abaixo."
      ]
    },
    {
      "cell_type": "code",
      "metadata": {
        "id": "0hpoaG592ru2",
        "colab": {
          "base_uri": "https://localhost:8080/"
        },
        "outputId": "15a3d03b-a1d7-401e-f8ff-f8a9d41b018c"
      },
      "source": [
        "## Caso o Google Drive não estiver montado ainda, retirar os comentários das linhas de código abaixo\n",
        "## (aquelas que possuem somente um '#').\n",
        "\n",
        "## ATENÇÃO! Aparecerá um link externo seguro provido automaticamente pelo Google Colab para que seja \n",
        "## gerado o código de autenticação necessário para o acesso ao Drive.\n",
        "\n",
        "## Linhas de código a descomentar:\n",
        "\n",
        "from google.colab import drive\n",
        "drive.mount(\"/content/drive\")"
      ],
      "execution_count": 1,
      "outputs": [
        {
          "output_type": "stream",
          "text": [
            "Drive already mounted at /content/drive; to attempt to forcibly remount, call drive.mount(\"/content/drive\", force_remount=True).\n"
          ],
          "name": "stdout"
        }
      ]
    },
    {
      "cell_type": "markdown",
      "metadata": {
        "id": "tInEpLX7UPNV"
      },
      "source": [
        "# Bibliotecas\n",
        "\n"
      ]
    },
    {
      "cell_type": "markdown",
      "metadata": {
        "id": "Ok2eNfJt6QZL"
      },
      "source": [
        "Bibliotecas utilizadas:\n",
        "\n",
        "- *pandas*: para carregar os dados em um dataframe.\n",
        "\n",
        "- *numpy*: para realizar operações numéricas\n",
        "\n",
        "- *seaborn*: para plotar gráficos estatisticos\n",
        "\n",
        "- *matplotlib*: para plotar gráficos\n",
        "\n",
        "\n",
        "\n",
        "- *zipfile*: para descompactar arquivos\n",
        "\n",
        "- *string*: para manipular strings"
      ]
    },
    {
      "cell_type": "code",
      "metadata": {
        "id": "mWqiqos6te5b"
      },
      "source": [
        "import pandas as pd\n",
        "import numpy as np\n",
        "import seaborn as sns\n",
        "import matplotlib.pyplot as plt\n",
        "\n",
        "from zipfile import ZipFile\n",
        "import string"
      ],
      "execution_count": 2,
      "outputs": []
    },
    {
      "cell_type": "markdown",
      "metadata": {
        "id": "-wR2VtgUVGSx"
      },
      "source": [
        "# Coleta e Pré-processamento de Dados"
      ]
    },
    {
      "cell_type": "markdown",
      "metadata": {
        "id": "kebZWF_v6LaU"
      },
      "source": [
        "Extraindo o arquivo .csv da pasta .zip contendo microdados do ENEM 2018\n"
      ]
    },
    {
      "cell_type": "code",
      "metadata": {
        "id": "DeJYeRciVFZu"
      },
      "source": [
        "# complete original file stored on this Drive \n",
        "zipdata_path = '/content/drive/My Drive/Colab Notebooks/Dados/microdados_enem_2018.zip'\n",
        "\n",
        "with ZipFile(zipdata_path, 'r') as zipfile:\n",
        "  zipfile.extract('DADOS/MICRODADOS_ENEM_2018.csv')"
      ],
      "execution_count": 3,
      "outputs": []
    },
    {
      "cell_type": "markdown",
      "metadata": {
        "id": "18XjQQNbVNPa"
      },
      "source": [
        "Recebendo os dados do arquivo .csv. Será dividido em partes (*chunks*) visto que o arquivo é grande."
      ]
    },
    {
      "cell_type": "code",
      "metadata": {
        "id": "eIQlbjRIFUlr"
      },
      "source": [
        "data_path = '/content/DADOS/MICRODADOS_ENEM_2018.csv'\n",
        "chunk_enem2018 = pd.read_csv(data_path, sep=';', chunksize=1000000, encoding='latin-1')   # a codificacao do arquivo nao e a padrao UTF-8 "
      ],
      "execution_count": 4,
      "outputs": []
    },
    {
      "cell_type": "markdown",
      "metadata": {
        "id": "7I_Vyu4Vvnkq"
      },
      "source": [
        "Pré-processando cada *chunk* antes de concatenar todos num só dataframe.\n"
      ]
    },
    {
      "cell_type": "code",
      "metadata": {
        "id": "Lh-d-Fzyo76L"
      },
      "source": [
        "def preprocessing_chunk(chunk):\n",
        "\n",
        "  columns_to_drop = ['CO_MUNICIPIO_RESIDENCIA', 'NO_MUNICIPIO_RESIDENCIA', 'SG_UF_RESIDENCIA',\n",
        "                   'CO_MUNICIPIO_NASCIMENTO', 'CO_UF_NASCIMENTO', 'SG_UF_NASCIMENTO', 'NO_MUNICIPIO_NASCIMENTO',\n",
        "                   'CO_ESCOLA', 'CO_MUNICIPIO_ESC', 'NO_MUNICIPIO_ESC','CO_UF_ESC', 'SG_UF_ESC',\n",
        "                   'CO_MUNICIPIO_PROVA', 'NO_MUNICIPIO_PROVA', 'CO_UF_PROVA', 'SG_UF_PROVA', 'CO_PROVA_CN',\n",
        "                   'TP_LINGUA', 'CO_PROVA_CH', 'CO_PROVA_LC', 'CO_PROVA_MT', 'NU_NOTA_COMP1', 'NU_NOTA_COMP2', \n",
        "                   'NU_NOTA_COMP3', 'NU_NOTA_COMP4', 'NU_NOTA_COMP5', 'TX_RESPOSTAS_CN', 'TX_RESPOSTAS_CH',\n",
        "                   'TX_RESPOSTAS_LC', 'TX_RESPOSTAS_MT', 'TX_GABARITO_CN', 'TX_GABARITO_CH', 'TX_GABARITO_LC',\n",
        "                   'TX_GABARITO_MT', 'TP_PRESENCA_CN', 'TP_PRESENCA_CH', 'TP_PRESENCA_LC', 'TP_PRESENCA_MT',\n",
        "                   'TP_STATUS_REDACAO', 'Q026', 'Q027']  \n",
        "\n",
        "  # excluindo os ausentes na prova\n",
        "  df_presentes = chunk[chunk.TP_PRESENCA_CN==1]\n",
        "  df_presentes = df_presentes[df_presentes.TP_PRESENCA_CH==1]\n",
        "  df_presentes = df_presentes[df_presentes.TP_PRESENCA_LC==1]\n",
        "  df_presentes = df_presentes[df_presentes.TP_PRESENCA_MT==1]\n",
        "  df_presentes = df_presentes[df_presentes.TP_STATUS_REDACAO==1]\n",
        "  \n",
        "  # excluindo colunas desnecessarias\n",
        "  df = df_presentes.drop(labels=columns_to_drop, axis=1)\n",
        "\n",
        "  print(df.shape)\n",
        "  return df"
      ],
      "execution_count": 5,
      "outputs": []
    },
    {
      "cell_type": "markdown",
      "metadata": {
        "id": "5BlSCPmo1eA1"
      },
      "source": [
        "Concatenando as partes pre-processadas"
      ]
    },
    {
      "cell_type": "code",
      "metadata": {
        "id": "4Vc1n6-UFVwI",
        "colab": {
          "base_uri": "https://localhost:8080/"
        },
        "outputId": "818e3e75-786b-40cf-e3be-ecb51cb7d22d"
      },
      "source": [
        "%%time\n",
        "list_enem2018 = []\n",
        "\n",
        "for chunk in chunk_enem2018:\n",
        "  chunk_preprocessed = preprocessing_chunk(chunk)\n",
        "  list_enem2018.append(chunk_preprocessed)\n",
        "df_enem2018 = pd.concat(list_enem2018)"
      ],
      "execution_count": 6,
      "outputs": [
        {
          "output_type": "stream",
          "text": [
            "(739176, 96)\n",
            "(723221, 96)\n",
            "(722367, 96)\n",
            "(696180, 96)\n",
            "(643416, 96)\n",
            "(288800, 96)\n",
            "CPU times: user 1min 25s, sys: 11.1 s, total: 1min 36s\n",
            "Wall time: 1min 38s\n"
          ],
          "name": "stdout"
        }
      ]
    },
    {
      "cell_type": "code",
      "metadata": {
        "id": "PsDJc2qBvLd3",
        "colab": {
          "base_uri": "https://localhost:8080/"
        },
        "outputId": "a85f5abf-6e91-44c9-9ea3-4ecccca3c84b"
      },
      "source": [
        "df_enem2018.shape"
      ],
      "execution_count": 7,
      "outputs": [
        {
          "output_type": "execute_result",
          "data": {
            "text/plain": [
              "(3813160, 96)"
            ]
          },
          "metadata": {
            "tags": []
          },
          "execution_count": 7
        }
      ]
    },
    {
      "cell_type": "code",
      "metadata": {
        "id": "FjrsWgsNaYph",
        "colab": {
          "base_uri": "https://localhost:8080/"
        },
        "outputId": "7d503ea2-0736-482d-8a13-6937f18a444b"
      },
      "source": [
        "## change data types (to save up memory usage)    \n",
        "# Economiza em torno de 1 GB RAM - quase metade\n",
        "%%time\n",
        "list_col_dtype = [col for col in df_enem2018.columns]\n",
        "\n",
        "for col in df_enem2018.columns:\n",
        "   if df_enem2018[col].dtypes == np.int64 and col != 'NU_INSCRICAO':\n",
        "     df_enem2018[col] = df_enem2018[col].astype(np.int32)\n",
        "   elif df_enem2018[col].dtypes == np.float64:\n",
        "     df_enem2018[col] = df_enem2018[col].astype(np.float32)"
      ],
      "execution_count": 8,
      "outputs": [
        {
          "output_type": "stream",
          "text": [
            "CPU times: user 4.89 s, sys: 1.34 s, total: 6.23 s\n",
            "Wall time: 6.26 s\n"
          ],
          "name": "stdout"
        }
      ]
    },
    {
      "cell_type": "markdown",
      "metadata": {
        "id": "giZtr_i4-RLi"
      },
      "source": [
        "# Exploratory Data Analysis"
      ]
    },
    {
      "cell_type": "markdown",
      "metadata": {
        "id": "rtIVodFUiBxF"
      },
      "source": [
        "## Configurando coluna de notas"
      ]
    },
    {
      "cell_type": "markdown",
      "metadata": {
        "id": "drIG01p9eDEQ"
      },
      "source": [
        "Criando uma coluna com a media das notas das 4 provas e redação"
      ]
    },
    {
      "cell_type": "code",
      "metadata": {
        "id": "ThynEVBaehm8"
      },
      "source": [
        "df_enem2018['NU_MEDIA_NOTAS'] = df_enem2018[['NU_NOTA_CN', 'NU_NOTA_CH', \n",
        "                                             'NU_NOTA_LC', 'NU_NOTA_MT',\n",
        "                                             'NU_NOTA_REDACAO']].mean(axis=1, skipna=False)"
      ],
      "execution_count": 9,
      "outputs": []
    },
    {
      "cell_type": "markdown",
      "metadata": {
        "id": "so_OyOZdv6-p"
      },
      "source": [
        "Apagando as colunas das notas para economizar espaço no disco"
      ]
    },
    {
      "cell_type": "code",
      "metadata": {
        "id": "hdi4gVULv57z"
      },
      "source": [
        "df_enem2018 = df_enem2018.drop(labels=['NU_NOTA_CN', 'NU_NOTA_CH',\n",
        "                                       'NU_NOTA_LC', 'NU_NOTA_MT',\n",
        "                                       'NU_NOTA_REDACAO'], axis=1)"
      ],
      "execution_count": 10,
      "outputs": []
    },
    {
      "cell_type": "code",
      "metadata": {
        "id": "C_-uvXd9EZNZ",
        "colab": {
          "base_uri": "https://localhost:8080/"
        },
        "outputId": "d331001f-ce34-41ff-f6cc-c015ce6cfd7f"
      },
      "source": [
        "df_enem2018['NU_MEDIA_NOTAS'].isna().sum()"
      ],
      "execution_count": 11,
      "outputs": [
        {
          "output_type": "execute_result",
          "data": {
            "text/plain": [
              "0"
            ]
          },
          "metadata": {
            "tags": []
          },
          "execution_count": 11
        }
      ]
    },
    {
      "cell_type": "code",
      "metadata": {
        "id": "lVMIk-HVN2b0"
      },
      "source": [
        "# Excluir caso haja alguma média NaN\n",
        "# df_enem2018.dropna(subset=['NU_MEDIA_NOTAS'], inplace=True)"
      ],
      "execution_count": 12,
      "outputs": []
    },
    {
      "cell_type": "markdown",
      "metadata": {
        "id": "sd6p51HnYquE"
      },
      "source": [
        "## Agrupando e Codificando Dados "
      ]
    },
    {
      "cell_type": "markdown",
      "metadata": {
        "id": "pBO85v5cb-6t"
      },
      "source": [
        "Indicador de pedido de atendimento especializado"
      ]
    },
    {
      "cell_type": "code",
      "metadata": {
        "id": "DIyXuuFqZVVY"
      },
      "source": [
        "list_especial = ['IN_BAIXA_VISAO', 'IN_CEGUEIRA', 'IN_SURDEZ', 'IN_DEFICIENCIA_AUDITIVA',\n",
        "                 'IN_SURDO_CEGUEIRA', 'IN_DEFICIENCIA_FISICA', 'IN_DEFICIENCIA_MENTAL',\n",
        "                 'IN_DEFICIT_ATENCAO', 'IN_DISLEXIA', 'IN_DISCALCULIA', 'IN_AUTISMO',\n",
        "                 'IN_VISAO_MONOCULAR', 'IN_OUTRA_DEF']\n",
        "\n",
        "df_enem2018['IN_ATEND_ESPECIALIZADO'] = df_enem2018.loc[:, list_especial].max(1)"
      ],
      "execution_count": 13,
      "outputs": []
    },
    {
      "cell_type": "markdown",
      "metadata": {
        "id": "Ogz6v8fqdCb1"
      },
      "source": [
        "Indicador de pedido de atendimento especifico"
      ]
    },
    {
      "cell_type": "code",
      "metadata": {
        "id": "jVrPJwx0dHaU"
      },
      "source": [
        "list_especifico = ['IN_GESTANTE', 'IN_LACTANTE', 'IN_IDOSO', 'IN_ESTUDA_CLASSE_HOSPITALAR']\n",
        "\n",
        "df_enem2018['IN_ATEND_ESPECIFICO'] = df_enem2018.loc[:, list_especifico].max(1)"
      ],
      "execution_count": 14,
      "outputs": []
    },
    {
      "cell_type": "markdown",
      "metadata": {
        "id": "T7GpuyAndzoV"
      },
      "source": [
        "Indicador de pedidos de recursos especializados e especificos para a realizacao das provas"
      ]
    },
    {
      "cell_type": "code",
      "metadata": {
        "id": "4BZe3hO6eBC0"
      },
      "source": [
        "list_recurso = ['IN_BRAILLE', 'IN_AMPLIADA_24', 'IN_AMPLIADA_18', 'IN_LEDOR', 'IN_ACESSO',\n",
        "                'IN_TRANSCRICAO', 'IN_LIBRAS', 'IN_LEITURA_LABIAL',\n",
        "                'IN_MESA_CADEIRA_RODAS', 'IN_MESA_CADEIRA_SEPARADA', 'IN_APOIO_PERNA',\n",
        "                'IN_GUIA_INTERPRETE', 'IN_COMPUTADOR', 'IN_CADEIRA_ESPECIAL',\n",
        "                'IN_CADEIRA_CANHOTO', 'IN_CADEIRA_ACOLCHOADA', 'IN_PROVA_DEITADO',\n",
        "                'IN_MOBILIARIO_OBESO', 'IN_LAMINA_OVERLAY', 'IN_PROTETOR_AURICULAR',\n",
        "                'IN_MEDIDOR_GLICOSE', 'IN_MAQUINA_BRAILE', 'IN_SOROBAN', 'IN_MARCA_PASSO',\n",
        "                'IN_SONDA', 'IN_MEDICAMENTOS', 'IN_SALA_INDIVIDUAL', 'IN_SALA_ESPECIAL',\n",
        "                'IN_SALA_ACOMPANHANTE', 'IN_MOBILIARIO_ESPECIFICO', 'IN_MATERIAL_ESPECIFICO',\n",
        "                'IN_NOME_SOCIAL']\n",
        "\n",
        "# Como ja existe uma coluna 'IN_SEM_RECURSO' que indica se o inscrito\n",
        "# fez ou nao um pedido de recurso especial ou especifico, basta apagar\n",
        "# as outras colunas\n",
        "df_enem2018.drop(labels=list_recurso, axis =1, inplace=True)"
      ],
      "execution_count": 15,
      "outputs": []
    },
    {
      "cell_type": "code",
      "metadata": {
        "id": "0QHl88UdkDsV"
      },
      "source": [
        "df_enem2018.drop(labels=list_especial, axis=1, inplace=True)\n",
        "df_enem2018.drop(labels=list_especifico, axis=1, inplace=True)"
      ],
      "execution_count": 16,
      "outputs": []
    },
    {
      "cell_type": "code",
      "metadata": {
        "id": "PmCnx7j-iY-Z",
        "colab": {
          "base_uri": "https://localhost:8080/"
        },
        "outputId": "532aa6b9-de42-4306-95cc-f30997e8d7e9"
      },
      "source": [
        "df_enem2018.shape   # Reduziu drasticamente as dimensoes"
      ],
      "execution_count": 17,
      "outputs": [
        {
          "output_type": "execute_result",
          "data": {
            "text/plain": [
              "(3813160, 45)"
            ]
          },
          "metadata": {
            "tags": []
          },
          "execution_count": 17
        }
      ]
    },
    {
      "cell_type": "markdown",
      "metadata": {
        "id": "VU4AqF9C6s59"
      },
      "source": [
        "Vendo a proporção de dados não respondidos ou não informados"
      ]
    },
    {
      "cell_type": "code",
      "metadata": {
        "colab": {
          "base_uri": "https://localhost:8080/"
        },
        "id": "HJYPOkgu2eh0",
        "outputId": "d3656edb-43b0-43cd-dff6-ae8c44b32b7b"
      },
      "source": [
        "df_enem2018.isna().sum()"
      ],
      "execution_count": 18,
      "outputs": [
        {
          "output_type": "execute_result",
          "data": {
            "text/plain": [
              "NU_INSCRICAO                    0\n",
              "NU_ANO                          0\n",
              "CO_UF_RESIDENCIA                0\n",
              "NU_IDADE                       69\n",
              "TP_SEXO                         0\n",
              "TP_ESTADO_CIVIL            122591\n",
              "TP_COR_RACA                     0\n",
              "TP_NACIONALIDADE                0\n",
              "TP_ST_CONCLUSAO                 0\n",
              "TP_ANO_CONCLUIU                 0\n",
              "TP_ESCOLA                       0\n",
              "TP_ENSINO                 1461776\n",
              "IN_TREINEIRO                    0\n",
              "TP_DEPENDENCIA_ADM_ESC    2710249\n",
              "TP_LOCALIZACAO_ESC        2710249\n",
              "TP_SIT_FUNC_ESC           2710249\n",
              "IN_SEM_RECURSO                  0\n",
              "Q001                            0\n",
              "Q002                            0\n",
              "Q003                            0\n",
              "Q004                            0\n",
              "Q005                            0\n",
              "Q006                            0\n",
              "Q007                            0\n",
              "Q008                            0\n",
              "Q009                            0\n",
              "Q010                            0\n",
              "Q011                            0\n",
              "Q012                            0\n",
              "Q013                            0\n",
              "Q014                            0\n",
              "Q015                            0\n",
              "Q016                            0\n",
              "Q017                            0\n",
              "Q018                            0\n",
              "Q019                            0\n",
              "Q020                            0\n",
              "Q021                            0\n",
              "Q022                            0\n",
              "Q023                            0\n",
              "Q024                            0\n",
              "Q025                            0\n",
              "NU_MEDIA_NOTAS                  0\n",
              "IN_ATEND_ESPECIALIZADO          0\n",
              "IN_ATEND_ESPECIFICO             0\n",
              "dtype: int64"
            ]
          },
          "metadata": {
            "tags": []
          },
          "execution_count": 18
        }
      ]
    },
    {
      "cell_type": "code",
      "metadata": {
        "id": "J4I3DAtH68nS",
        "colab": {
          "base_uri": "https://localhost:8080/"
        },
        "outputId": "8aac14d1-50bb-4108-e0a5-90fe4de14a02"
      },
      "source": [
        "print('TP_ESCOLA NR: {:.1f}%'.format(df_enem2018[df_enem2018['TP_ESCOLA']==1].shape[0]/df_enem2018.shape[0]*100))\n",
        "print('TP_ENSINO NaN: {:.1f}%'.format(df_enem2018['TP_ENSINO'].isna().sum()/df_enem2018.shape[0]*100))\n",
        "print('TP_DEPENDENCIA_ADM_ESC NaN: {:.1f}%'.format(df_enem2018['TP_DEPENDENCIA_ADM_ESC'].isna().sum()/df_enem2018.shape[0]*100))\n",
        "print('TP_LOCALIZACAO_ESC NaN: {:.1f}%'.format(df_enem2018['TP_LOCALIZACAO_ESC'].isna().sum()/df_enem2018.shape[0]*100))\n",
        "print('TP_SIT_FUNC_ESC NaN: {:.1f}%'.format(df_enem2018['TP_SIT_FUNC_ESC'].isna().sum()/df_enem2018.shape[0]*100))"
      ],
      "execution_count": 19,
      "outputs": [
        {
          "output_type": "stream",
          "text": [
            "TP_ESCOLA NR: 72.2%\n",
            "TP_ENSINO NaN: 38.3%\n",
            "TP_DEPENDENCIA_ADM_ESC NaN: 71.1%\n",
            "TP_LOCALIZACAO_ESC NaN: 71.1%\n",
            "TP_SIT_FUNC_ESC NaN: 71.1%\n"
          ],
          "name": "stdout"
        }
      ]
    },
    {
      "cell_type": "markdown",
      "metadata": {
        "id": "7qhFxKwO_-MJ"
      },
      "source": [
        "Decidiu-se considerar apenas aqueles que responderam na coluna TP_ESCOLA, assumir os dados NaN da coluna TP_ENSINO como 1 (Ensino Regular) e desconsiderar as colunas TP_DEPENDENCIA_ADM_ESC, TP_LOCALIZACAO_ESC e TP_SIT_FUNC_ESC da análise"
      ]
    },
    {
      "cell_type": "code",
      "metadata": {
        "id": "oOuidyIL_9Tk"
      },
      "source": [
        "df_enem2018 = df_enem2018[df_enem2018.TP_ESCOLA!=1]\n",
        "df_enem2018['TP_ENSINO'].fillna(value=1, axis=0, inplace=True)\n",
        "\n",
        "columns_to_drop = ['TP_DEPENDENCIA_ADM_ESC', 'TP_LOCALIZACAO_ESC', 'TP_SIT_FUNC_ESC']\n",
        "df_enem2018.drop(labels=columns_to_drop, axis=1, inplace=True)\n",
        "\n",
        "df_enem2018.reset_index(drop=True, inplace=True)"
      ],
      "execution_count": 20,
      "outputs": []
    },
    {
      "cell_type": "code",
      "metadata": {
        "id": "oS7Hi2a8_F0b",
        "colab": {
          "base_uri": "https://localhost:8080/",
          "height": 226
        },
        "outputId": "c0704702-7416-4846-89fc-a57650fec581"
      },
      "source": [
        "df_enem2018.TP_ENSINO = df_enem2018.TP_ENSINO.astype('int32')\n",
        "df_enem2018.head()"
      ],
      "execution_count": 21,
      "outputs": [
        {
          "output_type": "execute_result",
          "data": {
            "text/html": [
              "<div>\n",
              "<style scoped>\n",
              "    .dataframe tbody tr th:only-of-type {\n",
              "        vertical-align: middle;\n",
              "    }\n",
              "\n",
              "    .dataframe tbody tr th {\n",
              "        vertical-align: top;\n",
              "    }\n",
              "\n",
              "    .dataframe thead th {\n",
              "        text-align: right;\n",
              "    }\n",
              "</style>\n",
              "<table border=\"1\" class=\"dataframe\">\n",
              "  <thead>\n",
              "    <tr style=\"text-align: right;\">\n",
              "      <th></th>\n",
              "      <th>NU_INSCRICAO</th>\n",
              "      <th>NU_ANO</th>\n",
              "      <th>CO_UF_RESIDENCIA</th>\n",
              "      <th>NU_IDADE</th>\n",
              "      <th>TP_SEXO</th>\n",
              "      <th>TP_ESTADO_CIVIL</th>\n",
              "      <th>TP_COR_RACA</th>\n",
              "      <th>TP_NACIONALIDADE</th>\n",
              "      <th>TP_ST_CONCLUSAO</th>\n",
              "      <th>TP_ANO_CONCLUIU</th>\n",
              "      <th>TP_ESCOLA</th>\n",
              "      <th>TP_ENSINO</th>\n",
              "      <th>IN_TREINEIRO</th>\n",
              "      <th>IN_SEM_RECURSO</th>\n",
              "      <th>Q001</th>\n",
              "      <th>Q002</th>\n",
              "      <th>Q003</th>\n",
              "      <th>Q004</th>\n",
              "      <th>Q005</th>\n",
              "      <th>Q006</th>\n",
              "      <th>Q007</th>\n",
              "      <th>Q008</th>\n",
              "      <th>Q009</th>\n",
              "      <th>Q010</th>\n",
              "      <th>Q011</th>\n",
              "      <th>Q012</th>\n",
              "      <th>Q013</th>\n",
              "      <th>Q014</th>\n",
              "      <th>Q015</th>\n",
              "      <th>Q016</th>\n",
              "      <th>Q017</th>\n",
              "      <th>Q018</th>\n",
              "      <th>Q019</th>\n",
              "      <th>Q020</th>\n",
              "      <th>Q021</th>\n",
              "      <th>Q022</th>\n",
              "      <th>Q023</th>\n",
              "      <th>Q024</th>\n",
              "      <th>Q025</th>\n",
              "      <th>NU_MEDIA_NOTAS</th>\n",
              "      <th>IN_ATEND_ESPECIALIZADO</th>\n",
              "      <th>IN_ATEND_ESPECIFICO</th>\n",
              "    </tr>\n",
              "  </thead>\n",
              "  <tbody>\n",
              "    <tr>\n",
              "      <th>0</th>\n",
              "      <td>180008257068</td>\n",
              "      <td>2018</td>\n",
              "      <td>23</td>\n",
              "      <td>19.0</td>\n",
              "      <td>M</td>\n",
              "      <td>0.0</td>\n",
              "      <td>3</td>\n",
              "      <td>1</td>\n",
              "      <td>2</td>\n",
              "      <td>0</td>\n",
              "      <td>2</td>\n",
              "      <td>1</td>\n",
              "      <td>0</td>\n",
              "      <td>0</td>\n",
              "      <td>D</td>\n",
              "      <td>D</td>\n",
              "      <td>C</td>\n",
              "      <td>B</td>\n",
              "      <td>7</td>\n",
              "      <td>C</td>\n",
              "      <td>A</td>\n",
              "      <td>B</td>\n",
              "      <td>C</td>\n",
              "      <td>A</td>\n",
              "      <td>A</td>\n",
              "      <td>B</td>\n",
              "      <td>A</td>\n",
              "      <td>B</td>\n",
              "      <td>A</td>\n",
              "      <td>A</td>\n",
              "      <td>A</td>\n",
              "      <td>A</td>\n",
              "      <td>B</td>\n",
              "      <td>B</td>\n",
              "      <td>A</td>\n",
              "      <td>B</td>\n",
              "      <td>A</td>\n",
              "      <td>A</td>\n",
              "      <td>A</td>\n",
              "      <td>417.160004</td>\n",
              "      <td>0</td>\n",
              "      <td>0</td>\n",
              "    </tr>\n",
              "    <tr>\n",
              "      <th>1</th>\n",
              "      <td>180007766857</td>\n",
              "      <td>2018</td>\n",
              "      <td>23</td>\n",
              "      <td>18.0</td>\n",
              "      <td>M</td>\n",
              "      <td>0.0</td>\n",
              "      <td>3</td>\n",
              "      <td>1</td>\n",
              "      <td>2</td>\n",
              "      <td>0</td>\n",
              "      <td>2</td>\n",
              "      <td>1</td>\n",
              "      <td>0</td>\n",
              "      <td>0</td>\n",
              "      <td>C</td>\n",
              "      <td>C</td>\n",
              "      <td>F</td>\n",
              "      <td>B</td>\n",
              "      <td>5</td>\n",
              "      <td>B</td>\n",
              "      <td>A</td>\n",
              "      <td>B</td>\n",
              "      <td>C</td>\n",
              "      <td>A</td>\n",
              "      <td>A</td>\n",
              "      <td>B</td>\n",
              "      <td>A</td>\n",
              "      <td>A</td>\n",
              "      <td>A</td>\n",
              "      <td>A</td>\n",
              "      <td>A</td>\n",
              "      <td>A</td>\n",
              "      <td>C</td>\n",
              "      <td>B</td>\n",
              "      <td>B</td>\n",
              "      <td>C</td>\n",
              "      <td>A</td>\n",
              "      <td>A</td>\n",
              "      <td>A</td>\n",
              "      <td>530.279968</td>\n",
              "      <td>0</td>\n",
              "      <td>0</td>\n",
              "    </tr>\n",
              "    <tr>\n",
              "      <th>2</th>\n",
              "      <td>180008895630</td>\n",
              "      <td>2018</td>\n",
              "      <td>25</td>\n",
              "      <td>18.0</td>\n",
              "      <td>F</td>\n",
              "      <td>0.0</td>\n",
              "      <td>1</td>\n",
              "      <td>1</td>\n",
              "      <td>2</td>\n",
              "      <td>0</td>\n",
              "      <td>2</td>\n",
              "      <td>1</td>\n",
              "      <td>0</td>\n",
              "      <td>0</td>\n",
              "      <td>H</td>\n",
              "      <td>E</td>\n",
              "      <td>F</td>\n",
              "      <td>B</td>\n",
              "      <td>7</td>\n",
              "      <td>B</td>\n",
              "      <td>A</td>\n",
              "      <td>B</td>\n",
              "      <td>C</td>\n",
              "      <td>A</td>\n",
              "      <td>A</td>\n",
              "      <td>B</td>\n",
              "      <td>A</td>\n",
              "      <td>A</td>\n",
              "      <td>A</td>\n",
              "      <td>A</td>\n",
              "      <td>A</td>\n",
              "      <td>A</td>\n",
              "      <td>B</td>\n",
              "      <td>A</td>\n",
              "      <td>A</td>\n",
              "      <td>D</td>\n",
              "      <td>A</td>\n",
              "      <td>A</td>\n",
              "      <td>B</td>\n",
              "      <td>541.900024</td>\n",
              "      <td>0</td>\n",
              "      <td>0</td>\n",
              "    </tr>\n",
              "    <tr>\n",
              "      <th>3</th>\n",
              "      <td>180008411104</td>\n",
              "      <td>2018</td>\n",
              "      <td>22</td>\n",
              "      <td>54.0</td>\n",
              "      <td>F</td>\n",
              "      <td>1.0</td>\n",
              "      <td>3</td>\n",
              "      <td>1</td>\n",
              "      <td>2</td>\n",
              "      <td>0</td>\n",
              "      <td>2</td>\n",
              "      <td>1</td>\n",
              "      <td>0</td>\n",
              "      <td>0</td>\n",
              "      <td>B</td>\n",
              "      <td>A</td>\n",
              "      <td>A</td>\n",
              "      <td>A</td>\n",
              "      <td>5</td>\n",
              "      <td>B</td>\n",
              "      <td>A</td>\n",
              "      <td>B</td>\n",
              "      <td>C</td>\n",
              "      <td>A</td>\n",
              "      <td>A</td>\n",
              "      <td>B</td>\n",
              "      <td>A</td>\n",
              "      <td>A</td>\n",
              "      <td>A</td>\n",
              "      <td>A</td>\n",
              "      <td>A</td>\n",
              "      <td>A</td>\n",
              "      <td>B</td>\n",
              "      <td>B</td>\n",
              "      <td>A</td>\n",
              "      <td>B</td>\n",
              "      <td>A</td>\n",
              "      <td>A</td>\n",
              "      <td>A</td>\n",
              "      <td>448.020020</td>\n",
              "      <td>0</td>\n",
              "      <td>0</td>\n",
              "    </tr>\n",
              "    <tr>\n",
              "      <th>4</th>\n",
              "      <td>180007286708</td>\n",
              "      <td>2018</td>\n",
              "      <td>35</td>\n",
              "      <td>17.0</td>\n",
              "      <td>F</td>\n",
              "      <td>0.0</td>\n",
              "      <td>1</td>\n",
              "      <td>1</td>\n",
              "      <td>2</td>\n",
              "      <td>0</td>\n",
              "      <td>2</td>\n",
              "      <td>1</td>\n",
              "      <td>0</td>\n",
              "      <td>0</td>\n",
              "      <td>D</td>\n",
              "      <td>E</td>\n",
              "      <td>C</td>\n",
              "      <td>B</td>\n",
              "      <td>3</td>\n",
              "      <td>C</td>\n",
              "      <td>A</td>\n",
              "      <td>B</td>\n",
              "      <td>C</td>\n",
              "      <td>B</td>\n",
              "      <td>B</td>\n",
              "      <td>B</td>\n",
              "      <td>B</td>\n",
              "      <td>B</td>\n",
              "      <td>A</td>\n",
              "      <td>A</td>\n",
              "      <td>A</td>\n",
              "      <td>B</td>\n",
              "      <td>B</td>\n",
              "      <td>B</td>\n",
              "      <td>A</td>\n",
              "      <td>D</td>\n",
              "      <td>B</td>\n",
              "      <td>B</td>\n",
              "      <td>B</td>\n",
              "      <td>473.720032</td>\n",
              "      <td>0</td>\n",
              "      <td>0</td>\n",
              "    </tr>\n",
              "  </tbody>\n",
              "</table>\n",
              "</div>"
            ],
            "text/plain": [
              "   NU_INSCRICAO  NU_ANO  ...  IN_ATEND_ESPECIALIZADO  IN_ATEND_ESPECIFICO\n",
              "0  180008257068    2018  ...                       0                    0\n",
              "1  180007766857    2018  ...                       0                    0\n",
              "2  180008895630    2018  ...                       0                    0\n",
              "3  180008411104    2018  ...                       0                    0\n",
              "4  180007286708    2018  ...                       0                    0\n",
              "\n",
              "[5 rows x 42 columns]"
            ]
          },
          "metadata": {
            "tags": []
          },
          "execution_count": 21
        }
      ]
    },
    {
      "cell_type": "markdown",
      "metadata": {
        "id": "BHXODddL4nA1"
      },
      "source": [
        "As idades não informadas serão preenchidas pelo inteiro mais próximo da média."
      ]
    },
    {
      "cell_type": "code",
      "metadata": {
        "id": "JOGU_F6y5gG4"
      },
      "source": [
        "df_enem2018['NU_IDADE'].fillna(value=round(df_enem2018['NU_IDADE'].mean()), inplace=True)"
      ],
      "execution_count": 22,
      "outputs": []
    },
    {
      "cell_type": "markdown",
      "metadata": {
        "id": "LVwaWyz76_Vr"
      },
      "source": [
        "O estado civil será preenchido com o valor mais frenquente."
      ]
    },
    {
      "cell_type": "code",
      "metadata": {
        "id": "flSo0Oul7E8k"
      },
      "source": [
        "df_enem2018['TP_ESTADO_CIVIL'].fillna(value=df_enem2018.TP_ESTADO_CIVIL.value_counts()[0], inplace=True)"
      ],
      "execution_count": 23,
      "outputs": []
    },
    {
      "cell_type": "markdown",
      "metadata": {
        "id": "ZMconI17Jj3e"
      },
      "source": [
        "Organizando as colunas dicotômicas"
      ]
    },
    {
      "cell_type": "code",
      "metadata": {
        "id": "fzUNHuV2JjDH"
      },
      "source": [
        "# Codificando a variavel dicotomica em 0 e 1\n",
        "df_enem2018.TP_SEXO.replace(to_replace=['M', 'F'], value=[0, 1], inplace=True)\n",
        "df_enem2018.TP_SEXO = df_enem2018.TP_SEXO.astype('int32')"
      ],
      "execution_count": 24,
      "outputs": []
    },
    {
      "cell_type": "markdown",
      "metadata": {
        "id": "Cjg-WalOwo7r"
      },
      "source": [
        "Organizando as colunas categóricas"
      ]
    },
    {
      "cell_type": "code",
      "metadata": {
        "id": "i0nndxiL3muI"
      },
      "source": [
        "list_to_replace = list(string.ascii_uppercase[0:17])\n",
        "list_value = list(range(17))"
      ],
      "execution_count": 25,
      "outputs": []
    },
    {
      "cell_type": "code",
      "metadata": {
        "id": "kb_0i8xfu-7o"
      },
      "source": [
        "# Codificando as variáveis categóricas (A, B, C,...) em 1, 2, 3... \n",
        "df_enem2018.replace(to_replace=list_to_replace, value=list_value, inplace=True) # Toma tempo e memória"
      ],
      "execution_count": 26,
      "outputs": []
    },
    {
      "cell_type": "code",
      "metadata": {
        "colab": {
          "base_uri": "https://localhost:8080/",
          "height": 226
        },
        "id": "mnTCJNj51Z3p",
        "outputId": "1cbe2711-fc64-4eff-809b-cc9fd694b5e0"
      },
      "source": [
        "df_enem2018.head()"
      ],
      "execution_count": 27,
      "outputs": [
        {
          "output_type": "execute_result",
          "data": {
            "text/html": [
              "<div>\n",
              "<style scoped>\n",
              "    .dataframe tbody tr th:only-of-type {\n",
              "        vertical-align: middle;\n",
              "    }\n",
              "\n",
              "    .dataframe tbody tr th {\n",
              "        vertical-align: top;\n",
              "    }\n",
              "\n",
              "    .dataframe thead th {\n",
              "        text-align: right;\n",
              "    }\n",
              "</style>\n",
              "<table border=\"1\" class=\"dataframe\">\n",
              "  <thead>\n",
              "    <tr style=\"text-align: right;\">\n",
              "      <th></th>\n",
              "      <th>NU_INSCRICAO</th>\n",
              "      <th>NU_ANO</th>\n",
              "      <th>CO_UF_RESIDENCIA</th>\n",
              "      <th>NU_IDADE</th>\n",
              "      <th>TP_SEXO</th>\n",
              "      <th>TP_ESTADO_CIVIL</th>\n",
              "      <th>TP_COR_RACA</th>\n",
              "      <th>TP_NACIONALIDADE</th>\n",
              "      <th>TP_ST_CONCLUSAO</th>\n",
              "      <th>TP_ANO_CONCLUIU</th>\n",
              "      <th>TP_ESCOLA</th>\n",
              "      <th>TP_ENSINO</th>\n",
              "      <th>IN_TREINEIRO</th>\n",
              "      <th>IN_SEM_RECURSO</th>\n",
              "      <th>Q001</th>\n",
              "      <th>Q002</th>\n",
              "      <th>Q003</th>\n",
              "      <th>Q004</th>\n",
              "      <th>Q005</th>\n",
              "      <th>Q006</th>\n",
              "      <th>Q007</th>\n",
              "      <th>Q008</th>\n",
              "      <th>Q009</th>\n",
              "      <th>Q010</th>\n",
              "      <th>Q011</th>\n",
              "      <th>Q012</th>\n",
              "      <th>Q013</th>\n",
              "      <th>Q014</th>\n",
              "      <th>Q015</th>\n",
              "      <th>Q016</th>\n",
              "      <th>Q017</th>\n",
              "      <th>Q018</th>\n",
              "      <th>Q019</th>\n",
              "      <th>Q020</th>\n",
              "      <th>Q021</th>\n",
              "      <th>Q022</th>\n",
              "      <th>Q023</th>\n",
              "      <th>Q024</th>\n",
              "      <th>Q025</th>\n",
              "      <th>NU_MEDIA_NOTAS</th>\n",
              "      <th>IN_ATEND_ESPECIALIZADO</th>\n",
              "      <th>IN_ATEND_ESPECIFICO</th>\n",
              "    </tr>\n",
              "  </thead>\n",
              "  <tbody>\n",
              "    <tr>\n",
              "      <th>0</th>\n",
              "      <td>180008257068</td>\n",
              "      <td>2018</td>\n",
              "      <td>23</td>\n",
              "      <td>19.0</td>\n",
              "      <td>0</td>\n",
              "      <td>0.0</td>\n",
              "      <td>3</td>\n",
              "      <td>1</td>\n",
              "      <td>2</td>\n",
              "      <td>0</td>\n",
              "      <td>2</td>\n",
              "      <td>1</td>\n",
              "      <td>0</td>\n",
              "      <td>0</td>\n",
              "      <td>3</td>\n",
              "      <td>3</td>\n",
              "      <td>2</td>\n",
              "      <td>1</td>\n",
              "      <td>7</td>\n",
              "      <td>2</td>\n",
              "      <td>0</td>\n",
              "      <td>1</td>\n",
              "      <td>2</td>\n",
              "      <td>0</td>\n",
              "      <td>0</td>\n",
              "      <td>1</td>\n",
              "      <td>0</td>\n",
              "      <td>1</td>\n",
              "      <td>0</td>\n",
              "      <td>0</td>\n",
              "      <td>0</td>\n",
              "      <td>0</td>\n",
              "      <td>1</td>\n",
              "      <td>1</td>\n",
              "      <td>0</td>\n",
              "      <td>1</td>\n",
              "      <td>0</td>\n",
              "      <td>0</td>\n",
              "      <td>0</td>\n",
              "      <td>417.160004</td>\n",
              "      <td>0</td>\n",
              "      <td>0</td>\n",
              "    </tr>\n",
              "    <tr>\n",
              "      <th>1</th>\n",
              "      <td>180007766857</td>\n",
              "      <td>2018</td>\n",
              "      <td>23</td>\n",
              "      <td>18.0</td>\n",
              "      <td>0</td>\n",
              "      <td>0.0</td>\n",
              "      <td>3</td>\n",
              "      <td>1</td>\n",
              "      <td>2</td>\n",
              "      <td>0</td>\n",
              "      <td>2</td>\n",
              "      <td>1</td>\n",
              "      <td>0</td>\n",
              "      <td>0</td>\n",
              "      <td>2</td>\n",
              "      <td>2</td>\n",
              "      <td>5</td>\n",
              "      <td>1</td>\n",
              "      <td>5</td>\n",
              "      <td>1</td>\n",
              "      <td>0</td>\n",
              "      <td>1</td>\n",
              "      <td>2</td>\n",
              "      <td>0</td>\n",
              "      <td>0</td>\n",
              "      <td>1</td>\n",
              "      <td>0</td>\n",
              "      <td>0</td>\n",
              "      <td>0</td>\n",
              "      <td>0</td>\n",
              "      <td>0</td>\n",
              "      <td>0</td>\n",
              "      <td>2</td>\n",
              "      <td>1</td>\n",
              "      <td>1</td>\n",
              "      <td>2</td>\n",
              "      <td>0</td>\n",
              "      <td>0</td>\n",
              "      <td>0</td>\n",
              "      <td>530.279968</td>\n",
              "      <td>0</td>\n",
              "      <td>0</td>\n",
              "    </tr>\n",
              "    <tr>\n",
              "      <th>2</th>\n",
              "      <td>180008895630</td>\n",
              "      <td>2018</td>\n",
              "      <td>25</td>\n",
              "      <td>18.0</td>\n",
              "      <td>1</td>\n",
              "      <td>0.0</td>\n",
              "      <td>1</td>\n",
              "      <td>1</td>\n",
              "      <td>2</td>\n",
              "      <td>0</td>\n",
              "      <td>2</td>\n",
              "      <td>1</td>\n",
              "      <td>0</td>\n",
              "      <td>0</td>\n",
              "      <td>7</td>\n",
              "      <td>4</td>\n",
              "      <td>5</td>\n",
              "      <td>1</td>\n",
              "      <td>7</td>\n",
              "      <td>1</td>\n",
              "      <td>0</td>\n",
              "      <td>1</td>\n",
              "      <td>2</td>\n",
              "      <td>0</td>\n",
              "      <td>0</td>\n",
              "      <td>1</td>\n",
              "      <td>0</td>\n",
              "      <td>0</td>\n",
              "      <td>0</td>\n",
              "      <td>0</td>\n",
              "      <td>0</td>\n",
              "      <td>0</td>\n",
              "      <td>1</td>\n",
              "      <td>0</td>\n",
              "      <td>0</td>\n",
              "      <td>3</td>\n",
              "      <td>0</td>\n",
              "      <td>0</td>\n",
              "      <td>1</td>\n",
              "      <td>541.900024</td>\n",
              "      <td>0</td>\n",
              "      <td>0</td>\n",
              "    </tr>\n",
              "    <tr>\n",
              "      <th>3</th>\n",
              "      <td>180008411104</td>\n",
              "      <td>2018</td>\n",
              "      <td>22</td>\n",
              "      <td>54.0</td>\n",
              "      <td>1</td>\n",
              "      <td>1.0</td>\n",
              "      <td>3</td>\n",
              "      <td>1</td>\n",
              "      <td>2</td>\n",
              "      <td>0</td>\n",
              "      <td>2</td>\n",
              "      <td>1</td>\n",
              "      <td>0</td>\n",
              "      <td>0</td>\n",
              "      <td>1</td>\n",
              "      <td>0</td>\n",
              "      <td>0</td>\n",
              "      <td>0</td>\n",
              "      <td>5</td>\n",
              "      <td>1</td>\n",
              "      <td>0</td>\n",
              "      <td>1</td>\n",
              "      <td>2</td>\n",
              "      <td>0</td>\n",
              "      <td>0</td>\n",
              "      <td>1</td>\n",
              "      <td>0</td>\n",
              "      <td>0</td>\n",
              "      <td>0</td>\n",
              "      <td>0</td>\n",
              "      <td>0</td>\n",
              "      <td>0</td>\n",
              "      <td>1</td>\n",
              "      <td>1</td>\n",
              "      <td>0</td>\n",
              "      <td>1</td>\n",
              "      <td>0</td>\n",
              "      <td>0</td>\n",
              "      <td>0</td>\n",
              "      <td>448.020020</td>\n",
              "      <td>0</td>\n",
              "      <td>0</td>\n",
              "    </tr>\n",
              "    <tr>\n",
              "      <th>4</th>\n",
              "      <td>180007286708</td>\n",
              "      <td>2018</td>\n",
              "      <td>35</td>\n",
              "      <td>17.0</td>\n",
              "      <td>1</td>\n",
              "      <td>0.0</td>\n",
              "      <td>1</td>\n",
              "      <td>1</td>\n",
              "      <td>2</td>\n",
              "      <td>0</td>\n",
              "      <td>2</td>\n",
              "      <td>1</td>\n",
              "      <td>0</td>\n",
              "      <td>0</td>\n",
              "      <td>3</td>\n",
              "      <td>4</td>\n",
              "      <td>2</td>\n",
              "      <td>1</td>\n",
              "      <td>3</td>\n",
              "      <td>2</td>\n",
              "      <td>0</td>\n",
              "      <td>1</td>\n",
              "      <td>2</td>\n",
              "      <td>1</td>\n",
              "      <td>1</td>\n",
              "      <td>1</td>\n",
              "      <td>1</td>\n",
              "      <td>1</td>\n",
              "      <td>0</td>\n",
              "      <td>0</td>\n",
              "      <td>0</td>\n",
              "      <td>1</td>\n",
              "      <td>1</td>\n",
              "      <td>1</td>\n",
              "      <td>0</td>\n",
              "      <td>3</td>\n",
              "      <td>1</td>\n",
              "      <td>1</td>\n",
              "      <td>1</td>\n",
              "      <td>473.720032</td>\n",
              "      <td>0</td>\n",
              "      <td>0</td>\n",
              "    </tr>\n",
              "  </tbody>\n",
              "</table>\n",
              "</div>"
            ],
            "text/plain": [
              "   NU_INSCRICAO  NU_ANO  ...  IN_ATEND_ESPECIALIZADO  IN_ATEND_ESPECIFICO\n",
              "0  180008257068    2018  ...                       0                    0\n",
              "1  180007766857    2018  ...                       0                    0\n",
              "2  180008895630    2018  ...                       0                    0\n",
              "3  180008411104    2018  ...                       0                    0\n",
              "4  180007286708    2018  ...                       0                    0\n",
              "\n",
              "[5 rows x 42 columns]"
            ]
          },
          "metadata": {
            "tags": []
          },
          "execution_count": 27
        }
      ]
    },
    {
      "cell_type": "code",
      "metadata": {
        "colab": {
          "base_uri": "https://localhost:8080/"
        },
        "id": "VTSZ-ePa2zVl",
        "outputId": "ce62985e-cf48-46fe-8ff9-58a673d2e47a"
      },
      "source": [
        "df_enem2018.isna().sum()"
      ],
      "execution_count": 28,
      "outputs": [
        {
          "output_type": "execute_result",
          "data": {
            "text/plain": [
              "NU_INSCRICAO              0\n",
              "NU_ANO                    0\n",
              "CO_UF_RESIDENCIA          0\n",
              "NU_IDADE                  0\n",
              "TP_SEXO                   0\n",
              "TP_ESTADO_CIVIL           0\n",
              "TP_COR_RACA               0\n",
              "TP_NACIONALIDADE          0\n",
              "TP_ST_CONCLUSAO           0\n",
              "TP_ANO_CONCLUIU           0\n",
              "TP_ESCOLA                 0\n",
              "TP_ENSINO                 0\n",
              "IN_TREINEIRO              0\n",
              "IN_SEM_RECURSO            0\n",
              "Q001                      0\n",
              "Q002                      0\n",
              "Q003                      0\n",
              "Q004                      0\n",
              "Q005                      0\n",
              "Q006                      0\n",
              "Q007                      0\n",
              "Q008                      0\n",
              "Q009                      0\n",
              "Q010                      0\n",
              "Q011                      0\n",
              "Q012                      0\n",
              "Q013                      0\n",
              "Q014                      0\n",
              "Q015                      0\n",
              "Q016                      0\n",
              "Q017                      0\n",
              "Q018                      0\n",
              "Q019                      0\n",
              "Q020                      0\n",
              "Q021                      0\n",
              "Q022                      0\n",
              "Q023                      0\n",
              "Q024                      0\n",
              "Q025                      0\n",
              "NU_MEDIA_NOTAS            0\n",
              "IN_ATEND_ESPECIALIZADO    0\n",
              "IN_ATEND_ESPECIFICO       0\n",
              "dtype: int64"
            ]
          },
          "metadata": {
            "tags": []
          },
          "execution_count": 28
        }
      ]
    },
    {
      "cell_type": "markdown",
      "metadata": {
        "id": "CEsdCAkBaYq0"
      },
      "source": [
        "Visualização da comparação das variáveis *TP_SEXO* e *IN_ATEND_ESPECIFICO* (que apresentaram correlações maiores) com efeito na Nota Média no ENEM 2018 e da distribuição das notas entre as categorias."
      ]
    },
    {
      "cell_type": "code",
      "metadata": {
        "id": "3rwZT3qfJkRQ",
        "colab": {
          "base_uri": "https://localhost:8080/",
          "height": 774
        },
        "outputId": "6523656f-ab77-4f74-b5fe-1766b5d687e3"
      },
      "source": [
        "sns.set_style('white')\n",
        "fig, ax = plt.subplots(nrows=2, ncols=2, figsize=(28, 17))\n",
        "\n",
        "# TP_SEXO - BOXPLOT\n",
        "g1 = sns.boxplot(data=df_enem2018,\n",
        "                 x='TP_SEXO',\n",
        "                 y='NU_MEDIA_NOTAS',\n",
        "                 ax=ax[0][0])\n",
        "g1.set_title('Representação em Quartiles da variável TP_SEXO')\n",
        "g1.set_xticklabels(['Masculino', 'Feminino'])     # Sendo 0 - Masc e 1 - Fem\n",
        "g1.set_xlabel('Sexo')\n",
        "g1.set_ylabel('Nota Média')\n",
        "\n",
        "# TP_SEXO - KDE\n",
        "g2 = sns.kdeplot(data=df_enem2018,\n",
        "                 x='NU_MEDIA_NOTAS',\n",
        "                 hue='TP_SEXO',\n",
        "                 fill=True,\n",
        "                 ax=ax[0][1])\n",
        "g2.set_title('Distribuição da variável TP_SEXO')\n",
        "g2.legend(['Feminino', 'Masculino']).set_title('Sexo')\n",
        "g2.set_xlabel('Nota Média')\n",
        "g2.set_ylabel('Densidade')\n",
        "\n",
        "# IN_ATEND_ESPECIFICO - BOXPLOT\n",
        "g3 = sns.boxplot(data=df_enem2018,\n",
        "                 x='IN_ATEND_ESPECIFICO',\n",
        "                 y='NU_MEDIA_NOTAS',\n",
        "                 ax=ax[1][0])\n",
        "g3.set_title('Representação em Quartiles da variável IN_ATEND_ESPECIFICO')\n",
        "g3.set_xticklabels(['Sem Atendimento', 'Com Atendimento'])     # Sendo 0 - Masc e 1 - Fem\n",
        "g3.set_xlabel('Índice de Solicitação de Atendimento Especifico')\n",
        "g3.set_ylabel('Nota Média')\n",
        "\n",
        "# IN_ATEND_ESPECIFICO - KDE\n",
        "g4 = sns.kdeplot(data=df_enem2018,\n",
        "                 x='NU_MEDIA_NOTAS',\n",
        "                 hue='IN_ATEND_ESPECIFICO',\n",
        "                 fill=True,\n",
        "                 ax=ax[1][1])\n",
        "g4.set_title('Distribuição da variável IN_ATEND_ESPECIFICO')\n",
        "g4.legend(['Sim', 'Não']).set_title('Atendimento Especifico')\n",
        "g4.set_xlabel('Nota Média')\n",
        "g4.set_ylabel('Densidade')\n",
        "\n",
        "\n",
        "plt.show()"
      ],
      "execution_count": 29,
      "outputs": [
        {
          "output_type": "display_data",
          "data": {
            "image/png": "[encoded data removed]",
            "text/plain": [
              "<Figure size 2016x1224 with 4 Axes>"
            ]
          },
          "metadata": {
            "tags": []
          }
        }
      ]
    },
    {
      "cell_type": "markdown",
      "metadata": {
        "id": "_VfpleOa2dqD"
      },
      "source": [
        "Plot da distribuição das notas de acordo com as idades"
      ]
    },
    {
      "cell_type": "code",
      "metadata": {
        "id": "i9cCvT0OD6yF",
        "colab": {
          "base_uri": "https://localhost:8080/",
          "height": 666
        },
        "outputId": "7a2d9820-24a3-4e37-e4bc-82363142b31d"
      },
      "source": [
        "sns.set_style('white')\n",
        "fig, ax = plt.subplots(nrows=1, ncols=1, figsize=(28, 14))\n",
        "\n",
        "# IN_ATEND_ESPECIFICO - BOXPLOT\n",
        "g3 = sns.boxplot(data=df_enem2018,\n",
        "                 x='NU_IDADE',\n",
        "                 y='NU_MEDIA_NOTAS')\n",
        "g3.set_title('Representação em Quartiles da variável NU_IDADE')\n",
        "#g3.set_xticklabels(['Sem Atendimento', 'Com Atendimento'])     # Sendo 0 - Masc e 1 - Fem\n",
        "g3.set_xlabel('Idades')\n",
        "g3.set_ylabel('Nota Média')"
      ],
      "execution_count": 30,
      "outputs": [
        {
          "output_type": "execute_result",
          "data": {
            "text/plain": [
              "Text(0, 0.5, 'Nota Média')"
            ]
          },
          "metadata": {
            "tags": []
          },
          "execution_count": 30
        },
        {
          "output_type": "display_data",
          "data": {
            "image/png": "[encoded data removed]",
            "text/plain": [
              "<Figure size 2016x1008 with 1 Axes>"
            ]
          },
          "metadata": {
            "tags": []
          }
        }
      ]
    },
    {
      "cell_type": "markdown",
      "metadata": {
        "id": "7XNfpe672QKC"
      },
      "source": [
        "Plot da distribuição de notas por estados brasileiros"
      ]
    },
    {
      "cell_type": "code",
      "metadata": {
        "id": "qo5FqfjMhHXa",
        "colab": {
          "base_uri": "https://localhost:8080/",
          "height": 666
        },
        "outputId": "d4e4505b-8b70-4beb-c0d1-ec4f8d983d9e"
      },
      "source": [
        "sns.set_style('white')\n",
        "fig, ax = plt.subplots(nrows=1, ncols=1, figsize=(28, 14))\n",
        "\n",
        "# IN_ATEND_ESPECIFICO - BOXPLOT\n",
        "g3 = sns.boxplot(data=df_enem2018,\n",
        "                 x='CO_UF_RESIDENCIA',\n",
        "                 y='NU_MEDIA_NOTAS')\n",
        "g3.set_title('Representação em Quartiles da variável NU_IDADE')\n",
        "#g3.set_xticklabels(['Sem Atendimento', 'Com Atendimento'])     # Sendo 0 - Masc e 1 - Fem\n",
        "g3.set_xlabel('Idades')\n",
        "g3.set_ylabel('Nota Média')"
      ],
      "execution_count": 31,
      "outputs": [
        {
          "output_type": "execute_result",
          "data": {
            "text/plain": [
              "Text(0, 0.5, 'Nota Média')"
            ]
          },
          "metadata": {
            "tags": []
          },
          "execution_count": 31
        },
        {
          "output_type": "display_data",
          "data": {
            "image/png": "[encoded data removed]",
            "text/plain": [
              "<Figure size 2016x1008 with 1 Axes>"
            ]
          },
          "metadata": {
            "tags": []
          }
        }
      ]
    },
    {
      "cell_type": "markdown",
      "metadata": {
        "id": "MJzeCPhk2yLS"
      },
      "source": [
        "# Salvando o DataFrame"
      ]
    },
    {
      "cell_type": "markdown",
      "metadata": {
        "id": "USg9DZ1n1CZE"
      },
      "source": [
        "Salvar o DataFrame em um arquivo .csv para a utilização de algoritmo de ML."
      ]
    },
    {
      "cell_type": "code",
      "metadata": {
        "id": "nNEf8jD1x9Tp"
      },
      "source": [
        "savedata_path = '/content/drive/MyDrive/Colab Notebooks/Dados/DF_ENEM_2018.csv'\n",
        "with open(savedata_path, 'w') as f:\n",
        "  df_enem2018.to_csv(f, index=False, encoding='latin-1')"
      ],
      "execution_count": 32,
      "outputs": []
    },
    {
      "cell_type": "code",
      "metadata": {
        "id": "szs5lz2mCWew",
        "colab": {
          "base_uri": "https://localhost:8080/"
        },
        "outputId": "d321d573-d0ee-4439-da0d-0ea23bc13e51"
      },
      "source": [
        "df_enem2018.shape"
      ],
      "execution_count": 33,
      "outputs": [
        {
          "output_type": "execute_result",
          "data": {
            "text/plain": [
              "(1060384, 42)"
            ]
          },
          "metadata": {
            "tags": []
          },
          "execution_count": 33
        }
      ]
    },
    {
      "cell_type": "code",
      "metadata": {
        "id": "40cHwFL7KbpR"
      },
      "source": [
        ""
      ],
      "execution_count": 33,
      "outputs": []
    }
  ]
}