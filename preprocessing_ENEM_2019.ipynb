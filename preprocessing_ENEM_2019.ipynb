{
  "nbformat": 4,
  "nbformat_minor": 0,
  "metadata": {
    "colab": {
      "name": "preprocessing_ENEM_2019.ipynb",
      "provenance": [],
      "collapsed_sections": []
    },
    "kernelspec": {
      "name": "python3",
      "display_name": "Python 3"
    }
  },
  "cells": [
    {
      "cell_type": "markdown",
      "metadata": {
        "id": "5N1t_K1QjAzf"
      },
      "source": [
        "# **ANÁLISE DOS MICRODADOS DO ENEM 2019**\n",
        "\n",
        "\n",
        "\n",
        "\n"
      ]
    },
    {
      "cell_type": "markdown",
      "metadata": {
        "id": "dRu_a9dcoWjW"
      },
      "source": [
        "O objetivo é realizar uma análise quantitativa sobre a dinâmica dos perfis inscritos no ENEM 2019, tendo em vista as condições socioeconômicas ou quaisquer outras características que possam ser o reflexo do cenário socioeconômico nacional.\n",
        "\n",
        "Os dados estão no Google Drive, portanto, é necessário que seja montado. É possível fazer isso acessando o último item do menu lateral da página inicial (Arquivos) e clicando em \"Montar Drive\" representado por um símbolo de uma pasta com a logo do Google Drive.\n",
        "Outra forma é seguindo as instruções da célula abaixo."
      ]
    },
    {
      "cell_type": "code",
      "metadata": {
        "id": "0hpoaG592ru2",
        "colab": {
          "base_uri": "https://localhost:8080/"
        },
        "outputId": "8495c0cc-caee-4e73-949c-e00528ba2e70"
      },
      "source": [
        "## Caso o Google Drive não estiver montado ainda, retirar os comentários das linhas de código abaixo\n",
        "## (aquelas que possuem somente um '#').\n",
        "\n",
        "## ATENÇÃO! Aparecerá um link externo seguro provido automaticamente pelo Google Colab para que seja \n",
        "## gerado o código de autenticação necessário para o acesso ao Drive.\n",
        "\n",
        "## Linhas de código a descomentar:\n",
        "\n",
        "from google.colab import drive\n",
        "drive.mount(\"/content/drive\")"
      ],
      "execution_count": 1,
      "outputs": [
        {
          "output_type": "stream",
          "text": [
            "Drive already mounted at /content/drive; to attempt to forcibly remount, call drive.mount(\"/content/drive\", force_remount=True).\n"
          ],
          "name": "stdout"
        }
      ]
    },
    {
      "cell_type": "markdown",
      "metadata": {
        "id": "tInEpLX7UPNV"
      },
      "source": [
        "# Bibliotecas\n",
        "\n"
      ]
    },
    {
      "cell_type": "markdown",
      "metadata": {
        "id": "Ok2eNfJt6QZL"
      },
      "source": [
        "Bibliotecas utilizadas:\n",
        "\n",
        "- *pandas*: para carregar os dados em um dataframe.\n",
        "\n",
        "- *numpy*: para realizar operações numéricas\n",
        "\n",
        "- *seaborn*: para plotar gráficos estatisticos\n",
        "\n",
        "- *matplotlib*: para plotar gráficos\n",
        "\n",
        "\n",
        "\n",
        "- *zipfile*: para descompactar arquivos\n",
        "\n",
        "- *string*: para manipular strings"
      ]
    },
    {
      "cell_type": "code",
      "metadata": {
        "id": "mWqiqos6te5b"
      },
      "source": [
        "import pandas as pd\n",
        "import numpy as np\n",
        "import seaborn as sns\n",
        "import matplotlib.pyplot as plt\n",
        "\n",
        "from zipfile import ZipFile\n",
        "import string"
      ],
      "execution_count": 2,
      "outputs": []
    },
    {
      "cell_type": "markdown",
      "metadata": {
        "id": "-wR2VtgUVGSx"
      },
      "source": [
        "# Coleta e Pré-processamento de Dados"
      ]
    },
    {
      "cell_type": "markdown",
      "metadata": {
        "id": "kebZWF_v6LaU"
      },
      "source": [
        "Extraindo o arquivo .csv da pasta .zip contendo microdados do ENEM 2019\n"
      ]
    },
    {
      "cell_type": "code",
      "metadata": {
        "id": "DeJYeRciVFZu"
      },
      "source": [
        "# complete original file stored on this Drive \n",
        "zipdata_path = '/content/drive/My Drive/Colab Notebooks/Dados/microdados_enem_2019.zip'\n",
        "\n",
        "with ZipFile(zipdata_path, 'r') as zipfile:\n",
        "  zipfile.extract('DADOS/MICRODADOS_ENEM_2019.csv')"
      ],
      "execution_count": 3,
      "outputs": []
    },
    {
      "cell_type": "markdown",
      "metadata": {
        "id": "18XjQQNbVNPa"
      },
      "source": [
        "Recebendo os dados do arquivo .csv. Será dividido em partes (*chunks*) visto que o arquivo é grande."
      ]
    },
    {
      "cell_type": "code",
      "metadata": {
        "id": "eIQlbjRIFUlr"
      },
      "source": [
        "data_path = '/content/DADOS/MICRODADOS_ENEM_2019.csv'\n",
        "chunk_enem2019 = pd.read_csv(data_path, sep=';', chunksize=1000000, encoding='latin-1')   # a codificacao do arquivo nao e a padrao UTF-8 "
      ],
      "execution_count": 4,
      "outputs": []
    },
    {
      "cell_type": "markdown",
      "metadata": {
        "id": "7I_Vyu4Vvnkq"
      },
      "source": [
        "Pré-processando cada *chunk* antes de concatenar todos num só dataframe.\n"
      ]
    },
    {
      "cell_type": "code",
      "metadata": {
        "id": "Lh-d-Fzyo76L"
      },
      "source": [
        "def preprocessing_chunk(chunk):\n",
        "\n",
        "  columns_to_drop = ['CO_MUNICIPIO_RESIDENCIA', 'NO_MUNICIPIO_RESIDENCIA', 'SG_UF_RESIDENCIA',\n",
        "                   'CO_MUNICIPIO_NASCIMENTO', 'CO_UF_NASCIMENTO', 'SG_UF_NASCIMENTO', 'NO_MUNICIPIO_NASCIMENTO',\n",
        "                   'CO_ESCOLA', 'CO_MUNICIPIO_ESC', 'NO_MUNICIPIO_ESC','CO_UF_ESC', 'SG_UF_ESC',\n",
        "                   'CO_MUNICIPIO_PROVA', 'NO_MUNICIPIO_PROVA', 'CO_UF_PROVA', 'SG_UF_PROVA', 'CO_PROVA_CN',\n",
        "                   'TP_LINGUA', 'CO_PROVA_CH', 'CO_PROVA_LC', 'CO_PROVA_MT', 'NU_NOTA_COMP1', 'NU_NOTA_COMP2', \n",
        "                   'NU_NOTA_COMP3', 'NU_NOTA_COMP4', 'NU_NOTA_COMP5', 'TX_RESPOSTAS_CN', 'TX_RESPOSTAS_CH',\n",
        "                   'TX_RESPOSTAS_LC', 'TX_RESPOSTAS_MT', 'TX_GABARITO_CN', 'TX_GABARITO_CH', 'TX_GABARITO_LC',\n",
        "                   'TX_GABARITO_MT', 'TP_PRESENCA_CN', 'TP_PRESENCA_CH', 'TP_PRESENCA_LC', 'TP_PRESENCA_MT',\n",
        "                   'TP_STATUS_REDACAO']  \n",
        "\n",
        "  # excluindo os ausentes na prova\n",
        "  df_presentes = chunk[chunk.TP_PRESENCA_CN==1]\n",
        "  df_presentes = df_presentes[df_presentes.TP_PRESENCA_CH==1]\n",
        "  df_presentes = df_presentes[df_presentes.TP_PRESENCA_LC==1]\n",
        "  df_presentes = df_presentes[df_presentes.TP_PRESENCA_MT==1]\n",
        "  df_presentes = df_presentes[df_presentes.TP_STATUS_REDACAO==1]\n",
        "  \n",
        "  # excluindo colunas desnecessarias\n",
        "  df = df_presentes.drop(labels=columns_to_drop, axis=1)\n",
        "\n",
        "  print(df.shape)\n",
        "  return df"
      ],
      "execution_count": 5,
      "outputs": []
    },
    {
      "cell_type": "markdown",
      "metadata": {
        "id": "5BlSCPmo1eA1"
      },
      "source": [
        "Concatenando as partes pre-processadas"
      ]
    },
    {
      "cell_type": "code",
      "metadata": {
        "id": "4Vc1n6-UFVwI",
        "colab": {
          "base_uri": "https://localhost:8080/"
        },
        "outputId": "a47b128c-115a-453a-978e-b38bd10b9470"
      },
      "source": [
        "%%time\n",
        "list_enem2019 = []\n",
        "\n",
        "for chunk in chunk_enem2019:\n",
        "  chunk_preprocessed = preprocessing_chunk(chunk)\n",
        "  list_enem2019.append(chunk_preprocessed)\n",
        "df_enem2019 = pd.concat(list_enem2019)"
      ],
      "execution_count": 6,
      "outputs": [
        {
          "output_type": "stream",
          "text": [
            "(745356, 97)\n",
            "(728492, 97)\n",
            "(720233, 97)\n",
            "(716297, 97)\n",
            "(628675, 97)\n",
            "(57064, 97)\n",
            "CPU times: user 1min 30s, sys: 8.86 s, total: 1min 39s\n",
            "Wall time: 1min 39s\n"
          ],
          "name": "stdout"
        }
      ]
    },
    {
      "cell_type": "code",
      "metadata": {
        "id": "PsDJc2qBvLd3",
        "colab": {
          "base_uri": "https://localhost:8080/"
        },
        "outputId": "996e0fce-102b-4590-a317-a9509a60e118"
      },
      "source": [
        "df_enem2019.shape"
      ],
      "execution_count": 7,
      "outputs": [
        {
          "output_type": "execute_result",
          "data": {
            "text/plain": [
              "(3596117, 97)"
            ]
          },
          "metadata": {
            "tags": []
          },
          "execution_count": 7
        }
      ]
    },
    {
      "cell_type": "code",
      "metadata": {
        "id": "FjrsWgsNaYph",
        "colab": {
          "base_uri": "https://localhost:8080/"
        },
        "outputId": "cafe5708-dc11-4936-d0f6-942627416227"
      },
      "source": [
        "%%time\n",
        "## change data types (to save up memory usage)    \n",
        "# Economiza em torno de 1 GB RAM - quase metade\n",
        "list_col_dtype = [col for col in df_enem2019.columns]\n",
        "\n",
        "for col in df_enem2019.columns:\n",
        "   if df_enem2019[col].dtypes == np.int64 and col != 'NU_INSCRICAO':\n",
        "     df_enem2019[col] = df_enem2019[col].astype(np.int32)\n",
        "   elif df_enem2019[col].dtypes == np.float64:\n",
        "     df_enem2019[col] = df_enem2019[col].astype(np.float32)"
      ],
      "execution_count": 8,
      "outputs": [
        {
          "output_type": "stream",
          "text": [
            "CPU times: user 9.34 s, sys: 1.82 s, total: 11.2 s\n",
            "Wall time: 11.2 s\n"
          ],
          "name": "stdout"
        }
      ]
    },
    {
      "cell_type": "markdown",
      "metadata": {
        "id": "giZtr_i4-RLi"
      },
      "source": [
        "# Exploratory Data Analysis"
      ]
    },
    {
      "cell_type": "markdown",
      "metadata": {
        "id": "rtIVodFUiBxF"
      },
      "source": [
        "## Configurando coluna de notas"
      ]
    },
    {
      "cell_type": "markdown",
      "metadata": {
        "id": "drIG01p9eDEQ"
      },
      "source": [
        "Criando uma coluna com a media das notas das 4 provas e redação"
      ]
    },
    {
      "cell_type": "code",
      "metadata": {
        "id": "ThynEVBaehm8"
      },
      "source": [
        "df_enem2019['NU_MEDIA_NOTAS'] = df_enem2019[['NU_NOTA_CN', 'NU_NOTA_CH', \n",
        "                                             'NU_NOTA_LC', 'NU_NOTA_MT',\n",
        "                                             'NU_NOTA_REDACAO']].mean(axis=1, skipna=False)"
      ],
      "execution_count": 9,
      "outputs": []
    },
    {
      "cell_type": "markdown",
      "metadata": {
        "id": "so_OyOZdv6-p"
      },
      "source": [
        "Apagando as colunas das notas para economizar espaço no disco"
      ]
    },
    {
      "cell_type": "code",
      "metadata": {
        "id": "hdi4gVULv57z"
      },
      "source": [
        "df_enem2019 = df_enem2019.drop(labels=['NU_NOTA_CN', 'NU_NOTA_CH',\n",
        "                                       'NU_NOTA_LC', 'NU_NOTA_MT',\n",
        "                                       'NU_NOTA_REDACAO'], axis=1)"
      ],
      "execution_count": 10,
      "outputs": []
    },
    {
      "cell_type": "code",
      "metadata": {
        "id": "C_-uvXd9EZNZ",
        "colab": {
          "base_uri": "https://localhost:8080/"
        },
        "outputId": "2af4a383-ecfb-43ef-9afa-d796e14c9c51"
      },
      "source": [
        "df_enem2019['NU_MEDIA_NOTAS'].isna().sum()"
      ],
      "execution_count": 11,
      "outputs": [
        {
          "output_type": "execute_result",
          "data": {
            "text/plain": [
              "0"
            ]
          },
          "metadata": {
            "tags": []
          },
          "execution_count": 11
        }
      ]
    },
    {
      "cell_type": "code",
      "metadata": {
        "id": "lVMIk-HVN2b0"
      },
      "source": [
        "# Excluir caso haja alguma média NaN\n",
        "# df_enem2019.dropna(subset=['NU_MEDIA_NOTAS'], inplace=True)"
      ],
      "execution_count": 12,
      "outputs": []
    },
    {
      "cell_type": "markdown",
      "metadata": {
        "id": "sd6p51HnYquE"
      },
      "source": [
        "## Agrupando e Codificando Dados "
      ]
    },
    {
      "cell_type": "markdown",
      "metadata": {
        "id": "pBO85v5cb-6t"
      },
      "source": [
        "Indicador de pedido de atendimento especializado"
      ]
    },
    {
      "cell_type": "code",
      "metadata": {
        "id": "DIyXuuFqZVVY"
      },
      "source": [
        "list_especial = ['IN_BAIXA_VISAO', 'IN_CEGUEIRA', 'IN_SURDEZ', 'IN_DEFICIENCIA_AUDITIVA',\n",
        "                 'IN_SURDO_CEGUEIRA', 'IN_DEFICIENCIA_FISICA', 'IN_DEFICIENCIA_MENTAL',\n",
        "                 'IN_DEFICIT_ATENCAO', 'IN_DISLEXIA', 'IN_DISCALCULIA', 'IN_AUTISMO',\n",
        "                 'IN_VISAO_MONOCULAR', 'IN_OUTRA_DEF']\n",
        "\n",
        "df_enem2019['IN_ATEND_ESPECIALIZADO'] = df_enem2019.loc[:, list_especial].max(1)"
      ],
      "execution_count": 13,
      "outputs": []
    },
    {
      "cell_type": "markdown",
      "metadata": {
        "id": "Ogz6v8fqdCb1"
      },
      "source": [
        "Indicador de pedido de atendimento especifico"
      ]
    },
    {
      "cell_type": "code",
      "metadata": {
        "id": "jVrPJwx0dHaU"
      },
      "source": [
        "list_especifico = ['IN_GESTANTE', 'IN_LACTANTE', 'IN_IDOSO', 'IN_ESTUDA_CLASSE_HOSPITALAR']\n",
        "\n",
        "df_enem2019['IN_ATEND_ESPECIFICO'] = df_enem2019.loc[:, list_especifico].max(1)"
      ],
      "execution_count": 14,
      "outputs": []
    },
    {
      "cell_type": "markdown",
      "metadata": {
        "id": "T7GpuyAndzoV"
      },
      "source": [
        "Indicador de pedidos de recursos especializados e especificos para a realizacao das provas"
      ]
    },
    {
      "cell_type": "code",
      "metadata": {
        "id": "4BZe3hO6eBC0"
      },
      "source": [
        "list_recurso = ['IN_BRAILLE', 'IN_AMPLIADA_24', 'IN_AMPLIADA_18', 'IN_LEDOR', 'IN_ACESSO',\n",
        "                'IN_TRANSCRICAO', 'IN_LIBRAS', 'IN_TEMPO_ADICIONAL', 'IN_LEITURA_LABIAL',\n",
        "                'IN_MESA_CADEIRA_RODAS', 'IN_MESA_CADEIRA_SEPARADA', 'IN_APOIO_PERNA',\n",
        "                'IN_GUIA_INTERPRETE', 'IN_COMPUTADOR', 'IN_CADEIRA_ESPECIAL',\n",
        "                'IN_CADEIRA_CANHOTO', 'IN_CADEIRA_ACOLCHOADA', 'IN_PROVA_DEITADO',\n",
        "                'IN_MOBILIARIO_OBESO', 'IN_LAMINA_OVERLAY', 'IN_PROTETOR_AURICULAR',\n",
        "                'IN_MEDIDOR_GLICOSE', 'IN_MAQUINA_BRAILE', 'IN_SOROBAN', 'IN_MARCA_PASSO',\n",
        "                'IN_SONDA', 'IN_MEDICAMENTOS', 'IN_SALA_INDIVIDUAL', 'IN_SALA_ESPECIAL',\n",
        "                'IN_SALA_ACOMPANHANTE', 'IN_MOBILIARIO_ESPECIFICO', 'IN_MATERIAL_ESPECIFICO',\n",
        "                'IN_NOME_SOCIAL']\n",
        "\n",
        "# Como ja existe uma coluna 'IN_SEM_RECURSO' que indica se o inscrito\n",
        "# fez ou nao um pedido de recurso especial ou especifico, basta apagar\n",
        "# as outras colunas\n",
        "df_enem2019.drop(labels=list_recurso, axis =1, inplace=True)"
      ],
      "execution_count": 15,
      "outputs": []
    },
    {
      "cell_type": "code",
      "metadata": {
        "id": "0QHl88UdkDsV"
      },
      "source": [
        "df_enem2019.drop(labels=list_especial, axis=1, inplace=True)\n",
        "df_enem2019.drop(labels=list_especifico, axis=1, inplace=True)"
      ],
      "execution_count": 16,
      "outputs": []
    },
    {
      "cell_type": "code",
      "metadata": {
        "id": "PmCnx7j-iY-Z",
        "colab": {
          "base_uri": "https://localhost:8080/"
        },
        "outputId": "9dccda08-282d-40f3-b5e3-d68227117f68"
      },
      "source": [
        "df_enem2019.shape   # Reduziu drasticamente as dimensoes"
      ],
      "execution_count": 17,
      "outputs": [
        {
          "output_type": "execute_result",
          "data": {
            "text/plain": [
              "(3596117, 45)"
            ]
          },
          "metadata": {
            "tags": []
          },
          "execution_count": 17
        }
      ]
    },
    {
      "cell_type": "markdown",
      "metadata": {
        "id": "VU4AqF9C6s59"
      },
      "source": [
        "Vendo a proporção de dados não respondidos ou não informados"
      ]
    },
    {
      "cell_type": "code",
      "metadata": {
        "colab": {
          "base_uri": "https://localhost:8080/"
        },
        "id": "63O-aLZ-0QTL",
        "outputId": "54c693fd-e8cf-4483-9d0b-0781bdf4d7ff"
      },
      "source": [
        "df_enem2019.isna().sum()"
      ],
      "execution_count": 18,
      "outputs": [
        {
          "output_type": "execute_result",
          "data": {
            "text/plain": [
              "NU_INSCRICAO                    0\n",
              "NU_ANO                          0\n",
              "CO_UF_RESIDENCIA                0\n",
              "NU_IDADE                        0\n",
              "TP_SEXO                         0\n",
              "TP_ESTADO_CIVIL                 0\n",
              "TP_COR_RACA                     0\n",
              "TP_NACIONALIDADE                0\n",
              "TP_ST_CONCLUSAO                 0\n",
              "TP_ANO_CONCLUIU                 0\n",
              "TP_ESCOLA                       0\n",
              "TP_ENSINO                 1531206\n",
              "IN_TREINEIRO                    0\n",
              "TP_DEPENDENCIA_ADM_ESC    2674795\n",
              "TP_LOCALIZACAO_ESC        2674795\n",
              "TP_SIT_FUNC_ESC           2674795\n",
              "IN_SEM_RECURSO                  0\n",
              "Q001                            0\n",
              "Q002                            0\n",
              "Q003                            0\n",
              "Q004                            0\n",
              "Q005                            0\n",
              "Q006                            0\n",
              "Q007                            0\n",
              "Q008                            0\n",
              "Q009                            0\n",
              "Q010                            0\n",
              "Q011                            0\n",
              "Q012                            0\n",
              "Q013                            0\n",
              "Q014                            0\n",
              "Q015                            0\n",
              "Q016                            0\n",
              "Q017                            0\n",
              "Q018                            0\n",
              "Q019                            0\n",
              "Q020                            0\n",
              "Q021                            0\n",
              "Q022                            0\n",
              "Q023                            0\n",
              "Q024                            0\n",
              "Q025                            0\n",
              "NU_MEDIA_NOTAS                  0\n",
              "IN_ATEND_ESPECIALIZADO          0\n",
              "IN_ATEND_ESPECIFICO             0\n",
              "dtype: int64"
            ]
          },
          "metadata": {
            "tags": []
          },
          "execution_count": 18
        }
      ]
    },
    {
      "cell_type": "code",
      "metadata": {
        "id": "J4I3DAtH68nS",
        "colab": {
          "base_uri": "https://localhost:8080/"
        },
        "outputId": "4c09800e-74df-475d-856f-86aa4735269a"
      },
      "source": [
        "print('TP_ESCOLA NR: {:.1f}%'.format(df_enem2019[df_enem2019['TP_ESCOLA']==1].shape[0]/df_enem2019.shape[0]*100))\n",
        "print('TP_ENSINO NaN: {:.1f}%'.format(df_enem2019['TP_ENSINO'].isna().sum()/df_enem2019.shape[0]*100))\n",
        "print('TP_DEPENDENCIA_ADM_ESC NaN: {:.1f}%'.format(df_enem2019['TP_DEPENDENCIA_ADM_ESC'].isna().sum()/df_enem2019.shape[0]*100))\n",
        "print('TP_LOCALIZACAO_ESC NaN: {:.1f}%'.format(df_enem2019['TP_LOCALIZACAO_ESC'].isna().sum()/df_enem2019.shape[0]*100))\n",
        "print('TP_SIT_FUNC_ESC NaN: {:.1f}%'.format(df_enem2019['TP_SIT_FUNC_ESC'].isna().sum()/df_enem2019.shape[0]*100))"
      ],
      "execution_count": 19,
      "outputs": [
        {
          "output_type": "stream",
          "text": [
            "TP_ESCOLA NR: 67.3%\n",
            "TP_ENSINO NaN: 42.6%\n",
            "TP_DEPENDENCIA_ADM_ESC NaN: 74.4%\n",
            "TP_LOCALIZACAO_ESC NaN: 74.4%\n",
            "TP_SIT_FUNC_ESC NaN: 74.4%\n"
          ],
          "name": "stdout"
        }
      ]
    },
    {
      "cell_type": "markdown",
      "metadata": {
        "id": "7qhFxKwO_-MJ"
      },
      "source": [
        "Decidiu-se considerar apenas aqueles que responderam na coluna TP_ESCOLA, assumir os dados NaN da coluna TP_ENSINO como 1 (Ensino Regular) e desconsiderar as colunas TP_DEPENDENCIA_ADM_ESC, TP_LOCALIZACAO_ESC e TP_SIT_FUNC_ESC da análise"
      ]
    },
    {
      "cell_type": "code",
      "metadata": {
        "id": "oOuidyIL_9Tk"
      },
      "source": [
        "df_enem2019 = df_enem2019[df_enem2019.TP_ESCOLA!=1]\n",
        "df_enem2019['TP_ENSINO'].fillna(value=1, axis=0, inplace=True)\n",
        "\n",
        "columns_to_drop = ['TP_DEPENDENCIA_ADM_ESC', 'TP_LOCALIZACAO_ESC', 'TP_SIT_FUNC_ESC']\n",
        "df_enem2019.drop(labels=columns_to_drop, axis=1, inplace=True)\n",
        "\n",
        "df_enem2019.reset_index(drop=True, inplace=True)"
      ],
      "execution_count": 20,
      "outputs": []
    },
    {
      "cell_type": "code",
      "metadata": {
        "id": "oS7Hi2a8_F0b",
        "colab": {
          "base_uri": "https://localhost:8080/",
          "height": 226
        },
        "outputId": "3583a024-39aa-495b-8c55-168463d0e6eb"
      },
      "source": [
        "df_enem2019.TP_ENSINO = df_enem2019.TP_ENSINO.astype('int32')\n",
        "df_enem2019.head()"
      ],
      "execution_count": 21,
      "outputs": [
        {
          "output_type": "execute_result",
          "data": {
            "text/html": [
              "<div>\n",
              "<style scoped>\n",
              "    .dataframe tbody tr th:only-of-type {\n",
              "        vertical-align: middle;\n",
              "    }\n",
              "\n",
              "    .dataframe tbody tr th {\n",
              "        vertical-align: top;\n",
              "    }\n",
              "\n",
              "    .dataframe thead th {\n",
              "        text-align: right;\n",
              "    }\n",
              "</style>\n",
              "<table border=\"1\" class=\"dataframe\">\n",
              "  <thead>\n",
              "    <tr style=\"text-align: right;\">\n",
              "      <th></th>\n",
              "      <th>NU_INSCRICAO</th>\n",
              "      <th>NU_ANO</th>\n",
              "      <th>CO_UF_RESIDENCIA</th>\n",
              "      <th>NU_IDADE</th>\n",
              "      <th>TP_SEXO</th>\n",
              "      <th>TP_ESTADO_CIVIL</th>\n",
              "      <th>TP_COR_RACA</th>\n",
              "      <th>TP_NACIONALIDADE</th>\n",
              "      <th>TP_ST_CONCLUSAO</th>\n",
              "      <th>TP_ANO_CONCLUIU</th>\n",
              "      <th>TP_ESCOLA</th>\n",
              "      <th>TP_ENSINO</th>\n",
              "      <th>IN_TREINEIRO</th>\n",
              "      <th>IN_SEM_RECURSO</th>\n",
              "      <th>Q001</th>\n",
              "      <th>Q002</th>\n",
              "      <th>Q003</th>\n",
              "      <th>Q004</th>\n",
              "      <th>Q005</th>\n",
              "      <th>Q006</th>\n",
              "      <th>Q007</th>\n",
              "      <th>Q008</th>\n",
              "      <th>Q009</th>\n",
              "      <th>Q010</th>\n",
              "      <th>Q011</th>\n",
              "      <th>Q012</th>\n",
              "      <th>Q013</th>\n",
              "      <th>Q014</th>\n",
              "      <th>Q015</th>\n",
              "      <th>Q016</th>\n",
              "      <th>Q017</th>\n",
              "      <th>Q018</th>\n",
              "      <th>Q019</th>\n",
              "      <th>Q020</th>\n",
              "      <th>Q021</th>\n",
              "      <th>Q022</th>\n",
              "      <th>Q023</th>\n",
              "      <th>Q024</th>\n",
              "      <th>Q025</th>\n",
              "      <th>NU_MEDIA_NOTAS</th>\n",
              "      <th>IN_ATEND_ESPECIALIZADO</th>\n",
              "      <th>IN_ATEND_ESPECIFICO</th>\n",
              "    </tr>\n",
              "  </thead>\n",
              "  <tbody>\n",
              "    <tr>\n",
              "      <th>0</th>\n",
              "      <td>190001004629</td>\n",
              "      <td>2019</td>\n",
              "      <td>15</td>\n",
              "      <td>18</td>\n",
              "      <td>F</td>\n",
              "      <td>1</td>\n",
              "      <td>1</td>\n",
              "      <td>1</td>\n",
              "      <td>2</td>\n",
              "      <td>0</td>\n",
              "      <td>3</td>\n",
              "      <td>1</td>\n",
              "      <td>0</td>\n",
              "      <td>0</td>\n",
              "      <td>H</td>\n",
              "      <td>E</td>\n",
              "      <td>A</td>\n",
              "      <td>D</td>\n",
              "      <td>3</td>\n",
              "      <td>C</td>\n",
              "      <td>D</td>\n",
              "      <td>E</td>\n",
              "      <td>E</td>\n",
              "      <td>C</td>\n",
              "      <td>A</td>\n",
              "      <td>B</td>\n",
              "      <td>C</td>\n",
              "      <td>B</td>\n",
              "      <td>A</td>\n",
              "      <td>B</td>\n",
              "      <td>A</td>\n",
              "      <td>A</td>\n",
              "      <td>D</td>\n",
              "      <td>B</td>\n",
              "      <td>B</td>\n",
              "      <td>D</td>\n",
              "      <td>A</td>\n",
              "      <td>C</td>\n",
              "      <td>B</td>\n",
              "      <td>581.400024</td>\n",
              "      <td>0</td>\n",
              "      <td>0</td>\n",
              "    </tr>\n",
              "    <tr>\n",
              "      <th>1</th>\n",
              "      <td>190001004634</td>\n",
              "      <td>2019</td>\n",
              "      <td>15</td>\n",
              "      <td>26</td>\n",
              "      <td>F</td>\n",
              "      <td>0</td>\n",
              "      <td>3</td>\n",
              "      <td>1</td>\n",
              "      <td>2</td>\n",
              "      <td>0</td>\n",
              "      <td>2</td>\n",
              "      <td>1</td>\n",
              "      <td>0</td>\n",
              "      <td>0</td>\n",
              "      <td>B</td>\n",
              "      <td>B</td>\n",
              "      <td>B</td>\n",
              "      <td>B</td>\n",
              "      <td>4</td>\n",
              "      <td>B</td>\n",
              "      <td>A</td>\n",
              "      <td>B</td>\n",
              "      <td>B</td>\n",
              "      <td>A</td>\n",
              "      <td>A</td>\n",
              "      <td>B</td>\n",
              "      <td>A</td>\n",
              "      <td>A</td>\n",
              "      <td>A</td>\n",
              "      <td>A</td>\n",
              "      <td>A</td>\n",
              "      <td>A</td>\n",
              "      <td>B</td>\n",
              "      <td>A</td>\n",
              "      <td>A</td>\n",
              "      <td>B</td>\n",
              "      <td>A</td>\n",
              "      <td>A</td>\n",
              "      <td>A</td>\n",
              "      <td>423.460022</td>\n",
              "      <td>0</td>\n",
              "      <td>0</td>\n",
              "    </tr>\n",
              "    <tr>\n",
              "      <th>2</th>\n",
              "      <td>190001004642</td>\n",
              "      <td>2019</td>\n",
              "      <td>15</td>\n",
              "      <td>17</td>\n",
              "      <td>F</td>\n",
              "      <td>1</td>\n",
              "      <td>3</td>\n",
              "      <td>1</td>\n",
              "      <td>2</td>\n",
              "      <td>0</td>\n",
              "      <td>2</td>\n",
              "      <td>1</td>\n",
              "      <td>0</td>\n",
              "      <td>0</td>\n",
              "      <td>B</td>\n",
              "      <td>D</td>\n",
              "      <td>B</td>\n",
              "      <td>B</td>\n",
              "      <td>3</td>\n",
              "      <td>C</td>\n",
              "      <td>A</td>\n",
              "      <td>B</td>\n",
              "      <td>C</td>\n",
              "      <td>A</td>\n",
              "      <td>B</td>\n",
              "      <td>B</td>\n",
              "      <td>A</td>\n",
              "      <td>A</td>\n",
              "      <td>A</td>\n",
              "      <td>A</td>\n",
              "      <td>A</td>\n",
              "      <td>A</td>\n",
              "      <td>B</td>\n",
              "      <td>B</td>\n",
              "      <td>A</td>\n",
              "      <td>D</td>\n",
              "      <td>A</td>\n",
              "      <td>A</td>\n",
              "      <td>A</td>\n",
              "      <td>461.259949</td>\n",
              "      <td>0</td>\n",
              "      <td>0</td>\n",
              "    </tr>\n",
              "    <tr>\n",
              "      <th>3</th>\n",
              "      <td>190001004643</td>\n",
              "      <td>2019</td>\n",
              "      <td>15</td>\n",
              "      <td>17</td>\n",
              "      <td>F</td>\n",
              "      <td>1</td>\n",
              "      <td>3</td>\n",
              "      <td>1</td>\n",
              "      <td>2</td>\n",
              "      <td>0</td>\n",
              "      <td>2</td>\n",
              "      <td>1</td>\n",
              "      <td>0</td>\n",
              "      <td>0</td>\n",
              "      <td>E</td>\n",
              "      <td>E</td>\n",
              "      <td>B</td>\n",
              "      <td>B</td>\n",
              "      <td>9</td>\n",
              "      <td>C</td>\n",
              "      <td>A</td>\n",
              "      <td>B</td>\n",
              "      <td>D</td>\n",
              "      <td>A</td>\n",
              "      <td>A</td>\n",
              "      <td>B</td>\n",
              "      <td>A</td>\n",
              "      <td>A</td>\n",
              "      <td>A</td>\n",
              "      <td>A</td>\n",
              "      <td>A</td>\n",
              "      <td>A</td>\n",
              "      <td>D</td>\n",
              "      <td>A</td>\n",
              "      <td>A</td>\n",
              "      <td>C</td>\n",
              "      <td>A</td>\n",
              "      <td>A</td>\n",
              "      <td>A</td>\n",
              "      <td>468.200012</td>\n",
              "      <td>0</td>\n",
              "      <td>0</td>\n",
              "    </tr>\n",
              "    <tr>\n",
              "      <th>4</th>\n",
              "      <td>190001004645</td>\n",
              "      <td>2019</td>\n",
              "      <td>15</td>\n",
              "      <td>18</td>\n",
              "      <td>F</td>\n",
              "      <td>1</td>\n",
              "      <td>3</td>\n",
              "      <td>1</td>\n",
              "      <td>2</td>\n",
              "      <td>0</td>\n",
              "      <td>2</td>\n",
              "      <td>1</td>\n",
              "      <td>0</td>\n",
              "      <td>0</td>\n",
              "      <td>E</td>\n",
              "      <td>E</td>\n",
              "      <td>B</td>\n",
              "      <td>B</td>\n",
              "      <td>8</td>\n",
              "      <td>D</td>\n",
              "      <td>A</td>\n",
              "      <td>B</td>\n",
              "      <td>B</td>\n",
              "      <td>A</td>\n",
              "      <td>B</td>\n",
              "      <td>B</td>\n",
              "      <td>A</td>\n",
              "      <td>B</td>\n",
              "      <td>A</td>\n",
              "      <td>A</td>\n",
              "      <td>A</td>\n",
              "      <td>A</td>\n",
              "      <td>B</td>\n",
              "      <td>A</td>\n",
              "      <td>A</td>\n",
              "      <td>B</td>\n",
              "      <td>A</td>\n",
              "      <td>A</td>\n",
              "      <td>A</td>\n",
              "      <td>514.400024</td>\n",
              "      <td>0</td>\n",
              "      <td>0</td>\n",
              "    </tr>\n",
              "  </tbody>\n",
              "</table>\n",
              "</div>"
            ],
            "text/plain": [
              "   NU_INSCRICAO  NU_ANO  ...  IN_ATEND_ESPECIALIZADO  IN_ATEND_ESPECIFICO\n",
              "0  190001004629    2019  ...                       0                    0\n",
              "1  190001004634    2019  ...                       0                    0\n",
              "2  190001004642    2019  ...                       0                    0\n",
              "3  190001004643    2019  ...                       0                    0\n",
              "4  190001004645    2019  ...                       0                    0\n",
              "\n",
              "[5 rows x 42 columns]"
            ]
          },
          "metadata": {
            "tags": []
          },
          "execution_count": 21
        }
      ]
    },
    {
      "cell_type": "markdown",
      "metadata": {
        "id": "ZMconI17Jj3e"
      },
      "source": [
        "Organizando as colunas dicotômicas"
      ]
    },
    {
      "cell_type": "code",
      "metadata": {
        "id": "fzUNHuV2JjDH"
      },
      "source": [
        "# Codificando a variavel dicotomica em 0 e 1\n",
        "df_enem2019.TP_SEXO.replace(to_replace=['M', 'F'], value=[0, 1], inplace=True)\n",
        "df_enem2019.TP_SEXO = df_enem2019.TP_SEXO.astype('int32')"
      ],
      "execution_count": 22,
      "outputs": []
    },
    {
      "cell_type": "markdown",
      "metadata": {
        "id": "Cjg-WalOwo7r"
      },
      "source": [
        "Organizando as colunas categóricas"
      ]
    },
    {
      "cell_type": "code",
      "metadata": {
        "id": "i0nndxiL3muI"
      },
      "source": [
        "list_to_replace = list(string.ascii_uppercase[0:17])\n",
        "list_value = list(range(0,17))"
      ],
      "execution_count": 25,
      "outputs": []
    },
    {
      "cell_type": "code",
      "metadata": {
        "id": "kb_0i8xfu-7o"
      },
      "source": [
        "# Codificando as variáveis categóricas (A, B, C,...) em 1, 2, 3... \n",
        "%%time\n",
        "df_enem2019.replace(to_replace=list_to_replace, value=list_value, inplace=True) # Toma tempo"
      ],
      "execution_count": 26,
      "outputs": []
    },
    {
      "cell_type": "code",
      "metadata": {
        "colab": {
          "base_uri": "https://localhost:8080/",
          "height": 226
        },
        "id": "mnTCJNj51Z3p",
        "outputId": "97d27058-5b65-400c-caf9-a271812aa75d"
      },
      "source": [
        "df_enem2019.head()"
      ],
      "execution_count": 27,
      "outputs": [
        {
          "output_type": "execute_result",
          "data": {
            "text/html": [
              "<div>\n",
              "<style scoped>\n",
              "    .dataframe tbody tr th:only-of-type {\n",
              "        vertical-align: middle;\n",
              "    }\n",
              "\n",
              "    .dataframe tbody tr th {\n",
              "        vertical-align: top;\n",
              "    }\n",
              "\n",
              "    .dataframe thead th {\n",
              "        text-align: right;\n",
              "    }\n",
              "</style>\n",
              "<table border=\"1\" class=\"dataframe\">\n",
              "  <thead>\n",
              "    <tr style=\"text-align: right;\">\n",
              "      <th></th>\n",
              "      <th>NU_INSCRICAO</th>\n",
              "      <th>NU_ANO</th>\n",
              "      <th>CO_UF_RESIDENCIA</th>\n",
              "      <th>NU_IDADE</th>\n",
              "      <th>TP_SEXO</th>\n",
              "      <th>TP_ESTADO_CIVIL</th>\n",
              "      <th>TP_COR_RACA</th>\n",
              "      <th>TP_NACIONALIDADE</th>\n",
              "      <th>TP_ST_CONCLUSAO</th>\n",
              "      <th>TP_ANO_CONCLUIU</th>\n",
              "      <th>TP_ESCOLA</th>\n",
              "      <th>TP_ENSINO</th>\n",
              "      <th>IN_TREINEIRO</th>\n",
              "      <th>IN_SEM_RECURSO</th>\n",
              "      <th>Q001</th>\n",
              "      <th>Q002</th>\n",
              "      <th>Q003</th>\n",
              "      <th>Q004</th>\n",
              "      <th>Q005</th>\n",
              "      <th>Q006</th>\n",
              "      <th>Q007</th>\n",
              "      <th>Q008</th>\n",
              "      <th>Q009</th>\n",
              "      <th>Q010</th>\n",
              "      <th>Q011</th>\n",
              "      <th>Q012</th>\n",
              "      <th>Q013</th>\n",
              "      <th>Q014</th>\n",
              "      <th>Q015</th>\n",
              "      <th>Q016</th>\n",
              "      <th>Q017</th>\n",
              "      <th>Q018</th>\n",
              "      <th>Q019</th>\n",
              "      <th>Q020</th>\n",
              "      <th>Q021</th>\n",
              "      <th>Q022</th>\n",
              "      <th>Q023</th>\n",
              "      <th>Q024</th>\n",
              "      <th>Q025</th>\n",
              "      <th>NU_MEDIA_NOTAS</th>\n",
              "      <th>IN_ATEND_ESPECIALIZADO</th>\n",
              "      <th>IN_ATEND_ESPECIFICO</th>\n",
              "    </tr>\n",
              "  </thead>\n",
              "  <tbody>\n",
              "    <tr>\n",
              "      <th>0</th>\n",
              "      <td>190001004629</td>\n",
              "      <td>2019</td>\n",
              "      <td>15</td>\n",
              "      <td>18</td>\n",
              "      <td>1</td>\n",
              "      <td>1</td>\n",
              "      <td>1</td>\n",
              "      <td>1</td>\n",
              "      <td>2</td>\n",
              "      <td>0</td>\n",
              "      <td>3</td>\n",
              "      <td>1</td>\n",
              "      <td>0</td>\n",
              "      <td>0</td>\n",
              "      <td>7</td>\n",
              "      <td>4</td>\n",
              "      <td>0</td>\n",
              "      <td>3</td>\n",
              "      <td>3</td>\n",
              "      <td>2</td>\n",
              "      <td>3</td>\n",
              "      <td>4</td>\n",
              "      <td>4</td>\n",
              "      <td>2</td>\n",
              "      <td>0</td>\n",
              "      <td>1</td>\n",
              "      <td>2</td>\n",
              "      <td>1</td>\n",
              "      <td>0</td>\n",
              "      <td>1</td>\n",
              "      <td>0</td>\n",
              "      <td>0</td>\n",
              "      <td>3</td>\n",
              "      <td>1</td>\n",
              "      <td>1</td>\n",
              "      <td>3</td>\n",
              "      <td>0</td>\n",
              "      <td>2</td>\n",
              "      <td>1</td>\n",
              "      <td>581.400024</td>\n",
              "      <td>0</td>\n",
              "      <td>0</td>\n",
              "    </tr>\n",
              "    <tr>\n",
              "      <th>1</th>\n",
              "      <td>190001004634</td>\n",
              "      <td>2019</td>\n",
              "      <td>15</td>\n",
              "      <td>26</td>\n",
              "      <td>1</td>\n",
              "      <td>0</td>\n",
              "      <td>3</td>\n",
              "      <td>1</td>\n",
              "      <td>2</td>\n",
              "      <td>0</td>\n",
              "      <td>2</td>\n",
              "      <td>1</td>\n",
              "      <td>0</td>\n",
              "      <td>0</td>\n",
              "      <td>1</td>\n",
              "      <td>1</td>\n",
              "      <td>1</td>\n",
              "      <td>1</td>\n",
              "      <td>4</td>\n",
              "      <td>1</td>\n",
              "      <td>0</td>\n",
              "      <td>1</td>\n",
              "      <td>1</td>\n",
              "      <td>0</td>\n",
              "      <td>0</td>\n",
              "      <td>1</td>\n",
              "      <td>0</td>\n",
              "      <td>0</td>\n",
              "      <td>0</td>\n",
              "      <td>0</td>\n",
              "      <td>0</td>\n",
              "      <td>0</td>\n",
              "      <td>1</td>\n",
              "      <td>0</td>\n",
              "      <td>0</td>\n",
              "      <td>1</td>\n",
              "      <td>0</td>\n",
              "      <td>0</td>\n",
              "      <td>0</td>\n",
              "      <td>423.460022</td>\n",
              "      <td>0</td>\n",
              "      <td>0</td>\n",
              "    </tr>\n",
              "    <tr>\n",
              "      <th>2</th>\n",
              "      <td>190001004642</td>\n",
              "      <td>2019</td>\n",
              "      <td>15</td>\n",
              "      <td>17</td>\n",
              "      <td>1</td>\n",
              "      <td>1</td>\n",
              "      <td>3</td>\n",
              "      <td>1</td>\n",
              "      <td>2</td>\n",
              "      <td>0</td>\n",
              "      <td>2</td>\n",
              "      <td>1</td>\n",
              "      <td>0</td>\n",
              "      <td>0</td>\n",
              "      <td>1</td>\n",
              "      <td>3</td>\n",
              "      <td>1</td>\n",
              "      <td>1</td>\n",
              "      <td>3</td>\n",
              "      <td>2</td>\n",
              "      <td>0</td>\n",
              "      <td>1</td>\n",
              "      <td>2</td>\n",
              "      <td>0</td>\n",
              "      <td>1</td>\n",
              "      <td>1</td>\n",
              "      <td>0</td>\n",
              "      <td>0</td>\n",
              "      <td>0</td>\n",
              "      <td>0</td>\n",
              "      <td>0</td>\n",
              "      <td>0</td>\n",
              "      <td>1</td>\n",
              "      <td>1</td>\n",
              "      <td>0</td>\n",
              "      <td>3</td>\n",
              "      <td>0</td>\n",
              "      <td>0</td>\n",
              "      <td>0</td>\n",
              "      <td>461.259949</td>\n",
              "      <td>0</td>\n",
              "      <td>0</td>\n",
              "    </tr>\n",
              "    <tr>\n",
              "      <th>3</th>\n",
              "      <td>190001004643</td>\n",
              "      <td>2019</td>\n",
              "      <td>15</td>\n",
              "      <td>17</td>\n",
              "      <td>1</td>\n",
              "      <td>1</td>\n",
              "      <td>3</td>\n",
              "      <td>1</td>\n",
              "      <td>2</td>\n",
              "      <td>0</td>\n",
              "      <td>2</td>\n",
              "      <td>1</td>\n",
              "      <td>0</td>\n",
              "      <td>0</td>\n",
              "      <td>4</td>\n",
              "      <td>4</td>\n",
              "      <td>1</td>\n",
              "      <td>1</td>\n",
              "      <td>9</td>\n",
              "      <td>2</td>\n",
              "      <td>0</td>\n",
              "      <td>1</td>\n",
              "      <td>3</td>\n",
              "      <td>0</td>\n",
              "      <td>0</td>\n",
              "      <td>1</td>\n",
              "      <td>0</td>\n",
              "      <td>0</td>\n",
              "      <td>0</td>\n",
              "      <td>0</td>\n",
              "      <td>0</td>\n",
              "      <td>0</td>\n",
              "      <td>3</td>\n",
              "      <td>0</td>\n",
              "      <td>0</td>\n",
              "      <td>2</td>\n",
              "      <td>0</td>\n",
              "      <td>0</td>\n",
              "      <td>0</td>\n",
              "      <td>468.200012</td>\n",
              "      <td>0</td>\n",
              "      <td>0</td>\n",
              "    </tr>\n",
              "    <tr>\n",
              "      <th>4</th>\n",
              "      <td>190001004645</td>\n",
              "      <td>2019</td>\n",
              "      <td>15</td>\n",
              "      <td>18</td>\n",
              "      <td>1</td>\n",
              "      <td>1</td>\n",
              "      <td>3</td>\n",
              "      <td>1</td>\n",
              "      <td>2</td>\n",
              "      <td>0</td>\n",
              "      <td>2</td>\n",
              "      <td>1</td>\n",
              "      <td>0</td>\n",
              "      <td>0</td>\n",
              "      <td>4</td>\n",
              "      <td>4</td>\n",
              "      <td>1</td>\n",
              "      <td>1</td>\n",
              "      <td>8</td>\n",
              "      <td>3</td>\n",
              "      <td>0</td>\n",
              "      <td>1</td>\n",
              "      <td>1</td>\n",
              "      <td>0</td>\n",
              "      <td>1</td>\n",
              "      <td>1</td>\n",
              "      <td>0</td>\n",
              "      <td>1</td>\n",
              "      <td>0</td>\n",
              "      <td>0</td>\n",
              "      <td>0</td>\n",
              "      <td>0</td>\n",
              "      <td>1</td>\n",
              "      <td>0</td>\n",
              "      <td>0</td>\n",
              "      <td>1</td>\n",
              "      <td>0</td>\n",
              "      <td>0</td>\n",
              "      <td>0</td>\n",
              "      <td>514.400024</td>\n",
              "      <td>0</td>\n",
              "      <td>0</td>\n",
              "    </tr>\n",
              "  </tbody>\n",
              "</table>\n",
              "</div>"
            ],
            "text/plain": [
              "   NU_INSCRICAO  NU_ANO  ...  IN_ATEND_ESPECIALIZADO  IN_ATEND_ESPECIFICO\n",
              "0  190001004629    2019  ...                       0                    0\n",
              "1  190001004634    2019  ...                       0                    0\n",
              "2  190001004642    2019  ...                       0                    0\n",
              "3  190001004643    2019  ...                       0                    0\n",
              "4  190001004645    2019  ...                       0                    0\n",
              "\n",
              "[5 rows x 42 columns]"
            ]
          },
          "metadata": {
            "tags": []
          },
          "execution_count": 27
        }
      ]
    },
    {
      "cell_type": "code",
      "metadata": {
        "colab": {
          "base_uri": "https://localhost:8080/"
        },
        "id": "VcvIApQ114oC",
        "outputId": "b16ff015-107d-4a6e-e00b-0ced8e611e1b"
      },
      "source": [
        "df_enem2019.isna().sum()"
      ],
      "execution_count": 28,
      "outputs": [
        {
          "output_type": "execute_result",
          "data": {
            "text/plain": [
              "NU_INSCRICAO              0\n",
              "NU_ANO                    0\n",
              "CO_UF_RESIDENCIA          0\n",
              "NU_IDADE                  0\n",
              "TP_SEXO                   0\n",
              "TP_ESTADO_CIVIL           0\n",
              "TP_COR_RACA               0\n",
              "TP_NACIONALIDADE          0\n",
              "TP_ST_CONCLUSAO           0\n",
              "TP_ANO_CONCLUIU           0\n",
              "TP_ESCOLA                 0\n",
              "TP_ENSINO                 0\n",
              "IN_TREINEIRO              0\n",
              "IN_SEM_RECURSO            0\n",
              "Q001                      0\n",
              "Q002                      0\n",
              "Q003                      0\n",
              "Q004                      0\n",
              "Q005                      0\n",
              "Q006                      0\n",
              "Q007                      0\n",
              "Q008                      0\n",
              "Q009                      0\n",
              "Q010                      0\n",
              "Q011                      0\n",
              "Q012                      0\n",
              "Q013                      0\n",
              "Q014                      0\n",
              "Q015                      0\n",
              "Q016                      0\n",
              "Q017                      0\n",
              "Q018                      0\n",
              "Q019                      0\n",
              "Q020                      0\n",
              "Q021                      0\n",
              "Q022                      0\n",
              "Q023                      0\n",
              "Q024                      0\n",
              "Q025                      0\n",
              "NU_MEDIA_NOTAS            0\n",
              "IN_ATEND_ESPECIALIZADO    0\n",
              "IN_ATEND_ESPECIFICO       0\n",
              "dtype: int64"
            ]
          },
          "metadata": {
            "tags": []
          },
          "execution_count": 28
        }
      ]
    },
    {
      "cell_type": "markdown",
      "metadata": {
        "id": "CEsdCAkBaYq0"
      },
      "source": [
        "Visualização da comparação das variáveis *TP_SEXO* e *IN_ATEND_ESPECIFICO* (que apresentaram correlações maiores) com efeito na Nota Média no ENEM 2019 e da distribuição das notas entre as categorias."
      ]
    },
    {
      "cell_type": "code",
      "metadata": {
        "id": "3rwZT3qfJkRQ"
      },
      "source": [
        "sns.set_style('white')\n",
        "fig, ax = plt.subplots(nrows=2, ncols=2, figsize=(28, 17))\n",
        "\n",
        "# TP_SEXO - BOXPLOT\n",
        "g1 = sns.boxplot(data=df_enem2019,\n",
        "                 x='TP_SEXO',\n",
        "                 y='NU_MEDIA_NOTAS',\n",
        "                 ax=ax[0][0])\n",
        "g1.set_title('Representação em Quartiles da variável TP_SEXO')\n",
        "g1.set_xticklabels(['Masculino', 'Feminino'])     # Sendo 0 - Masc e 1 - Fem\n",
        "g1.set_xlabel('Sexo')\n",
        "g1.set_ylabel('Nota Média')\n",
        "\n",
        "# TP_SEXO - KDE\n",
        "g2 = sns.kdeplot(data=df_enem2019,\n",
        "                 x='NU_MEDIA_NOTAS',\n",
        "                 hue='TP_SEXO',\n",
        "                 fill=True,\n",
        "                 ax=ax[0][1])\n",
        "g2.set_title('Distribuição da variável TP_SEXO')\n",
        "g2.legend(['Feminino', 'Masculino']).set_title('Sexo')\n",
        "g2.set_xlabel('Nota Média')\n",
        "g2.set_ylabel('Densidade')\n",
        "\n",
        "# IN_ATEND_ESPECIFICO - BOXPLOT\n",
        "g3 = sns.boxplot(data=df_enem2019,\n",
        "                 x='IN_ATEND_ESPECIFICO',\n",
        "                 y='NU_MEDIA_NOTAS',\n",
        "                 ax=ax[1][0])\n",
        "g3.set_title('Representação em Quartiles da variável IN_ATEND_ESPECIFICO')\n",
        "g3.set_xticklabels(['Sem Atendimento', 'Com Atendimento'])     # Sendo 0 - Masc e 1 - Fem\n",
        "g3.set_xlabel('Índice de Solicitação de Atendimento Especifico')\n",
        "g3.set_ylabel('Nota Média')\n",
        "\n",
        "# IN_ATEND_ESPECIFICO - KDE\n",
        "g4 = sns.kdeplot(data=df_enem2019,\n",
        "                 x='NU_MEDIA_NOTAS',\n",
        "                 hue='IN_ATEND_ESPECIFICO',\n",
        "                 fill=True,\n",
        "                 ax=ax[1][1])\n",
        "g4.set_title('Distribuição da variável IN_ATEND_ESPECIFICO')\n",
        "g4.legend(['Sim', 'Não']).set_title('Atendimento Especifico')\n",
        "g4.set_xlabel('Nota Média')\n",
        "g4.set_ylabel('Densidade')\n",
        "\n",
        "\n",
        "plt.show()"
      ],
      "execution_count": null,
      "outputs": []
    },
    {
      "cell_type": "markdown",
      "metadata": {
        "id": "_VfpleOa2dqD"
      },
      "source": [
        "Plot da distribuição das notas de acordo com as idades"
      ]
    },
    {
      "cell_type": "code",
      "metadata": {
        "id": "i9cCvT0OD6yF"
      },
      "source": [
        "sns.set_style('white')\n",
        "fig, ax = plt.subplots(nrows=1, ncols=1, figsize=(28, 14))\n",
        "\n",
        "# IN_ATEND_ESPECIFICO - BOXPLOT\n",
        "g3 = sns.boxplot(data=df_enem2019,\n",
        "                 x='NU_IDADE',\n",
        "                 y='NU_MEDIA_NOTAS')\n",
        "g3.set_title('Representação em Quartiles da variável NU_IDADE')\n",
        "#g3.set_xticklabels(['Sem Atendimento', 'Com Atendimento'])     # Sendo 0 - Masc e 1 - Fem\n",
        "g3.set_xlabel('Idades')\n",
        "g3.set_ylabel('Nota Média')"
      ],
      "execution_count": null,
      "outputs": []
    },
    {
      "cell_type": "markdown",
      "metadata": {
        "id": "7XNfpe672QKC"
      },
      "source": [
        "Plot da distribuição de notas por estados brasileiros"
      ]
    },
    {
      "cell_type": "code",
      "metadata": {
        "id": "qo5FqfjMhHXa"
      },
      "source": [
        "sns.set_style('white')\n",
        "fig, ax = plt.subplots(nrows=1, ncols=1, figsize=(28, 14))\n",
        "\n",
        "# IN_ATEND_ESPECIFICO - BOXPLOT\n",
        "g3 = sns.boxplot(data=df_enem2019,\n",
        "                 x='CO_UF_RESIDENCIA',\n",
        "                 y='NU_MEDIA_NOTAS')\n",
        "g3.set_title('Representação em Quartiles da variável NU_IDADE')\n",
        "#g3.set_xticklabels(['Sem Atendimento', 'Com Atendimento'])     # Sendo 0 - Masc e 1 - Fem\n",
        "g3.set_xlabel('Idades')\n",
        "g3.set_ylabel('Nota Média')"
      ],
      "execution_count": null,
      "outputs": []
    },
    {
      "cell_type": "markdown",
      "metadata": {
        "id": "MJzeCPhk2yLS"
      },
      "source": [
        "# Salvando o DataFrame"
      ]
    },
    {
      "cell_type": "markdown",
      "metadata": {
        "id": "USg9DZ1n1CZE"
      },
      "source": [
        "Salvar o DataFrame em um arquivo .csv para a utilização de algoritmo de ML."
      ]
    },
    {
      "cell_type": "code",
      "metadata": {
        "id": "nNEf8jD1x9Tp"
      },
      "source": [
        "savedata_path = '/content/drive/MyDrive/Colab Notebooks/Dados/DF_ENEM_2019.csv'\n",
        "with open(savedata_path, 'w') as f:\n",
        "  df_enem2019.to_csv(f, index=False, encoding='latin-1')"
      ],
      "execution_count": null,
      "outputs": []
    },
    {
      "cell_type": "code",
      "metadata": {
        "id": "SyI34jWbLE5O"
      },
      "source": [
        "df_enem2019.shape"
      ],
      "execution_count": null,
      "outputs": []
    },
    {
      "cell_type": "code",
      "metadata": {
        "id": "3aZ-9nzdNS2x"
      },
      "source": [
        ""
      ],
      "execution_count": null,
      "outputs": []
    }
  ]
}